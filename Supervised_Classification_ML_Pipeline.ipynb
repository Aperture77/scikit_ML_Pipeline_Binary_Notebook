{
 "cells": [
  {
   "cell_type": "markdown",
   "metadata": {},
   "source": [
    "# A Rigorous Machine Learning Pipeline (Supervised Binary Classification):\n",
    "* Author: Ryan Urbanowicz, PhD with contributions from Robert Zhang (WH '22, SEAS '22)\n",
    "*  Affiliation: University of Pennsylvania - Department of Biostatistics, Epidemiology, and Informatics & Institute for Biomedical Informatics (IBI) \n",
    "* Date: 5/13/20\n",
    "* Requirements: Anaconda (with Python 3), skrebate\n",
    "    - Install most recent version of anaconda\n",
    "    - [pip install skrebate]\n",
    "    - [pip install xgboost]\n",
    "    - [pip install lightgbm]\n",
    "    - [pip install optuna]\n",
    "    - [pip install -U plotly>=4.0.0]\n",
    "    - [conda install -c plotly plotly-orca]\n",
    "\n",
    "***\n",
    "## Introduction\n",
    "This notebook presents an example of a 'rigorous' machine learning (ML) analysis pipeline that could be reasonablly applied to various supervised learning classification tasks. This pipeline was developed with biomedical data mining/modeling in mind. The notebook is set up with the following assumptions:\n",
    "- The user is starting from a single binary class dataset with a column for class labels (0 for major class, 1 for minor class), some number of potentially predictive feature/variables as columns, and (optionaly) a column providing instance id's and potentially other columns that should be excluded from analysis\n",
    "- The user realizes that any unique dataset may require its own unique data cleaning, feature transformation, or feature engineering in order to maximize ML performance\n",
    "- This pipeline is not necesarily ideal for all datasets, however it offers a rigorous starting point for analysis.\n",
    "- Target dataset is saved in the working directory contiaining this notebook\n",
    "- Target dataset is a .txt file (however notebook code may be modified to work with other file types)\n",
    "- User knows the column names corresponding to all features to include in analysis as well as the column name corresponding to the outcome/endpoint/class to be included \n",
    "- All variables in the dataset have been numerically encoded (otherwise additional data preprocessing may be needed)\n",
    "\n",
    "## Notebook Organization\n",
    "#### Part 1: Exploratory analysis, data cleaning, and creating n-fold CV partitioned datasets \n",
    "- Instances missing a class value are excluded\n",
    "- The user can indicate other columns that should be excluded from the analysis\n",
    "- The user can turn on/off the option to apply standard scaling to the data prior to CV partitioning or imputation\n",
    "    - We use no scaling by default. This is because most methods should work properly without it, and in applying the model downstream, it is difficult to properly scale new data so that models may be re-applied later.\n",
    "    - ANN modeling is sensitive to feature scaling, thus without it, performance not be as good. However this is only one of many challenges in getting ANN to perform well. \n",
    "- The user can turn on/off the option to impute missing values following CV partitioning\n",
    "- The user can turn on/off the option for the code to automatically attempt to discriminate nominal from ordinal features\n",
    "- The user can choose the number of CV partitions as well as the strategy for CV partitioning (i.e.  random (R), stratified (S), and matched (M) \n",
    "- CV training and testing datasets are saved as .txt files so that the same partitions may be analyzed external to this code\n",
    "    \n",
    "#### Part 2: Feature selection\n",
    "- The user can turn on/off the option to filter out the lowest scoring features in the data (i.e. to conduct not just feature importance evaluation but feature selection)\n",
    "- Feature importance evaluation and feature selection are conducted within each respective CV training partition\n",
    "- The pipeline reports feature importance estimates via two feature selection algorithms:\n",
    "    - Mutual Information: Proficient at detecting univariate associations\n",
    "    - MultiSURF: Proficient at detecting univariate associations, 2-way epistatic interactions, and heterogeneous associations\n",
    "    \n",
    "- When selected by the user, feature selection conservatively keeps any feature identified as 'potentially relevant' (i.e. score > 0) by either algorithm\n",
    "- Since MultiSURF scales quadratically with the number of training instances, there is an option to utilize a random subset of instances when running this algorithm to save computational time\n",
    "    \n",
    "#### Part 3: Machine learning modeling\n",
    "- Seven ML modeling algorithms have been implemented in this pipeline:\n",
    "    - Logistic Regression (scikit learn)\n",
    "    - Decision Tree (scikit learn)\n",
    "    - Random Forest (scikit learn)\n",
    "    - Naïve Bayes (scikit learn)\n",
    "    - XGBoost (separate python package)\n",
    "    - LightGBM (separate python package)\n",
    "    - SVM (scikit learn)\n",
    "    - ANN (scikit learn)\n",
    "    - ExSTraCS (v2.0.2.1) - a Learning Classifier System (LCS) algorithm manually configured to run in this notebook\n",
    "- User can select any subset of these methods to run\n",
    "- ML modeling is conducted within each respective CV training partition on the respective feature subset selected within the given CV partition\n",
    "- ML modeling begins with a hyperparameter sweep conducted with a grid search of hard coded run parameter options (user can edit as needed)\n",
    "- Balanced accuracy is applied as the evaluation metric for the hyperparameter sweep\n",
    "\n",
    "#### Part 4: ML feature importance vizualization\n",
    "\n",
    "***\n",
    "## Schematic of ML Analysis Pipeline\n",
    "\n",
    "<img src=\"ML pipeline schematic.png\" />"
   ]
  },
  {
   "cell_type": "markdown",
   "metadata": {},
   "source": [
    "---\n",
    "# Import Necessary Python Packages "
   ]
  },
  {
   "cell_type": "code",
   "execution_count": 1,
   "metadata": {},
   "outputs": [
    {
     "name": "stderr",
     "output_type": "stream",
     "text": [
      "/Library/Frameworks/Python.framework/Versions/3.7/lib/python3.7/site-packages/sklearn/externals/joblib/__init__.py:15: FutureWarning: sklearn.externals.joblib is deprecated in 0.21 and will be removed in 0.23. Please import this functionality directly from joblib, which can be installed with: pip install joblib. If this warning is raised when loading pickled models, you may need to re-serialize those models with scikit-learn 0.21+.\n",
      "  warnings.warn(msg, category=FutureWarning)\n"
     ]
    }
   ],
   "source": [
    "import pandas as pd\n",
    "import numpy as np\n",
    "import os\n",
    "import random\n",
    "import copy\n",
    "import sys\n",
    "import pickle\n",
    "import time\n",
    "\n",
    "from data_processing_methods import cv_partitioner\n",
    "from data_processing_methods import identifyCategoricalFeatures\n",
    "from data_processing_methods import imputeCVData\n",
    "from data_processing_methods import dataScaling\n",
    "\n",
    "from feature_selection_methods import reportAllFS\n",
    "from feature_selection_methods import reportTopFS\n",
    "from feature_selection_methods import sort_save_fi_scores\n",
    "from feature_selection_methods import sort_save_fs_fi_scores\n",
    "from feature_selection_methods import run_mi\n",
    "from feature_selection_methods import run_multisurf\n",
    "from feature_selection_methods import selectFeatures\n",
    "from feature_selection_methods import genFilteredDatasets\n",
    "\n",
    "from modeling_methods import classEval\n",
    "from modeling_methods import roc_plot_single\n",
    "from modeling_methods import save_performance\n",
    "from modeling_methods import save_FI\n",
    "from modeling_methods import eval_Algorithm_FI\n",
    "\n",
    "#Statistics packages\n",
    "from scipy import stats\n",
    "\n",
    "#Visualization Packages:\n",
    "#This code ensures that the output of plotting commands is displayed inline directly below the code cell that produced it.\n",
    "%matplotlib inline\n",
    "import matplotlib.pyplot as plt\n",
    "pd.set_option('display.max_columns', None) # display all the columns\n",
    "import scipy.stats as scs\n",
    "from scipy.stats import randint\n",
    "from matplotlib import rc\n",
    "import seaborn as sns\n",
    "\n",
    "import warnings\n",
    "warnings.filterwarnings('ignore')\n",
    "\n",
    "# Jupyter Notebook Hack: This code ensures that the results of multiple commands within a given cell are all displayed, rather than just the last. \n",
    "from IPython.core.interactiveshell import InteractiveShell\n",
    "InteractiveShell.ast_node_interactivity = \"all\"\n",
    "\n",
    "#Import Progress bar:\n",
    "from tqdm import tnrange, tqdm_notebook"
   ]
  },
  {
   "cell_type": "markdown",
   "metadata": {},
   "source": [
    "---\n",
    "# Set Dataset Pipeline Variables (Mandatory)\n",
    "These variables values will have to be respecified to run this pipeline on a given dataset or computer"
   ]
  },
  {
   "cell_type": "code",
   "execution_count": 2,
   "metadata": {},
   "outputs": [],
   "source": [
    "#Unique dataset name (include dataset extension) (must be updated for a given dataset analysis)\n",
    "#target_data = 'hcc-data_example.txt' \n",
    "target_data = 'Multiplexer6Modified.csv' \n",
    "\n",
    "#Dataset specific constants (Must be updated for a given dataset)\n",
    "outcomeLabel = 'Class' #i.e. class outcome column label\n",
    "categoricalOutcome = True  #Is outcome nominal (i.e. discrete/classification) This script will not function correctly if False!\n",
    "instLabel = None #If data includes instance labels, given respective column name here, otherwise put None\n",
    "ignore_columns = [] #list of column names to exclude from the analysis (only insert column names if needed, otherwise leave empty)\n",
    "categorical_variables = [] #Leave empty for 'auto-detect' otherwise list feature names to be treated as categorical."
   ]
  },
  {
   "cell_type": "markdown",
   "metadata": {},
   "source": [
    "---\n",
    "# Set Other Pipeline Variables (Optional) \n",
    "These variables can be left as is, or modified to update key aspects of how the ML pipeline will be run and what methods will be included"
   ]
  },
  {
   "cell_type": "code",
   "execution_count": 3,
   "metadata": {},
   "outputs": [],
   "source": [
    "#Descriptive Analysis options ------------------------------------------------------------------------------------\n",
    "doCorrelation = True #Generate visualization of feature correlations (Not recommended for feature sets > 100)\n",
    "doUA = True #Perform a univariate analysis of features in the dataset \n",
    "\n",
    "#Cross Validation run parameters (change as needed) --------------------------------------------------------------\n",
    "cv_partitions = 3 #number of CV partitions (3-10 recommended)\n",
    "partition_method = 'S' #Options: random (R), stratified (S), matched (M)\n",
    "matchName = None #Name of column used for matched CV partitioning. Put None otherwise.\n",
    "\n",
    "#Data cleaning options--------------------------------------------------------------------------------------------\n",
    "scaleData = True  #Prescale original dataset values (important for ML and feature importance interpretation of some algorithms)\n",
    "imputeData = True  #Impute missing values (separate methods used for categorical vs ordinal variables)\n",
    "autoDetectCategorical = True #keep in mind that this can incorectly identify some ordinal values as being categorical (e.g. tumor state/grade)\n",
    "categoricalCutoff = 10 #If the number of unique values is greater than this value, the feature is assumed to be ordinal/continuous-valued\n",
    "\n",
    "#Feature Selection----------------------------------------------------------------------------------------------\n",
    "algorithms = ['mutual_information','multisurf']\n",
    "instanceSubset = 2000 #Sample subset size to use with MultiSURF (since they scale quandratically with n)\n",
    "maxFeaturesToKeep = 50 #Maximum number of features to keep during feature selection - pute None if no max desired)\n",
    "filterPoorFeatures = True\n",
    "topResults = 20 #Top features to illustrate in feature selection results figures\n",
    "\n",
    "#ML Modeling -----------------------------------------------------------------------------------------------------\n",
    "#Algorithms available: logistic_regression,decision_tree, random_forest, naive_bayes, xg_boost, lg_boost, SVM, ANN\n",
    "# algorithmsToRun = ['logistic_regression','decision_tree', 'random_forest', 'naive_bayes', 'XGB', 'LGB','SVM','ANN','ExSTraCS','ExSTraCS_QRF','eLCS','XCS','gradient_boosting','k_neighbors'] \n",
    "# methodsKey = ('Logistic Regression', 'Decision Tree', 'Random Forest', 'Naïve Bayes','XGB','LGB', 'SVM', 'ANN','ExSTraCS 2.0','ExSTraCS 2.0 QRF','eLCS','XCS','GB','KN')\n",
    "# algColors = ['black','yellow','orange','grey','purple', 'aqua', 'red', 'blue','lightcoral','firebrick','deepskyblue','slategrey','bisque','seagreen']\n",
    "\n",
    "algorithmsToRun = ['gradient_boosting','k_neighbors'] \n",
    "methodsKey = ('GB','KN')\n",
    "algColors = ['bisque','seagreen']\n",
    "\n",
    "#Notebook run parameters (i.e. set random seed for notebook replication consistency)\n",
    "randomSeed = 42\n",
    "random.seed(randomSeed)"
   ]
  },
  {
   "cell_type": "markdown",
   "metadata": {},
   "source": [
    "## ML Modeling Hyperparamters"
   ]
  },
  {
   "cell_type": "code",
   "execution_count": 4,
   "metadata": {},
   "outputs": [],
   "source": [
    "#Optima Hyperparameter sweep run parameters\n",
    "n_trials = 100 #number of bayesian hyperparameter optimization trials (using optuna)\n",
    "scoring_metric = 'balanced_accuracy' #metric used to pick best hyperparamters\n",
    "hype_cv = 3 #Internal cv partitions for hyperparamter sweep evaluations\n",
    "timeout = 300 #Seconds until hyperparameter sweep stopped - 3600 sec = 1 hour, 300 sec = 5 min\n",
    "lcs_timeout = 300\n",
    "\n",
    "#Logistic Regression\n",
    "param_grid_LR = {'penalty' : ['l2','l1'],\n",
    "                'C' : [1e-5, 1e5], \n",
    "                'dual' : [True, False],\n",
    "                'solver' : ['newton-cg','lbfgs', 'liblinear', 'sag','saga'],\n",
    "                'class_weight' : [None, 'balanced'],\n",
    "                'max_iter' : [10, 1000],\n",
    "                'n_jobs' : [-1]}\n",
    "\n",
    "#Decision Tree\n",
    "param_grid_DT = {'criterion' : ['gini', 'entropy'],\n",
    "                'splitter' : ['best', 'random'],\n",
    "                'max_depth' : [1, 30],\n",
    "                'min_samples_split' : [2, 50], \n",
    "                'min_samples_leaf' : [1, 50],\n",
    "                'max_features' : [None, 'auto','log2'],\n",
    "                'class_weight' : [None, 'balanced']}\n",
    "\n",
    "#Random Forest\n",
    "param_grid_RF = {'n_estimators': [10,1000],\n",
    "                'criterion' : ['gini', 'entropy'],\n",
    "                'max_depth' : [1, 30],\n",
    "                'min_samples_split' : [2, 50], \n",
    "                'min_samples_leaf' : [1, 50],\n",
    "                'max_features' : [None, 'auto','log2'],\n",
    "                'bootstrap' : [True],\n",
    "                'oob_score' : [False, True],\n",
    "                'n_jobs' : [-1],\n",
    "                'class_weight' : [None, 'balanced']}\n",
    "\n",
    "#XG Boost - note: class weight balance is included as option internally\n",
    "param_grid_XGB = {'booster': ['gbtree'],\n",
    "                'objective' : ['binary:logistic'],\n",
    "                'verbosity' : [0],\n",
    "                'reg_lambda' : [1e-8, 1.0],\n",
    "                'alpha' : [1e-8, 1.0],\n",
    "                'eta' : [1e-8, 1.0],\n",
    "                'gamma' : [1e-8, 1.0],\n",
    "                'max_depth' : [1, 30],\n",
    "                'grow_policy' : ['depthwise', 'lossguide'],\n",
    "                'n_estimators': [10,1000],\n",
    "                'min_samples_split' : [2, 50], \n",
    "                'min_samples_leaf' : [1, 50],\n",
    "                'subsample' : [0.5, 1.0],\n",
    "                'min_child_weight': [0.1, 10],\n",
    "                'colsample_bytree': [0.1, 1.0]}\n",
    "\n",
    "#LG Boost - note: class weight balance is included as option internally\n",
    "param_grid_LGB = {'objective' : ['binary'],\n",
    "                'metric': ['binary_logloss'],\n",
    "                'verbosity' : [-1],\n",
    "                'boosting_type': ['gbdt'],\n",
    "                'num_leaves': [2,256],\n",
    "                'max_depth' : [1, 30],\n",
    "                'lambda_l1': [1e-8, 10.0],\n",
    "                'lambda_l2': [1e-8, 10.0],\n",
    "                'feature_fraction': [0.4, 1.0],\n",
    "                'bagging_fraction': [0.4, 1.0],\n",
    "                'bagging_freq': [1,7],\n",
    "                'min_child_samples': [5,100],\n",
    "                'n_estimators': [10,1000]}\n",
    "\n",
    "#SVM\n",
    "param_grid_SVM = {'kernel' : ['linear','poly','rbf'],\n",
    "                'C': [0.1, 1000],\n",
    "                'gamma': ['scale'],\n",
    "                'degree': [1,6],\n",
    "                'probability' : [True],\n",
    "                'class_weight' : [None, 'balanced']}\n",
    "        \n",
    "#ANN\n",
    "param_grid_ANN = {'n_layers' : [1,3],\n",
    "                'layer_size' : [1,100],\n",
    "                'activation': ['identity','logistic', 'tanh', 'relu'],\n",
    "                'learning_rate': ['constant', 'invscaling', 'adaptive'],\n",
    "                'momentum': [.1,.9],\n",
    "                'solver': ['sgd', 'adam'],\n",
    "                'batch_size': ['auto'],\n",
    "                'alpha': [0.0001, 0.05],\n",
    "                'max_iter' : [200]}\n",
    "\n",
    "#ExSTraCS\n",
    "# param_grid_ExSTraCS = {'learning_iterations':[20000,50000,100000,200000],\n",
    "#                       'N':[500,1000,2000],\n",
    "#                       'nu':[1,5,10]}\n",
    "\n",
    "# param_grid_ExSTraCS = {'learning_iterations':[1000,5000],\n",
    "#                       'N':[500,1000],\n",
    "#                       'nu':[1,5]}\n",
    "\n",
    "param_grid_ExSTraCS = {'learning_iterations':[10000],\n",
    "                      'N':[1000],\n",
    "                      'nu':[1]}\n",
    "\n",
    "#eLCS\n",
    "# param_grid_eLCS = {'learning_iterations':[20000,50000,100000,200000],\n",
    "#                       'N':[500,1000,2000],\n",
    "#                       'nu':[1,5,10]}\n",
    "\n",
    "param_grid_eLCS = {'learning_iterations':[1000],\n",
    "                      'N':[500],\n",
    "                      'nu':[10]}\n",
    "\n",
    "#XCS\n",
    "# param_grid_XCS = {'learning_iterations':[20000,50000,100000,200000],\n",
    "#                       'N':[500,1000,2000],\n",
    "#                       'nu':[1,5,10]}\n",
    "\n",
    "param_grid_XCS = {'learning_iterations':[5000],\n",
    "                      'N':[1000],\n",
    "                      'nu':[1]}\n",
    "\n",
    "param_grid_GB = {'loss':['deviance', 'exponential'],'learning_rate': [1e-2, 1],'min_samples_leaf':[1,200],\n",
    "                'max_depth':[1,10],'max_leaf_nodes':[None],'tol':[1e-7],'n_iter_no_change':[1,20],\n",
    "                'validation_fraction':[0.01, 0.31, 0.01]}\n",
    "\n",
    "param_grid_KN = {'n_neighbors':[1,100],'weights':['uniform', 'distance'],'p':[1,5],'metric':['euclidean', 'minkowski']}\n",
    "\n",
    "param_grid = {} #stores all user selected algorithm hyperparameters\n",
    "\n",
    "for algorithm in algorithmsToRun: #['logistic_regression','decision_tree', 'random_forest', 'naive_bayes', 'xg_boost','SVM','ANN'] \n",
    "    if algorithm == 'logistic_regression':\n",
    "        param_grid['logistic_regression'] = param_grid_LR\n",
    "    elif algorithm == 'decision_tree':\n",
    "        param_grid['decision_tree'] = param_grid_DT\n",
    "    elif algorithm == 'random_forest':\n",
    "        param_grid['random_forest'] = param_grid_RF\n",
    "    elif algorithm == 'naive_bayes':\n",
    "        pass #no hyperparameters\n",
    "    elif algorithm == 'XGB':\n",
    "        param_grid['XGB'] = param_grid_XGB\n",
    "    elif algorithm == 'LGB':\n",
    "        param_grid['LGB'] = param_grid_LGB\n",
    "    elif algorithm == 'SVM':\n",
    "        param_grid['SVM'] = param_grid_SVM\n",
    "    elif algorithm == 'ANN':\n",
    "        param_grid['ANN'] = param_grid_ANN\n",
    "    elif algorithm == 'ExSTraCS':\n",
    "        param_grid['ExSTraCS'] = param_grid_ExSTraCS\n",
    "    elif algorithm == 'ExSTraCS_QRF':\n",
    "        param_grid['ExSTraCS_QRF'] = param_grid_ExSTraCS\n",
    "    elif algorithm == 'eLCS':\n",
    "        param_grid['eLCS'] = param_grid_eLCS\n",
    "    elif algorithm == 'XCS':\n",
    "        param_grid['XCS'] = param_grid_XCS\n",
    "    elif algorithm == 'gradient_boosting':\n",
    "        param_grid['gradient_boosting'] = param_grid_GB\n",
    "    elif algorithm == 'k_neighbors':\n",
    "        param_grid['k_neighbors'] = param_grid_KN\n",
    "    else:\n",
    "        print(\"Error: Algorithm not found!\")\n",
    "\n",
    "#Visualization ---------------------------------------------------------------------------------------------------\n",
    "focus_metric = 'Balanced Accuracy'\n",
    "\n",
    "#Statistical Significance-----------------------------------------------------------------------------------------\n",
    "sig_cutoff = 0.05"
   ]
  },
  {
   "cell_type": "markdown",
   "metadata": {},
   "source": [
    "---\n",
    "# Notebook/Folder Initialization\n",
    "For simplicity it is recommended that this not be altered."
   ]
  },
  {
   "cell_type": "code",
   "execution_count": 5,
   "metadata": {},
   "outputs": [
    {
     "name": "stdout",
     "output_type": "stream",
     "text": [
      "Working Directory: /Users/robert/Google_Drive/2 Projects/URBSLab/scikit-pipeline/\n"
     ]
    }
   ],
   "source": [
    "#Standard Names (no need to change)\n",
    "output_folder = 'results'\n",
    "cv_data_folder = 'cv_datasets'\n",
    "ua_folder = 'univariate'\n",
    "model_folder = 'models'\n",
    "\n",
    "#Working directory path automatically detected\n",
    "wd_path = os.getcwd()\n",
    "wd_path = wd_path.replace('\\\\','/')\n",
    "wd_path = wd_path+'/'\n",
    "print(\"Working Directory: \"+wd_path)\n",
    "\n",
    "#Save data name without extension for later file labeling\n",
    "data_name = target_data.split('.')[0] \n",
    "\n",
    "#Create output folder if it doesn't already exist\n",
    "if not os.path.exists(wd_path+(output_folder)):\n",
    "    os.mkdir(wd_path+(output_folder))\n",
    "\n",
    "#Create CV dataset folder if it doesn't already exist\n",
    "if not os.path.exists(wd_path+(cv_data_folder)):\n",
    "    os.mkdir(wd_path+(cv_data_folder))\n",
    "\n",
    "#Create univariate analysis folder if it doesn't already exist\n",
    "if not os.path.exists(wd_path+(ua_folder)):\n",
    "    os.mkdir(wd_path+(ua_folder))\n",
    "    \n",
    "#Create model pickle folder if it doesn't already exist\n",
    "if not os.path.exists(wd_path+(model_folder)):\n",
    "    os.mkdir(wd_path+(model_folder))\n",
    "\n",
    "data_changed = False #Keeps track of whether cleaning changed original dataset (leave this set to False)\n",
    "\n",
    "run_time_dict = {}\n",
    "notebook_start_time = time.time()"
   ]
  },
  {
   "cell_type": "markdown",
   "metadata": {},
   "source": [
    "---\n",
    "# Load Dataset\n",
    "This code assumes that the data is being loaded as a tab delimited '.txt' file with columns as features/outcome, and rows as instances. It is also assumed that the target file includes a header and that missing values are indicated with 'NA' or an empty cell. This command can be updated depending on users dataset format. "
   ]
  },
  {
   "cell_type": "code",
   "execution_count": 6,
   "metadata": {},
   "outputs": [
    {
     "data": {
      "text/plain": [
       "(500, 7)"
      ]
     },
     "execution_count": 6,
     "metadata": {},
     "output_type": "execute_result"
    }
   ],
   "source": [
    "td = pd.read_csv(target_data, na_values='NA', sep = \",\") #Data loaded so that blank excell cells are 'NA'\n",
    "td.shape"
   ]
  },
  {
   "cell_type": "markdown",
   "metadata": {},
   "source": [
    "### Debugging data simplification (This code should be commented out during normal run)"
   ]
  },
  {
   "cell_type": "code",
   "execution_count": 7,
   "metadata": {},
   "outputs": [],
   "source": [
    "#td = td.sample(frac=0.5, replace=False, random_state=randomSeed)"
   ]
  },
  {
   "cell_type": "markdown",
   "metadata": {},
   "source": [
    "---\n",
    "# Initial Exploratory Analysis"
   ]
  },
  {
   "cell_type": "code",
   "execution_count": 8,
   "metadata": {},
   "outputs": [
    {
     "name": "stdout",
     "output_type": "stream",
     "text": [
      "Dataset contains 500 rows.\n",
      "Dataset contains 7 columns.\n"
     ]
    }
   ],
   "source": [
    "# Count the number of rows and columns\n",
    "num_rows = td.shape[0]\n",
    "print('Dataset contains '+str(num_rows)+' rows.')\n",
    "num_cols = td.shape[1]\n",
    "print('Dataset contains '+str(num_cols)+' columns.')"
   ]
  },
  {
   "cell_type": "code",
   "execution_count": 9,
   "metadata": {},
   "outputs": [
    {
     "name": "stdout",
     "output_type": "stream",
     "text": [
      "<class 'pandas.core.frame.DataFrame'>\n",
      "RangeIndex: 500 entries, 0 to 499\n",
      "Data columns (total 7 columns):\n",
      "A_0      500 non-null int64\n",
      "A_1      500 non-null int64\n",
      "R_0      500 non-null int64\n",
      "R_1      500 non-null int64\n",
      "R_2      500 non-null int64\n",
      "R_3      500 non-null int64\n",
      "Class    500 non-null int64\n",
      "dtypes: int64(7)\n",
      "memory usage: 27.4 KB\n"
     ]
    }
   ],
   "source": [
    "td.info()"
   ]
  },
  {
   "cell_type": "code",
   "execution_count": 10,
   "metadata": {},
   "outputs": [
    {
     "data": {
      "text/html": [
       "<div>\n",
       "<style scoped>\n",
       "    .dataframe tbody tr th:only-of-type {\n",
       "        vertical-align: middle;\n",
       "    }\n",
       "\n",
       "    .dataframe tbody tr th {\n",
       "        vertical-align: top;\n",
       "    }\n",
       "\n",
       "    .dataframe thead th {\n",
       "        text-align: right;\n",
       "    }\n",
       "</style>\n",
       "<table border=\"1\" class=\"dataframe\">\n",
       "  <thead>\n",
       "    <tr style=\"text-align: right;\">\n",
       "      <th></th>\n",
       "      <th>A_0</th>\n",
       "      <th>A_1</th>\n",
       "      <th>R_0</th>\n",
       "      <th>R_1</th>\n",
       "      <th>R_2</th>\n",
       "      <th>R_3</th>\n",
       "      <th>Class</th>\n",
       "    </tr>\n",
       "  </thead>\n",
       "  <tbody>\n",
       "    <tr>\n",
       "      <th>count</th>\n",
       "      <td>500.000000</td>\n",
       "      <td>500.000000</td>\n",
       "      <td>500.000000</td>\n",
       "      <td>500.000000</td>\n",
       "      <td>500.000000</td>\n",
       "      <td>500.000000</td>\n",
       "      <td>500.0000</td>\n",
       "    </tr>\n",
       "    <tr>\n",
       "      <th>mean</th>\n",
       "      <td>0.470000</td>\n",
       "      <td>0.510000</td>\n",
       "      <td>0.494000</td>\n",
       "      <td>0.486000</td>\n",
       "      <td>0.476000</td>\n",
       "      <td>0.488000</td>\n",
       "      <td>0.4800</td>\n",
       "    </tr>\n",
       "    <tr>\n",
       "      <th>std</th>\n",
       "      <td>0.499599</td>\n",
       "      <td>0.500401</td>\n",
       "      <td>0.500465</td>\n",
       "      <td>0.500305</td>\n",
       "      <td>0.499924</td>\n",
       "      <td>0.500357</td>\n",
       "      <td>0.5001</td>\n",
       "    </tr>\n",
       "    <tr>\n",
       "      <th>min</th>\n",
       "      <td>0.000000</td>\n",
       "      <td>0.000000</td>\n",
       "      <td>0.000000</td>\n",
       "      <td>0.000000</td>\n",
       "      <td>0.000000</td>\n",
       "      <td>0.000000</td>\n",
       "      <td>0.0000</td>\n",
       "    </tr>\n",
       "    <tr>\n",
       "      <th>25%</th>\n",
       "      <td>0.000000</td>\n",
       "      <td>0.000000</td>\n",
       "      <td>0.000000</td>\n",
       "      <td>0.000000</td>\n",
       "      <td>0.000000</td>\n",
       "      <td>0.000000</td>\n",
       "      <td>0.0000</td>\n",
       "    </tr>\n",
       "    <tr>\n",
       "      <th>50%</th>\n",
       "      <td>0.000000</td>\n",
       "      <td>1.000000</td>\n",
       "      <td>0.000000</td>\n",
       "      <td>0.000000</td>\n",
       "      <td>0.000000</td>\n",
       "      <td>0.000000</td>\n",
       "      <td>0.0000</td>\n",
       "    </tr>\n",
       "    <tr>\n",
       "      <th>75%</th>\n",
       "      <td>1.000000</td>\n",
       "      <td>1.000000</td>\n",
       "      <td>1.000000</td>\n",
       "      <td>1.000000</td>\n",
       "      <td>1.000000</td>\n",
       "      <td>1.000000</td>\n",
       "      <td>1.0000</td>\n",
       "    </tr>\n",
       "    <tr>\n",
       "      <th>max</th>\n",
       "      <td>1.000000</td>\n",
       "      <td>1.000000</td>\n",
       "      <td>1.000000</td>\n",
       "      <td>1.000000</td>\n",
       "      <td>1.000000</td>\n",
       "      <td>1.000000</td>\n",
       "      <td>1.0000</td>\n",
       "    </tr>\n",
       "  </tbody>\n",
       "</table>\n",
       "</div>"
      ],
      "text/plain": [
       "              A_0         A_1         R_0         R_1         R_2         R_3  \\\n",
       "count  500.000000  500.000000  500.000000  500.000000  500.000000  500.000000   \n",
       "mean     0.470000    0.510000    0.494000    0.486000    0.476000    0.488000   \n",
       "std      0.499599    0.500401    0.500465    0.500305    0.499924    0.500357   \n",
       "min      0.000000    0.000000    0.000000    0.000000    0.000000    0.000000   \n",
       "25%      0.000000    0.000000    0.000000    0.000000    0.000000    0.000000   \n",
       "50%      0.000000    1.000000    0.000000    0.000000    0.000000    0.000000   \n",
       "75%      1.000000    1.000000    1.000000    1.000000    1.000000    1.000000   \n",
       "max      1.000000    1.000000    1.000000    1.000000    1.000000    1.000000   \n",
       "\n",
       "          Class  \n",
       "count  500.0000  \n",
       "mean     0.4800  \n",
       "std      0.5001  \n",
       "min      0.0000  \n",
       "25%      0.0000  \n",
       "50%      0.0000  \n",
       "75%      1.0000  \n",
       "max      1.0000  "
      ]
     },
     "execution_count": 10,
     "metadata": {},
     "output_type": "execute_result"
    }
   ],
   "source": [
    "td.describe()"
   ]
  },
  {
   "cell_type": "code",
   "execution_count": 11,
   "metadata": {},
   "outputs": [
    {
     "data": {
      "text/plain": [
       "A_0      int64\n",
       "A_1      int64\n",
       "R_0      int64\n",
       "R_1      int64\n",
       "R_2      int64\n",
       "R_3      int64\n",
       "Class    int64\n",
       "dtype: object"
      ]
     },
     "execution_count": 11,
     "metadata": {},
     "output_type": "execute_result"
    }
   ],
   "source": [
    "td.dtypes"
   ]
  },
  {
   "cell_type": "code",
   "execution_count": 12,
   "metadata": {},
   "outputs": [
    {
     "data": {
      "text/plain": [
       "A_0      2\n",
       "A_1      2\n",
       "R_0      2\n",
       "R_1      2\n",
       "R_2      2\n",
       "R_3      2\n",
       "Class    2\n",
       "dtype: int64"
      ]
     },
     "execution_count": 12,
     "metadata": {},
     "output_type": "execute_result"
    }
   ],
   "source": [
    "td.nunique()"
   ]
  },
  {
   "cell_type": "markdown",
   "metadata": {},
   "source": [
    "### Assess Missingness in Columns"
   ]
  },
  {
   "cell_type": "code",
   "execution_count": 13,
   "metadata": {},
   "outputs": [],
   "source": [
    "for i,c in enumerate(td.columns):\n",
    "    na_percent = np.sum(td[c].isnull())/len(td)*100\n",
    "    if na_percent > 0:\n",
    "        print(c,'\\t\\t% Missing(N/A) = ',np.sum(td[c].isnull())/len(td)*100)"
   ]
  },
  {
   "cell_type": "code",
   "execution_count": 14,
   "metadata": {},
   "outputs": [
    {
     "name": "stdout",
     "output_type": "stream",
     "text": [
      "<class 'pandas.core.series.Series'>\n"
     ]
    },
    {
     "data": {
      "text/plain": [
       "Text(0.5, 0, 'Missing Value Counts')"
      ]
     },
     "execution_count": 14,
     "metadata": {},
     "output_type": "execute_result"
    },
    {
     "data": {
      "text/plain": [
       "Text(0, 0.5, 'Frequency')"
      ]
     },
     "execution_count": 14,
     "metadata": {},
     "output_type": "execute_result"
    },
    {
     "data": {
      "text/plain": [
       "Text(0.5, 1.0, 'Histogram of Missing Value Counts In Feature Set')"
      ]
     },
     "execution_count": 14,
     "metadata": {},
     "output_type": "execute_result"
    },
    {
     "data": {
      "image/png": "[encoded data removed]",
      "text/plain": [
       "<Figure size 864x288 with 1 Axes>"
      ]
     },
     "metadata": {
      "needs_background": "light"
     },
     "output_type": "display_data"
    }
   ],
   "source": [
    "missing_count = td.isnull().sum()\n",
    "print(type(missing_count))\n",
    "#Plot a histogram of the missingness observed over all features in the dataset\n",
    "ax = missing_count.hist(bins=num_rows,figsize=(12,4))\n",
    "ax.set_xlabel(\"Missing Value Counts\")\n",
    "ax.set_ylabel(\"Frequency\")\n",
    "ax.set_title(\"Histogram of Missing Value Counts In Feature Set\")"
   ]
  },
  {
   "cell_type": "markdown",
   "metadata": {},
   "source": [
    "---\n",
    "# Data Cleaning"
   ]
  },
  {
   "cell_type": "markdown",
   "metadata": {},
   "source": [
    "### Remove instances (rows) with missing outcome values"
   ]
  },
  {
   "cell_type": "code",
   "execution_count": 15,
   "metadata": {},
   "outputs": [
    {
     "name": "stdout",
     "output_type": "stream",
     "text": [
      "Number of training instances in original dataset =  500\n",
      "Number of training instances after removing instances with missing endpoint =  500\n",
      "Number of instances removed =  0\n"
     ]
    },
    {
     "data": {
      "text/plain": [
       "(500, 7)"
      ]
     },
     "execution_count": 15,
     "metadata": {},
     "output_type": "execute_result"
    }
   ],
   "source": [
    "print(\"Number of training instances in original dataset = \",num_rows)\n",
    "td = td.dropna(axis=0,how='any',subset=[outcomeLabel])\n",
    "print(\"Number of training instances after removing instances with missing endpoint = \",len(td))\n",
    "diff = num_rows-len(td)\n",
    "print(\"Number of instances removed = \", diff)\n",
    "num_rows = len(td) #reassign value (if changed)\n",
    "if diff > 0:\n",
    "    data_changed = True\n",
    "td.shape"
   ]
  },
  {
   "cell_type": "code",
   "execution_count": 16,
   "metadata": {
    "scrolled": true
   },
   "outputs": [
    {
     "data": {
      "text/plain": [
       "(500, 7)"
      ]
     },
     "execution_count": 16,
     "metadata": {},
     "output_type": "execute_result"
    },
    {
     "name": "stdout",
     "output_type": "stream",
     "text": [
      "<class 'pandas.core.frame.DataFrame'>\n",
      "RangeIndex: 500 entries, 0 to 499\n",
      "Data columns (total 7 columns):\n",
      "A_0      500 non-null int64\n",
      "A_1      500 non-null int64\n",
      "R_0      500 non-null int64\n",
      "R_1      500 non-null int64\n",
      "R_2      500 non-null int64\n",
      "R_3      500 non-null int64\n",
      "Class    500 non-null int64\n",
      "dtypes: int64(7)\n",
      "memory usage: 27.4 KB\n"
     ]
    }
   ],
   "source": [
    "#It's critical to reset the index after dropping rows to work with data frame later with pd.concat of separate columns\n",
    "td = td.reset_index(drop=True)\n",
    "td.shape\n",
    "#Ensure Class variable is cast as an int\n",
    "td[outcomeLabel] = td[outcomeLabel].astype(dtype='int64')\n",
    "td.info()"
   ]
  },
  {
   "cell_type": "code",
   "execution_count": 17,
   "metadata": {},
   "outputs": [
    {
     "name": "stdout",
     "output_type": "stream",
     "text": [
      "No missing values found in: Class\n"
     ]
    }
   ],
   "source": [
    "#Confirm no missing values in outcome variable\n",
    "na_percent = np.sum(td[outcomeLabel].isnull())/len(td[outcomeLabel])*100\n",
    "if na_percent > 0:\n",
    "    print(c,'\\t\\t% Missing(N/A) = ',np.sum(td[outcomeLabel].isnull())/len(td)*100)\n",
    "else:\n",
    "    print('No missing values found in: '+ str(outcomeLabel))"
   ]
  },
  {
   "cell_type": "markdown",
   "metadata": {},
   "source": [
    "### Remove columns to be ignored in analysis"
   ]
  },
  {
   "cell_type": "code",
   "execution_count": 18,
   "metadata": {},
   "outputs": [
    {
     "name": "stdout",
     "output_type": "stream",
     "text": [
      "Number of columns in original dataset =  7\n",
      "Number of columns after removing ignored columns =  7\n",
      "Number of columns removed =  0\n"
     ]
    },
    {
     "data": {
      "text/plain": [
       "(500, 7)"
      ]
     },
     "execution_count": 18,
     "metadata": {},
     "output_type": "execute_result"
    }
   ],
   "source": [
    "print(\"Number of columns in original dataset = \", num_cols)\n",
    "td = td.drop(ignore_columns, axis=1)\n",
    "print(\"Number of columns after removing ignored columns = \", len(td.columns))\n",
    "diff = num_cols-len(td.columns)\n",
    "print(\"Number of columns removed = \", diff)\n",
    "num_cols = len(td.columns)\n",
    "if diff > 0:\n",
    "    data_changed = True\n",
    "td.shape"
   ]
  },
  {
   "cell_type": "markdown",
   "metadata": {},
   "source": [
    "### Assess class imbalance (assuming discrete outcome)"
   ]
  },
  {
   "cell_type": "code",
   "execution_count": 19,
   "metadata": {},
   "outputs": [
    {
     "name": "stdout",
     "output_type": "stream",
     "text": [
      "Counts of each class\n",
      "0    260\n",
      "1    240\n",
      "Name: Class, dtype: int64\n"
     ]
    },
    {
     "data": {
      "text/plain": [
       "<matplotlib.axes._subplots.AxesSubplot at 0x130752b10>"
      ]
     },
     "execution_count": 19,
     "metadata": {},
     "output_type": "execute_result"
    },
    {
     "data": {
      "text/plain": [
       "Text(0, 0.5, 'Count')"
      ]
     },
     "execution_count": 19,
     "metadata": {},
     "output_type": "execute_result"
    },
    {
     "data": {
      "text/plain": [
       "Text(0.5, 1.0, 'Class Counts (Checking for Imbalance)')"
      ]
     },
     "execution_count": 19,
     "metadata": {},
     "output_type": "execute_result"
    },
    {
     "data": {
      "text/plain": [
       "(500, 7)"
      ]
     },
     "execution_count": 19,
     "metadata": {},
     "output_type": "execute_result"
    },
    {
     "data": {
      "image/png": "[encoded data removed]",
      "text/plain": [
       "<Figure size 432x288 with 1 Axes>"
      ]
     },
     "metadata": {
      "needs_background": "light"
     },
     "output_type": "display_data"
    }
   ],
   "source": [
    "print(\"Counts of each class\")\n",
    "print(td[outcomeLabel].value_counts())\n",
    "td[outcomeLabel].value_counts().plot(kind='bar')\n",
    "plt.ylabel('Count')\n",
    "plt.title('Class Counts (Checking for Imbalance)')\n",
    "td.shape"
   ]
  },
  {
   "cell_type": "markdown",
   "metadata": {},
   "source": [
    "### Identify categorical variables in dataset"
   ]
  },
  {
   "cell_type": "code",
   "execution_count": 20,
   "metadata": {},
   "outputs": [
    {
     "data": {
      "text/plain": [
       "(500, 7)"
      ]
     },
     "execution_count": 20,
     "metadata": {},
     "output_type": "execute_result"
    }
   ],
   "source": [
    "if autoDetectCategorical:\n",
    "    #Separate independent variables from the rest\n",
    "    if instLabel == None or instLabel == 'None':\n",
    "        x_data = td.drop([outcomeLabel], axis=1)\n",
    "    else:\n",
    "        x_data = td.drop([outcomeLabel,instLabel], axis=1)\n",
    "\n",
    "    categorical_variables = identifyCategoricalFeatures(x_data,categoricalCutoff)\n",
    "    #print(categorical_variables)\n",
    "    td.shape"
   ]
  },
  {
   "cell_type": "markdown",
   "metadata": {},
   "source": [
    "---\n",
    "# Example Code for other potential data cleaning/processing\n",
    "- Not applied in this example script, but available here as an example"
   ]
  },
  {
   "cell_type": "markdown",
   "metadata": {},
   "source": [
    "### Delete Rows/Instances with any missing values\n",
    "- An extreme alternative to imputation when missing values must be eliminated from the dataset prior to machine learning"
   ]
  },
  {
   "cell_type": "code",
   "execution_count": 21,
   "metadata": {},
   "outputs": [],
   "source": [
    "#num_rows = td.shape[0]\n",
    "#print(\"Number of training instances in original dataset = \",num_rows)\n",
    "#td = td.dropna()\n",
    "#print(\"Number of training instances after removing instances with any missing values = \",td.shape[0])\n",
    "#diff = num_rows-td.shape[0]\n",
    "#if diff > 0:\n",
    "#    data_changed = True"
   ]
  },
  {
   "cell_type": "markdown",
   "metadata": {},
   "source": [
    "### Delete Columns with any missing values\n",
    "- An extreme alternative to imputation when missing values must be eliminated from the dataset prior to machine learning"
   ]
  },
  {
   "cell_type": "code",
   "execution_count": 22,
   "metadata": {},
   "outputs": [],
   "source": [
    "#num_cols = td.shape[1]\n",
    "#print(\"Number of training instances in original dataset = \",num_cols)\n",
    "#td = df.dropna(axis='columns')\n",
    "#print(\"Number of training instances after removing instances with any missing values = \",td.shape[1])\n",
    "#diff = num_cols-td.shape[1]\n",
    "#if diff > 0:\n",
    "#    data_changed = True"
   ]
  },
  {
   "cell_type": "markdown",
   "metadata": {},
   "source": [
    "### One hot encoding of categorical variables\n",
    "- Ensures that categorical variables are not treated in an ordinal manner by ML algorithms\n",
    "- The code below is an example of how to convert a single column to one hot encoding, and is not meant to be run as is. "
   ]
  },
  {
   "cell_type": "code",
   "execution_count": 23,
   "metadata": {},
   "outputs": [],
   "source": [
    "## Example below assumes a data frame 'df' with a column called 'B'\n",
    "#one_hot = pd.get_dummies(df['B'])\n",
    "#df = df.drop('B',axis = 1)\n",
    "#df = df.join(one_hot)"
   ]
  },
  {
   "cell_type": "markdown",
   "metadata": {},
   "source": [
    "### Other possible cleaning steps:\n",
    "- encode text values as numerics\n",
    "- oversample or undersample to reduce class imbalance\n",
    "- drop additional rows based on assigned cutoffs, etc\n",
    "- cast variable types as nominal or ordinal\n",
    "- construct missingness features with MissingIndicator: https://scikit-learn.org/stable/modules/impute.html"
   ]
  },
  {
   "cell_type": "code",
   "execution_count": 24,
   "metadata": {},
   "outputs": [],
   "source": [
    "#Saved for later, determines if imputation attempted.\n",
    "isMissingData = False\n",
    "if td.isnull().values.any():\n",
    "    isMissingData = True"
   ]
  },
  {
   "cell_type": "markdown",
   "metadata": {},
   "source": [
    "## Save cleaned dataset if it has been modified"
   ]
  },
  {
   "cell_type": "code",
   "execution_count": 25,
   "metadata": {},
   "outputs": [],
   "source": [
    "if data_changed:\n",
    "    print('Saving cleaned data.')\n",
    "    td.shape\n",
    "    data_name = data_name +'_clean'\n",
    "    td.to_csv(data_name+'.txt', index=None, sep='\\t')"
   ]
  },
  {
   "cell_type": "markdown",
   "metadata": {},
   "source": [
    "---\n",
    "# Further Exploratory/Descriptive Analysis\n",
    "- Visualize feature correlations in data\n",
    "- Appropriate univariate analyses"
   ]
  },
  {
   "cell_type": "markdown",
   "metadata": {},
   "source": [
    "## Feature Correlations"
   ]
  },
  {
   "cell_type": "code",
   "execution_count": 26,
   "metadata": {},
   "outputs": [
    {
     "data": {
      "text/plain": [
       "<matplotlib.axes._subplots.AxesSubplot at 0x13095be10>"
      ]
     },
     "execution_count": 26,
     "metadata": {},
     "output_type": "execute_result"
    },
    {
     "data": {
      "image/png": "[encoded data removed]",
      "text/plain": [
       "<Figure size 2880x1440 with 2 Axes>"
      ]
     },
     "metadata": {
      "needs_background": "light"
     },
     "output_type": "display_data"
    }
   ],
   "source": [
    "if doCorrelation:\n",
    "    #Drop outcome column for correlation analysis\n",
    "    td_cor = td.drop([outcomeLabel], axis=1)\n",
    "    \n",
    "    #Compute correlation between the outcome and each feature , excluding NA/null values.\n",
    "    corrmat = td_cor.corr(method='pearson') \n",
    "    f, ax = plt.subplots(figsize = (40,20)) # Note: need large size\n",
    "    sns.heatmap(corrmat, vmax =1.0,square = True) # Set max value and square-shaped\n"
   ]
  },
  {
   "cell_type": "markdown",
   "metadata": {},
   "source": [
    "## Univariate Analysis and Plots\n",
    "Below we have encoded a method to automatically select an appropriate plot and univariate association test between a single feature and the target outcome in the dataset."
   ]
  },
  {
   "cell_type": "code",
   "execution_count": 27,
   "metadata": {},
   "outputs": [],
   "source": [
    "# Code to analyze the univariate relationship between the outcome and each feature\n",
    "def test_selector(featureName, outcomeLabel, td, categorical_variables):\n",
    "    p_val = 0\n",
    "    #Feature and Outcome are discrete/categorical/binary\n",
    "    if featureName in categorical_variables:  \n",
    "        #Calculate Contingency Table - Counts\n",
    "        table = pd.crosstab(td[featureName], td[outcomeLabel])\n",
    "        \n",
    "        #Univariate association test (Chi Square Test of Independence - Non-parametric)\n",
    "        c, p, dof, expected = scs.chi2_contingency(table)\n",
    "        p_val = p\n",
    "        \n",
    "    #Feature is continuous and Outcome is discrete/categorical/binary\n",
    "    else: \n",
    "        #Univariate association test (Mann-Whitney Test - Non-parametric)\n",
    "        c, p = scs.mannwhitneyu(x=td[featureName].loc[td[outcomeLabel] == 0],y=td[featureName].loc[td[outcomeLabel] == 1])\n",
    "        p_val = p\n",
    "        \n",
    "    return p_val"
   ]
  },
  {
   "cell_type": "code",
   "execution_count": 28,
   "metadata": {},
   "outputs": [],
   "source": [
    "# Function select appropriate visualizations to examine univariate relationships between each feature and outcome\n",
    "\n",
    "def graph_selector(featureName, outcomeLabel, td, categorical_variables):\n",
    "    #Feature and Outcome are discrete/categorical/binary\n",
    "    if featureName in categorical_variables:  \n",
    "        #Generate contingency table count bar plot. ------------------------------------------------------------------------\n",
    "        #Calculate Contingency Table - Counts\n",
    "        table = pd.crosstab(td[featureName], td[outcomeLabel])\n",
    "        geom_bar_data = pd.DataFrame(table)\n",
    "        mygraph = geom_bar_data.plot(kind='bar')\n",
    "        plt.ylabel('Count')\n",
    "        new_feature_name = featureName.replace(\" \",\"\") #Deal with the dataset specific characters causing problems in this dataset.\n",
    "        new_feature_name = new_feature_name.replace(\"*\",\"\") #Deal with the dataset specific characters causing problems in this dataset.\n",
    "        new_feature_name = new_feature_name.replace(\"/\",\"\") #Deal with the dataset specific characters causing problems in this dataset.\n",
    "        plt.savefig((wd_path+ua_folder+'/'+'UA_Barplot_' + str(new_feature_name)+'_'+outcomeLabel+'_'+data_name), bbox_inches = \"tight\",format='png')\n",
    "        plt.show()\n",
    "        \n",
    "    #Feature is continuous and Outcome is discrete/categorical/binary    \n",
    "    else: \n",
    "        #Generate boxplot-----------------------------------------------------------------------------------------------------\n",
    "        mygraph = td.boxplot(column=featureName,by=outcomeLabel)\n",
    "        plt.ylabel(featureName)\n",
    "        plt.title('')\n",
    "        new_feature_name = featureName.replace(\" \",\"\") #Deal with the dataset specific characters causing problems in this dataset.\n",
    "        new_feature_name = new_feature_name.replace(\"*\",\"\") #Deal with the dataset specific characters causing problems in this dataset.\n",
    "        new_feature_name = new_feature_name.replace(\"/\",\"\") #Deal with the dataset specific characters causing problems in this dataset.\n",
    "        plt.savefig((wd_path+ua_folder+'/'+'UA_Boxplot_' + str(new_feature_name)+'_'+outcomeLabel+'_'+data_name), bbox_inches = \"tight\",format='png')\n",
    "        plt.show()"
   ]
  },
  {
   "cell_type": "code",
   "execution_count": 29,
   "metadata": {},
   "outputs": [
    {
     "name": "stdout",
     "output_type": "stream",
     "text": [
      "Plotting top significant 6 features.\n",
      "###################################################\n",
      "Significant Univariate Associations:\n",
      "R_0: (p-val = 1.2270219678242175e-09)\n",
      "R_2: (p-val = 2.5013702722274036e-09)\n",
      "R_3: (p-val = 6.686279030527307e-09)\n",
      "R_1: (p-val = 2.3560768058500548e-07)\n",
      "A_0: (p-val = 0.9570900853796391)\n",
      "A_1: (p-val = 0.9857134806919428)\n"
     ]
    },
    {
     "data": {
      "image/png": "[encoded data removed]",
      "text/plain": [
       "<Figure size 432x288 with 1 Axes>"
      ]
     },
     "metadata": {
      "needs_background": "light"
     },
     "output_type": "display_data"
    },
    {
     "data": {
      "image/png": "[encoded data removed]",
      "text/plain": [
       "<Figure size 432x288 with 1 Axes>"
      ]
     },
     "metadata": {
      "needs_background": "light"
     },
     "output_type": "display_data"
    },
    {
     "data": {
      "image/png": "[encoded data removed]",
      "text/plain": [
       "<Figure size 432x288 with 1 Axes>"
      ]
     },
     "metadata": {
      "needs_background": "light"
     },
     "output_type": "display_data"
    },
    {
     "data": {
      "image/png": "[encoded data removed]",
      "text/plain": [
       "<Figure size 432x288 with 1 Axes>"
      ]
     },
     "metadata": {
      "needs_background": "light"
     },
     "output_type": "display_data"
    },
    {
     "data": {
      "image/png": "[encoded data removed]",
      "text/plain": [
       "<Figure size 432x288 with 1 Axes>"
      ]
     },
     "metadata": {
      "needs_background": "light"
     },
     "output_type": "display_data"
    },
    {
     "data": {
      "image/png": "[encoded data removed]",
      "text/plain": [
       "<Figure size 432x288 with 1 Axes>"
      ]
     },
     "metadata": {
      "needs_background": "light"
     },
     "output_type": "display_data"
    }
   ],
   "source": [
    "if doUA:\n",
    "    p_val_dict = {}\n",
    "    # run appropriate univariate association test for each independent variable\n",
    "    for each in td:\n",
    "        if each != outcomeLabel and each != instLabel: \n",
    "            p_val_dict[each] = test_selector(each, outcomeLabel, td, categorical_variables)\n",
    "    \n",
    "    num_features = td.shape[1] - 1\n",
    "    \n",
    "    sorted_p_list = sorted(p_val_dict.items(), key = lambda item:item[1])\n",
    "    \n",
    "    #Save all p-values to file\n",
    "    pval_df = pd.DataFrame.from_dict(p_val_dict, orient='index')\n",
    "    filepath = wd_path+ua_folder+'/'+'UA_Significance_'+data_name+'.csv'\n",
    "    pval_df.to_csv(filepath, header=['p-value'], index=True)  \n",
    "    \n",
    "    min_num = min(topResults,num_features)\n",
    "    sorted_p_list = sorted_p_list[: min_num]\n",
    "    print('Plotting top significant '+ str(min_num) + ' features.')\n",
    "    \n",
    "    # summarize significant values of selected number of features\n",
    "    print('###################################################')\n",
    "    print('Significant Univariate Associations:')\n",
    "    for each in sorted_p_list[:min_num]:\n",
    "        print(each[0]+\": (p-val = \"+str(each[1]) +\")\")\n",
    "\n",
    "    #generate appropriate descriptive plot for selected number of features\n",
    "    for i in sorted_p_list:\n",
    "        for j in td:\n",
    "            if j == i[0]:# if the feature name is within the selected feature list\n",
    "                graph_selector(j, outcomeLabel, td, categorical_variables) #plot appropriate figure for each feature"
   ]
  },
  {
   "cell_type": "markdown",
   "metadata": {},
   "source": [
    "---\n",
    "# Create n-fold Cross Validation (CV) Datasets \n",
    "- i.e. Training and Testing Datasets"
   ]
  },
  {
   "cell_type": "code",
   "execution_count": 30,
   "metadata": {},
   "outputs": [
    {
     "name": "stdout",
     "output_type": "stream",
     "text": [
      "Nominal Stratitifed Partitioning\n"
     ]
    }
   ],
   "source": [
    "#Create a header list of independant feature names\n",
    "header = td.columns.values.tolist()\n",
    "header.remove(outcomeLabel)\n",
    "if instLabel != None and instLabel != 'None':\n",
    "    header.remove(instLabel)\n",
    "\n",
    "#Perform CV partitioning (get back list of training and testing partition dataframes)\n",
    "train_dfs, test_dfs = cv_partitioner(td, cv_partitions, partition_method, outcomeLabel, categoricalOutcome, matchName, randomSeed)\n",
    "\n",
    "if partition_method == 'M':\n",
    "    header.remove(matchName)"
   ]
  },
  {
   "cell_type": "markdown",
   "metadata": {},
   "source": [
    "---\n",
    "# Transform data - Standard Scaling\n",
    "- Features are independently scaled to allow them to be more comparable in downstream logistic regression modeling, etc\n",
    "- Scaling is learned on the training data and saved with pickel so that the same scaling may be applied to any future testing data\n",
    "- Completed within each training and testing partition independently"
   ]
  },
  {
   "cell_type": "code",
   "execution_count": 31,
   "metadata": {},
   "outputs": [
    {
     "name": "stdout",
     "output_type": "stream",
     "text": [
      "Scaling Data\n"
     ]
    }
   ],
   "source": [
    "if scaleData:\n",
    "    print('Scaling Data')\n",
    "    data_name = data_name +'_scale'\n",
    "    name_path = wd_path+model_folder+'/'+'Scalar_' + data_name+'_'\n",
    "    train_dfs, test_dfs = dataScaling(train_dfs, test_dfs, outcomeLabel, instLabel, name_path, header)"
   ]
  },
  {
   "cell_type": "markdown",
   "metadata": {},
   "source": [
    "---\n",
    "# Impute Missing Data Values\n",
    "- Missing data values in categorical features are imputed with simple 'mode' imputation\n",
    "- Remaining missing data values are imputed using Iterative Imputer (i.e. MICE) \n",
    "- Completed within each training and testing partition independently"
   ]
  },
  {
   "cell_type": "code",
   "execution_count": 32,
   "metadata": {},
   "outputs": [],
   "source": [
    "if imputeData and isMissingData:\n",
    "    print('Imputing Data')\n",
    "    data_name = data_name + '_imp'\n",
    "    train_dfs, test_dfs = imputeCVData(outcomeLabel, instLabel, categorical_variables, header, train_dfs, test_dfs, randomSeed)"
   ]
  },
  {
   "cell_type": "markdown",
   "metadata": {},
   "source": [
    "### Confirm Missing Data Imputation"
   ]
  },
  {
   "cell_type": "code",
   "execution_count": 33,
   "metadata": {},
   "outputs": [
    {
     "name": "stdout",
     "output_type": "stream",
     "text": [
      "Training Datasets\n"
     ]
    },
    {
     "data": {
      "text/plain": [
       "0"
      ]
     },
     "execution_count": 33,
     "metadata": {},
     "output_type": "execute_result"
    },
    {
     "data": {
      "text/plain": [
       "0"
      ]
     },
     "execution_count": 33,
     "metadata": {},
     "output_type": "execute_result"
    },
    {
     "data": {
      "text/plain": [
       "0"
      ]
     },
     "execution_count": 33,
     "metadata": {},
     "output_type": "execute_result"
    },
    {
     "name": "stdout",
     "output_type": "stream",
     "text": [
      "Testing Datasets\n"
     ]
    },
    {
     "data": {
      "text/plain": [
       "0"
      ]
     },
     "execution_count": 33,
     "metadata": {},
     "output_type": "execute_result"
    },
    {
     "data": {
      "text/plain": [
       "0"
      ]
     },
     "execution_count": 33,
     "metadata": {},
     "output_type": "execute_result"
    },
    {
     "data": {
      "text/plain": [
       "0"
      ]
     },
     "execution_count": 33,
     "metadata": {},
     "output_type": "execute_result"
    }
   ],
   "source": [
    "print(\"Training Datasets\")\n",
    "for each in train_dfs:\n",
    "    each.isnull().sum().sum()\n",
    "\n",
    "print(\"Testing Datasets\")\n",
    "for each in test_dfs:\n",
    "    each.isnull().sum().sum()"
   ]
  },
  {
   "cell_type": "markdown",
   "metadata": {},
   "source": [
    "## Save Training and Testing Datasets as .txt Files"
   ]
  },
  {
   "cell_type": "code",
   "execution_count": 34,
   "metadata": {},
   "outputs": [],
   "source": [
    "data_name = data_name+'_CV_'+str(partition_method)\n",
    "\n",
    "counter = 0\n",
    "for each in train_dfs:\n",
    "    each.to_csv(cv_data_folder+'/'+data_name+'_'+str(counter)+'_Train.txt', index=None, sep='\\t')\n",
    "    counter += 1\n",
    "    \n",
    "counter = 0\n",
    "for each in test_dfs:\n",
    "    each.to_csv(cv_data_folder+'/'+data_name+'_'+str(counter)+'_Test.txt', index=None, sep='\\t')\n",
    "    counter += 1"
   ]
  },
  {
   "cell_type": "markdown",
   "metadata": {},
   "source": [
    "---\n",
    "# Load, Check, and Prepare Saved CV Datasets for ML"
   ]
  },
  {
   "cell_type": "markdown",
   "metadata": {},
   "source": [
    "## Load CV Partition Datasets\n",
    "Re-loads training and testing datasets from saved .txt files"
   ]
  },
  {
   "cell_type": "code",
   "execution_count": 35,
   "metadata": {},
   "outputs": [
    {
     "name": "stdout",
     "output_type": "stream",
     "text": [
      "Number of Training Partitions: 3\n",
      "Number of Testing Partitions: 3\n"
     ]
    }
   ],
   "source": [
    "#create lists to hold training and testing set dataframes.\n",
    "trainList = []\n",
    "testList = []\n",
    "\n",
    "for i in range(cv_partitions):\n",
    "    #Load training partition\n",
    "    trainSet = pd.read_csv(cv_data_folder+'/'+data_name+'_'+str(i)+'_Train.txt', na_values='NA', sep = \"\\t\")\n",
    "    trainList.append(trainSet)\n",
    "    \n",
    "    #Load testing partition\n",
    "    testSet = pd.read_csv(cv_data_folder+'/'+data_name+'_'+str(i)+'_Test.txt', na_values='NA', sep = \"\\t\")\n",
    "    testList.append(testSet)\n",
    "    \n",
    "print('Number of Training Partitions: '+ str(len(trainList)))\n",
    "print('Number of Testing Partitions: '+ str(len(testList)))"
   ]
  },
  {
   "cell_type": "markdown",
   "metadata": {},
   "source": [
    "#### Quality Control Check (Checking one of the partitions)\n",
    "Merge the first training/testing datasets to confirm original dataset is reconstituted"
   ]
  },
  {
   "cell_type": "code",
   "execution_count": 36,
   "metadata": {},
   "outputs": [
    {
     "name": "stdout",
     "output_type": "stream",
     "text": [
      "Number of Cases in Original Dataset: 240\n",
      "Number of Controls in Original Dataset: 260\n"
     ]
    }
   ],
   "source": [
    "#Confirm case/control counts when merging one training and testing dataset\n",
    "classesTrain = trainList[0].apply(lambda x: True if x[outcomeLabel] == 1 else False , axis=1)\n",
    "casesTrain = len(classesTrain[classesTrain == True].index)\n",
    "controlsTrain = len(classesTrain[classesTrain == False].index)\n",
    "\n",
    "classesTest = testList[0].apply(lambda x: True if x[outcomeLabel] == 1 else False , axis=1)\n",
    "casesTest = len(classesTest[classesTest == True].index)\n",
    "controlsTest = len(classesTest[classesTest == False].index)\n",
    "\n",
    "print(\"Number of Cases in Original Dataset: \"+str(casesTrain+casesTest))\n",
    "print(\"Number of Controls in Original Dataset: \"+str(controlsTrain+controlsTest))"
   ]
  },
  {
   "cell_type": "code",
   "execution_count": 37,
   "metadata": {},
   "outputs": [
    {
     "name": "stdout",
     "output_type": "stream",
     "text": [
      "Training Set Dimensions: (333, 7)\n",
      "Testing Set Dimensions: (167, 7)\n"
     ]
    }
   ],
   "source": [
    "#Confirm training and testing set dimensions\n",
    "print(\"Training Set Dimensions: \" + str(trainList[0].shape))\n",
    "print(\"Testing Set Dimensions: \" + str(testList[0].shape))\n",
    "numColumns = trainList[0].shape[1]"
   ]
  },
  {
   "cell_type": "markdown",
   "metadata": {},
   "source": [
    "## Partition Data Preprocessing\n",
    "If present, remove instance id's from datasets prior to analysis. Also confirm that training and testing sets have same set of columns."
   ]
  },
  {
   "cell_type": "code",
   "execution_count": 38,
   "metadata": {},
   "outputs": [],
   "source": [
    "# Drop Instance ID from all training and test sets\n",
    "if instLabel != None and instLabel != 'None':\n",
    "    for i in range(cv_partitions):\n",
    "        trainList[i] = trainList[i].drop([instLabel] , axis = 1)\n",
    "        testList[i] = testList[i].drop([instLabel] , axis = 1)"
   ]
  },
  {
   "cell_type": "code",
   "execution_count": 39,
   "metadata": {
    "scrolled": true
   },
   "outputs": [],
   "source": [
    "trainColumnNames = list(trainList[0])\n",
    "testColumnNames = list(testList[0])\n",
    "\n",
    "if not trainColumnNames == testColumnNames:\n",
    "    print('Error: Training columns do not match testing columns!')\n",
    "\n",
    "# As we can see, instLabel is no longer a column name for any of the sets\n",
    "#print(trainColumnNames)\n",
    "#print(testColumnNames)\n",
    "\n",
    "#Create master list of feature names (excluding outcome column)\n",
    "ordered_feature_names = copy.deepcopy(trainColumnNames) #Stores original ordered feature list \n",
    "ordered_feature_names.remove(outcomeLabel)\n",
    "#ordered_feature_names"
   ]
  },
  {
   "cell_type": "markdown",
   "metadata": {},
   "source": [
    "## Format data for Scikit learn (separate features from outcome)"
   ]
  },
  {
   "cell_type": "code",
   "execution_count": 40,
   "metadata": {},
   "outputs": [],
   "source": [
    "# Separate data into training and test features and outcomes\n",
    "xTrainList = []\n",
    "yTrainList = []\n",
    "xTestList = []\n",
    "yTestList = []\n",
    "\n",
    "for i in range(cv_partitions):\n",
    "    xTrainList.append(trainList[i].iloc[:, 1:].values)\n",
    "    yTrainList.append(trainList[i].iloc[:, 0].values)\n",
    " \n",
    "    xTestList.append(testList[i].iloc[:, 1:].values)\n",
    "    yTestList.append(testList[i].iloc[:, 0].values)"
   ]
  },
  {
   "cell_type": "markdown",
   "metadata": {},
   "source": [
    "---\n",
    "# Feature Importance Evaluation\n",
    "- Completed independently within each training dataset"
   ]
  },
  {
   "cell_type": "code",
   "execution_count": 41,
   "metadata": {},
   "outputs": [],
   "source": [
    "#Store indexes of 'interesting' features identified by each algorithm in algorithm labeled dictionary\n",
    "selectedFeatureLists = {}\n",
    "metaScoreDict = {}\n",
    "metaFeatureRanks = {}"
   ]
  },
  {
   "cell_type": "markdown",
   "metadata": {},
   "source": [
    "## Mutual information"
   ]
  },
  {
   "cell_type": "code",
   "execution_count": 42,
   "metadata": {},
   "outputs": [
    {
     "data": {
      "application/vnd.jupyter.widget-view+json": {
       "model_id": "fd35cbfe32c44ba79b0af049059feb9e",
       "version_major": 2,
       "version_minor": 0
      },
      "text/plain": [
       "HBox(children=(FloatProgress(value=0.0, description='1st loop', max=3.0, style=ProgressStyle(description_width…"
      ]
     },
     "metadata": {},
     "output_type": "display_data"
    },
    {
     "name": "stdout",
     "output_type": "stream",
     "text": [
      "\n",
      "Mutual Information Run Time: 0.44867682456970215\n"
     ]
    },
    {
     "data": {
      "image/png": "[encoded data removed]",
      "text/plain": [
       "<Figure size 432x864 with 1 Axes>"
      ]
     },
     "metadata": {
      "needs_background": "light"
     },
     "output_type": "display_data"
    }
   ],
   "source": [
    "#Run Mutual Information for each CV------------------------------------------------------------------------------\n",
    "algorithm = 'mutual_information'\n",
    "if algorithm in algorithms:\n",
    "    start_time = time.time()\n",
    "    scoreSet = [] #Used to save excel filel with data-ordered scores for each CV partition\n",
    "    featureNameRanks = [] #list of feature name ranks for each CV partition\n",
    "    scoreDictSet = [] #list of feature/score dictionaries (one for each cv partition)\n",
    "    cvKeepList = [] #Used for initial feature selection attempt to keep only features with 'informative' support\n",
    "    \n",
    "    for i in tqdm_notebook(range(cv_partitions), desc='1st loop'):\n",
    "        #Run algorithm and return scores and sorted score dictionary\n",
    "        scores, scoreDict, score_sorted_features = run_mi(xTrainList[i],yTrainList[i], i, data_name, output_folder,randomSeed,ordered_feature_names,algorithm)\n",
    "        scoreSet.append(scores) #store data-ordered scores for this cv partition\n",
    "        scoreDictSet.append(scoreDict)\n",
    "        featureNameRanks.append(score_sorted_features)\n",
    "        \n",
    "        #Add list of feature names that meet the 'informative' cutoff\n",
    "        keepList = []\n",
    "        for each in scoreDict:\n",
    "            if scoreDict[each] > 0:\n",
    "                keepList.append(each)\n",
    "                #keepList.append(ordered_feature_names.index(each))\n",
    "        cvKeepList.append(keepList)\n",
    "        \n",
    "        #Create dictionary of average scores\n",
    "        if i == 0:\n",
    "            scoreSum = copy.deepcopy(scoreDict)\n",
    "        else:\n",
    "            for each in scoreDict:\n",
    "                scoreSum[each] += scoreDict[each]\n",
    "    \n",
    "    #Save/report analysis results\n",
    "    #cv_output_name = data_name+'_clean_imp_CV_'+partition_method\n",
    "    reportAllFS(scoreSet, algorithm, ordered_feature_names,output_folder,data_name) #Save CV scores file for algorithm\n",
    "    reportTopFS(scoreSum, algorithm, cv_partitions,topResults,wd_path,output_folder,data_name)\n",
    "    \n",
    "    #Store info for downstream feature selection\n",
    "    selectedFeatureLists[algorithm] = cvKeepList\n",
    "    metaScoreDict[algorithm] = scoreDictSet\n",
    "    metaFeatureRanks[algorithm] = featureNameRanks\n",
    "\n",
    "    elapsed_time = time.time() - start_time\n",
    "    print('Mutual Information Run Time: '+ str(elapsed_time))\n",
    "    run_time_dict[algorithm] = elapsed_time"
   ]
  },
  {
   "cell_type": "markdown",
   "metadata": {},
   "source": [
    "## MultiSURF"
   ]
  },
  {
   "cell_type": "code",
   "execution_count": 43,
   "metadata": {},
   "outputs": [
    {
     "data": {
      "application/vnd.jupyter.widget-view+json": {
       "model_id": "b2e175f826cf4d52a81c8ab0d27edbd4",
       "version_major": 2,
       "version_minor": 0
      },
      "text/plain": [
       "HBox(children=(FloatProgress(value=0.0, description='1st loop', max=3.0, style=ProgressStyle(description_width…"
      ]
     },
     "metadata": {},
     "output_type": "display_data"
    },
    {
     "name": "stdout",
     "output_type": "stream",
     "text": [
      "\n",
      "MultiSURF Run Time: 2.5201520919799805\n"
     ]
    },
    {
     "data": {
      "image/png": "[encoded data removed]",
      "text/plain": [
       "<Figure size 432x864 with 1 Axes>"
      ]
     },
     "metadata": {
      "needs_background": "light"
     },
     "output_type": "display_data"
    }
   ],
   "source": [
    "\n",
    "#Run MultiSURF for each CV------------------------------------------------------------------------------\n",
    "algorithm = 'multisurf'\n",
    "if algorithm in algorithms:\n",
    "    start_time = time.time()\n",
    "    featureNameRanks = [] ##ADD???\n",
    "    scoreSet = [] #Used to save excel filel with data-ordered scores for each CV partition\n",
    "    scoreDictSet = [] #list of feature/score dictionaries (one for each cv partition)\n",
    "    cvKeepList = [] #Used for initial feature selection attempt to keep only features with 'informative' support\n",
    "    \n",
    "    for i in tqdm_notebook(range(cv_partitions), desc='1st loop'):\n",
    "        #If training set is large MultiSURF will run very slowly - quadradic time complexity with # instances (so use subset)\n",
    "        tempData = pd.concat([pd.DataFrame(yTrainList[i]),pd.DataFrame(xTrainList[i])], axis=1, sort=False)\n",
    "        if len(tempData) < instanceSubset:\n",
    "            dataSample = tempData.sample(n=len(tempData), axis = 0)\n",
    "        else:\n",
    "            dataSample = tempData.sample(n=instanceSubset, axis = 0)\n",
    "\n",
    "        xTrain = dataSample.iloc[:, 1:].values\n",
    "        yTrain = dataSample.iloc[:, 0].values\n",
    "        #Run algorithm and return scores and sorted score dictionary\n",
    "        scores, scoreDict, score_sorted_features = run_multisurf(xTrain,yTrain, i, data_name, output_folder,randomSeed,ordered_feature_names,algorithm)\n",
    "        scoreSet.append(scores) #store data-ordered scores for this cv partition\n",
    "        scoreDictSet.append(scoreDict)\n",
    "        featureNameRanks.append(score_sorted_features)\n",
    "        \n",
    "        #Add list of feature names that meet the 'informative' cutoff\n",
    "        keepList = []\n",
    "        for each in scoreDict:\n",
    "            if scoreDict[each] > 0:\n",
    "                keepList.append(each)\n",
    "                #keepList.append(ordered_feature_names.index(each))\n",
    "        cvKeepList.append(keepList)\n",
    "        \n",
    "        #Create dictionary of average scores\n",
    "        if i == 0:\n",
    "            scoreSum = copy.deepcopy(scoreDict)\n",
    "        else:\n",
    "            for each in scoreDict:\n",
    "                scoreSum[each] += scoreDict[each]\n",
    "    \n",
    "    #Save/report analysis results\n",
    "    reportAllFS(scoreSet, algorithm, ordered_feature_names,output_folder,data_name) #Save CV scores file for algorithm\n",
    "    reportTopFS(scoreSum, algorithm, cv_partitions,topResults,wd_path,output_folder,data_name)\n",
    "    \n",
    "    #Store info for downstream feature selection\n",
    "    selectedFeatureLists[algorithm] = cvKeepList\n",
    "    metaScoreDict[algorithm] = scoreDictSet\n",
    "    metaFeatureRanks[algorithm] = featureNameRanks\n",
    "\n",
    "    elapsed_time = time.time() - start_time\n",
    "    print('MultiSURF Run Time: '+ str(elapsed_time))\n",
    "    run_time_dict[algorithm] = elapsed_time"
   ]
  },
  {
   "cell_type": "markdown",
   "metadata": {},
   "source": [
    "---\n",
    "# Feature Selection"
   ]
  },
  {
   "cell_type": "markdown",
   "metadata": {},
   "source": [
    "## Identify union of 'interesting' features from different algorithms\n",
    "- Operates no matter how many feature selection methods are being applied\n",
    "- But assumes that all methods have larger scores as being more informative"
   ]
  },
  {
   "cell_type": "code",
   "execution_count": 44,
   "metadata": {},
   "outputs": [],
   "source": [
    "cv_Selected_List = selectFeatures(algorithms, cv_partitions, selectedFeatureLists, maxFeaturesToKeep,metaFeatureRanks)"
   ]
  },
  {
   "cell_type": "markdown",
   "metadata": {},
   "source": [
    "### Report counts of 'interesting' features identified by each algorithm"
   ]
  },
  {
   "cell_type": "code",
   "execution_count": 45,
   "metadata": {},
   "outputs": [
    {
     "name": "stdout",
     "output_type": "stream",
     "text": [
      "Original feature count: 6\n",
      "mutual_information\n",
      "5\n",
      "5\n",
      "3\n",
      "multisurf\n",
      "5\n",
      "5\n",
      "6\n",
      "Selected Counts\n",
      "6\n",
      "6\n",
      "6\n"
     ]
    }
   ],
   "source": [
    "print('Original feature count: '+str(len(ordered_feature_names)))\n",
    "\n",
    "for each in algorithms:\n",
    "    print(each)\n",
    "    for cv in selectedFeatureLists[each]:\n",
    "        print(len(cv))\n",
    "    \n",
    "print(\"Selected Counts\")\n",
    "for each in cv_Selected_List:\n",
    "    print(len(each))"
   ]
  },
  {
   "cell_type": "markdown",
   "metadata": {},
   "source": [
    "## Generate Filtered Datasets (Save as new .txt files)\n",
    "- These datasets included only the selected features for each respective partition\n",
    "- Note that the feature order from the original datasets is no longer preserved in these datasets"
   ]
  },
  {
   "cell_type": "code",
   "execution_count": 46,
   "metadata": {},
   "outputs": [],
   "source": [
    "if filterPoorFeatures:\n",
    "    genFilteredDatasets(cv_Selected_List, outcomeLabel, instLabel,cv_partitions,cv_data_folder,data_name)\n",
    "    data_name = data_name +'_FS'"
   ]
  },
  {
   "cell_type": "markdown",
   "metadata": {},
   "source": [
    "## Generate Filtered MultiSURF Files (Save as new .txt files)"
   ]
  },
  {
   "cell_type": "code",
   "execution_count": 47,
   "metadata": {},
   "outputs": [],
   "source": [
    "if 'multisurf' in algorithms: #This method is only meant for working with MultiSURF scores\n",
    "    if filterPoorFeatures:\n",
    "        for i in range(cv_partitions):\n",
    "            tempDict = scoreDictSet[i]\n",
    "\n",
    "            #create new dictionary with only selected features\n",
    "            scoreDict = {}\n",
    "            for j in cv_Selected_List[i]:\n",
    "                scoreDict[j] = tempDict[j]\n",
    "            \n",
    "            filename = output_folder+'/'+'multisurf'+'_'+data_name+'_'+str(i)+'_Train.txt'\n",
    "            sort_save_fs_fi_scores(scoreDict, 'multisurf', filename)"
   ]
  },
  {
   "cell_type": "markdown",
   "metadata": {},
   "source": [
    "---\n",
    "# Load, Check, and Prepare Filtered CV Datasets for ML\n",
    "- If user opted not to filter datasets then the code below will simply reload the original CV datasets again."
   ]
  },
  {
   "cell_type": "markdown",
   "metadata": {},
   "source": [
    "## Load CV Partition Datasets (Filtered Datasets)"
   ]
  },
  {
   "cell_type": "code",
   "execution_count": 48,
   "metadata": {},
   "outputs": [
    {
     "name": "stdout",
     "output_type": "stream",
     "text": [
      "Number of Training Partitions: 3\n",
      "Number of Testing Partitions: 3\n"
     ]
    }
   ],
   "source": [
    "#create lists to hold training and testing set dataframes.\n",
    "trainList = []\n",
    "testList = []\n",
    "\n",
    "for i in range(cv_partitions):\n",
    "    #Load training partition\n",
    "    trainset_name = cv_data_folder+'/'+data_name+'_'+str(i)+'_Train.txt'\n",
    "    trainSet = pd.read_csv(trainset_name, na_values='NA', sep = \"\\t\")\n",
    "    trainList.append(trainSet)\n",
    "\n",
    "    #Load testing partition\n",
    "    testset_name = cv_data_folder+'/'+data_name+'_'+str(i)+'_Test.txt'\n",
    "    testSet = pd.read_csv(testset_name, na_values='NA', sep = \"\\t\")\n",
    "    testList.append(testSet)\n",
    "    \n",
    "print('Number of Training Partitions: '+ str(len(trainList)))\n",
    "print('Number of Testing Partitions: '+ str(len(testList)))"
   ]
  },
  {
   "cell_type": "markdown",
   "metadata": {},
   "source": [
    "## CV partition data cleaning (Filtered Datasets)"
   ]
  },
  {
   "cell_type": "code",
   "execution_count": 49,
   "metadata": {},
   "outputs": [],
   "source": [
    "# Drop Instance ID from all training and test sets\n",
    "if instLabel != None and instLabel != 'None':\n",
    "    for i in range(cv_partitions):\n",
    "        trainList[i] = trainList[i].drop([instLabel] , axis = 1)\n",
    "        testList[i] = testList[i].drop([instLabel] , axis = 1)"
   ]
  },
  {
   "cell_type": "code",
   "execution_count": 50,
   "metadata": {
    "scrolled": true
   },
   "outputs": [],
   "source": [
    "global_ordered_features = [] #Holds the new order of features in the FS CV datasets\n",
    "for i in range(cv_partitions):\n",
    "    cv_ordered_features = list(trainList[i])\n",
    "    cv_ordered_features.remove(outcomeLabel)\n",
    "    #print(cv_ordered_features)\n",
    "    global_ordered_features.append(cv_ordered_features)"
   ]
  },
  {
   "cell_type": "markdown",
   "metadata": {},
   "source": [
    "## Format data for Scikit learn (filtered datasets)"
   ]
  },
  {
   "cell_type": "code",
   "execution_count": 51,
   "metadata": {},
   "outputs": [],
   "source": [
    "# Separate data into training and test features and outcomes\n",
    "xTrainList = []\n",
    "yTrainList = []\n",
    "xTestList = []\n",
    "yTestList = []\n",
    "\n",
    "for i in range(cv_partitions):\n",
    "    xTrainList.append(trainList[i].iloc[:, 1:].values)\n",
    "    yTrainList.append(trainList[i].iloc[:, 0].values)\n",
    " \n",
    "    xTestList.append(testList[i].iloc[:, 1:].values)\n",
    "    yTestList.append(testList[i].iloc[:, 0].values)\n"
   ]
  },
  {
   "cell_type": "markdown",
   "metadata": {},
   "source": [
    "---\n",
    "# Machine Learning Modeling\n",
    "ML algorithms are run one after the other below. Within each we conduct a hyperparameter sweep, train a best model and evaluate it indendently within each CV training/testing partition. \n",
    "- All standard classification metrics are computed for the resulting models as well as an ROC curve and precision/recall curve"
   ]
  },
  {
   "cell_type": "markdown",
   "metadata": {},
   "source": [
    "## Run Logistic Regression"
   ]
  },
  {
   "cell_type": "code",
   "execution_count": 52,
   "metadata": {},
   "outputs": [],
   "source": [
    "algorithm = 'logistic_regression'\n",
    "if algorithm in algorithmsToRun:\n",
    "    start_time = time.time()\n",
    "    algColor = algColors[algorithmsToRun.index(algorithm)]\n",
    "    mean_fpr, mean_tpr, mean_auc, mean_prec, mean_pr_auc, mean_ave_prec, FI_ave = eval_Algorithm_FI(algorithm,ordered_feature_names,\n",
    "        xTrainList,yTrainList,xTestList,yTestList,cv_partitions,global_ordered_features,wd_path,output_folder,\n",
    "        data_name,randomSeed,param_grid,model_folder,algColor,hype_cv,n_trials,scoring_metric,timeout)\n",
    "    \n",
    "    result_dict = {'algorithm':algorithm,'fpr':mean_fpr, 'tpr':mean_tpr, 'auc':mean_auc, 'prec':mean_prec, 'pr_auc':mean_pr_auc, 'ave_prec':mean_ave_prec}\n",
    "    pickle.dump(result_dict, open(wd_path+model_folder+'/Results_'+algorithm+'.sav', 'wb'))\n",
    "\n",
    "    #Sort averages (decreasing order and print top 'n' and plot top 'n'\n",
    "    names_scores = {'Names':ordered_feature_names, 'Scores':FI_ave} \n",
    "    ns = pd.DataFrame(names_scores)\n",
    "    ns = ns.sort_values(by='Scores',ascending = False)\n",
    "\n",
    "    #Select top 'n' to report and plot\n",
    "    print(\"\\n---Feature Importances---\\n\")\n",
    "    ns.head(topResults)\n",
    "    \n",
    "    elapsed_time = time.time() - start_time\n",
    "    print('Logistic Regression Run Time: '+ str(elapsed_time))\n",
    "    run_time_dict[algorithm] = elapsed_time"
   ]
  },
  {
   "cell_type": "markdown",
   "metadata": {},
   "source": [
    "## Run Decision Tree"
   ]
  },
  {
   "cell_type": "code",
   "execution_count": 53,
   "metadata": {},
   "outputs": [],
   "source": [
    "algorithm = 'decision_tree'\n",
    "if algorithm in algorithmsToRun:\n",
    "    start_time = time.time()\n",
    "    algColor = algColors[algorithmsToRun.index(algorithm)]\n",
    "    mean_fpr, mean_tpr, mean_auc, mean_prec, mean_pr_auc, mean_ave_prec, FI_ave = eval_Algorithm_FI(algorithm,ordered_feature_names,\n",
    "        xTrainList,yTrainList,xTestList,yTestList,cv_partitions,global_ordered_features,wd_path,output_folder,\n",
    "        data_name,randomSeed,param_grid,model_folder,algColor,hype_cv,n_trials,scoring_metric,timeout)\n",
    "    \n",
    "    result_dict = {'algorithm':algorithm,'fpr':mean_fpr, 'tpr':mean_tpr, 'auc':mean_auc, 'prec':mean_prec, 'pr_auc':mean_pr_auc, 'ave_prec':mean_ave_prec}\n",
    "    pickle.dump(result_dict, open(wd_path+model_folder+'/Results_'+algorithm+'.sav', 'wb'))\n",
    "    \n",
    "    #Sort averages (decreasing order and print top 'n' and plot top 'n'\n",
    "    names_scores = {'Names':ordered_feature_names, 'Scores':FI_ave} \n",
    "    ns = pd.DataFrame(names_scores)\n",
    "    ns = ns.sort_values(by='Scores',ascending = False)\n",
    "\n",
    "    #Select top 'n' to report and plot\n",
    "    print(\"\\n---Feature Importances---\\n\")\n",
    "    ns.head(topResults)\n",
    "    \n",
    "    elapsed_time = time.time() - start_time\n",
    "    print('Decision Tree Run Time: '+ str(elapsed_time))\n",
    "    run_time_dict[algorithm] = elapsed_time"
   ]
  },
  {
   "cell_type": "markdown",
   "metadata": {},
   "source": [
    "## Run Random Forest"
   ]
  },
  {
   "cell_type": "code",
   "execution_count": 54,
   "metadata": {},
   "outputs": [],
   "source": [
    "algorithm = 'random_forest'\n",
    "if algorithm in algorithmsToRun:\n",
    "    start_time = time.time()\n",
    "    algColor = algColors[algorithmsToRun.index(algorithm)]\n",
    "    mean_fpr, mean_tpr, mean_auc, mean_prec, mean_pr_auc, mean_ave_prec, FI_ave = eval_Algorithm_FI(algorithm,ordered_feature_names,\n",
    "        xTrainList,yTrainList,xTestList,yTestList,cv_partitions,global_ordered_features,wd_path,output_folder,\n",
    "        data_name,randomSeed,param_grid,model_folder,algColor,hype_cv,n_trials,scoring_metric,timeout)\n",
    "    \n",
    "    result_dict = {'algorithm':algorithm,'fpr':mean_fpr, 'tpr':mean_tpr, 'auc':mean_auc, 'prec':mean_prec, 'pr_auc':mean_pr_auc, 'ave_prec':mean_ave_prec}\n",
    "    pickle.dump(result_dict, open(wd_path+model_folder+'/Results_'+algorithm+'.sav', 'wb'))\n",
    "\n",
    "    #Sort averages (decreasing order and print top 'n' and plot top 'n'\n",
    "    names_scores = {'Names':ordered_feature_names, 'Scores':FI_ave} \n",
    "    ns = pd.DataFrame(names_scores)\n",
    "    ns = ns.sort_values(by='Scores',ascending = False)\n",
    "\n",
    "    #Select top 'n' to report and plot\n",
    "    print(\"\\n---Feature Importances---\\n\")\n",
    "    ns.head(topResults)\n",
    "    \n",
    "    elapsed_time = time.time() - start_time\n",
    "    print('Random Forest Run Time: '+ str(elapsed_time))\n",
    "    run_time_dict[algorithm] = elapsed_time"
   ]
  },
  {
   "cell_type": "markdown",
   "metadata": {},
   "source": [
    "## Run Naive Bayes"
   ]
  },
  {
   "cell_type": "code",
   "execution_count": 55,
   "metadata": {},
   "outputs": [],
   "source": [
    "algorithm = 'naive_bayes'\n",
    "if algorithm in algorithmsToRun:\n",
    "    start_time = time.time()\n",
    "    algColor = algColors[algorithmsToRun.index(algorithm)]\n",
    "    mean_fpr, mean_tpr, mean_auc, mean_prec, mean_pr_auc, mean_ave_prec, FI_ave = eval_Algorithm_FI(algorithm,ordered_feature_names,\n",
    "        xTrainList,yTrainList,xTestList,yTestList,cv_partitions,global_ordered_features,wd_path,output_folder,\n",
    "        data_name,randomSeed,param_grid,model_folder,algColor,hype_cv,n_trials,scoring_metric,timeout)\n",
    "    \n",
    "    result_dict = {'algorithm':algorithm,'fpr':mean_fpr, 'tpr':mean_tpr, 'auc':mean_auc, 'prec':mean_prec, 'pr_auc':mean_pr_auc, 'ave_prec':mean_ave_prec}\n",
    "    pickle.dump(result_dict, open(wd_path+model_folder+'/Results_'+algorithm+'.sav', 'wb'))\n",
    "        \n",
    "    #Sort averages (decreasing order and print top 'n' and plot top 'n'\n",
    "    names_scores = {'Names':ordered_feature_names, 'Scores':FI_ave} \n",
    "    ns = pd.DataFrame(names_scores)\n",
    "    ns = ns.sort_values(by='Scores',ascending = False)\n",
    "\n",
    "    #Select top 'n' to report and plot\n",
    "    print(\"\\n---Feature Importances---\\n\")\n",
    "    ns.head(topResults)\n",
    "    \n",
    "    elapsed_time = time.time() - start_time\n",
    "    print('Naive Bayes Run Time: '+ str(elapsed_time))\n",
    "    run_time_dict[algorithm] = elapsed_time"
   ]
  },
  {
   "cell_type": "markdown",
   "metadata": {},
   "source": [
    "## Run XGBoost"
   ]
  },
  {
   "cell_type": "code",
   "execution_count": 56,
   "metadata": {},
   "outputs": [],
   "source": [
    "algorithm = 'XGB'\n",
    "if algorithm in algorithmsToRun:\n",
    "    start_time = time.time()\n",
    "    algColor = algColors[algorithmsToRun.index(algorithm)]\n",
    "    mean_fpr, mean_tpr, mean_auc, mean_prec, mean_pr_auc, mean_ave_prec, FI_ave = eval_Algorithm_FI(algorithm,ordered_feature_names,\n",
    "        xTrainList,yTrainList,xTestList,yTestList,cv_partitions,global_ordered_features,wd_path,output_folder,\n",
    "        data_name,randomSeed,param_grid,model_folder,algColor,hype_cv,n_trials,scoring_metric,timeout)\n",
    "    \n",
    "    result_dict = {'algorithm':algorithm,'fpr':mean_fpr, 'tpr':mean_tpr, 'auc':mean_auc, 'prec':mean_prec, 'pr_auc':mean_pr_auc, 'ave_prec':mean_ave_prec}\n",
    "    pickle.dump(result_dict, open(wd_path+model_folder+'/Results_'+algorithm+'.sav', 'wb'))\n",
    "\n",
    "    #Sort averages (decreasing order and print top 'n' and plot top 'n'\n",
    "    names_scores = {'Names':ordered_feature_names, 'Scores':FI_ave} \n",
    "    ns = pd.DataFrame(names_scores)\n",
    "    ns = ns.sort_values(by='Scores',ascending = False)\n",
    "\n",
    "    #Select top 'n' to report and plot\n",
    "    print(\"\\n---Feature Importances---\\n\")\n",
    "    ns.head(topResults)\n",
    "    \n",
    "    elapsed_time = time.time() - start_time\n",
    "    print('XGBoost Run Time: '+ str(elapsed_time))\n",
    "    run_time_dict[algorithm] = elapsed_time"
   ]
  },
  {
   "cell_type": "markdown",
   "metadata": {},
   "source": [
    "## Run LGBoost"
   ]
  },
  {
   "cell_type": "code",
   "execution_count": 57,
   "metadata": {},
   "outputs": [],
   "source": [
    "algorithm = 'LGB'\n",
    "if algorithm in algorithmsToRun:\n",
    "    start_time = time.time()\n",
    "    algColor = algColors[algorithmsToRun.index(algorithm)]\n",
    "    mean_fpr, mean_tpr, mean_auc, mean_prec, mean_pr_auc, mean_ave_prec, FI_ave = eval_Algorithm_FI(algorithm,ordered_feature_names,\n",
    "        xTrainList,yTrainList,xTestList,yTestList,cv_partitions,global_ordered_features,wd_path,output_folder,\n",
    "        data_name,randomSeed,param_grid,model_folder,algColor,hype_cv,n_trials,scoring_metric,timeout)\n",
    "    \n",
    "    result_dict = {'algorithm':algorithm,'fpr':mean_fpr, 'tpr':mean_tpr, 'auc':mean_auc, 'prec':mean_prec, 'pr_auc':mean_pr_auc, 'ave_prec':mean_ave_prec}\n",
    "    pickle.dump(result_dict, open(wd_path+model_folder+'/Results_'+algorithm+'.sav', 'wb'))\n",
    "\n",
    "    #Sort averages (decreasing order and print top 'n' and plot top 'n'\n",
    "    names_scores = {'Names':ordered_feature_names, 'Scores':FI_ave} \n",
    "    ns = pd.DataFrame(names_scores)\n",
    "    ns = ns.sort_values(by='Scores',ascending = False)\n",
    "\n",
    "    #Select top 'n' to report and plot\n",
    "    print(\"\\n---Feature Importances---\\n\")\n",
    "    ns.head(topResults)\n",
    "        \n",
    "    elapsed_time = time.time() - start_time\n",
    "    print('LGBoost Run Time: '+ str(elapsed_time))\n",
    "    run_time_dict[algorithm] = elapsed_time"
   ]
  },
  {
   "cell_type": "markdown",
   "metadata": {},
   "source": [
    "## Run SVM"
   ]
  },
  {
   "cell_type": "code",
   "execution_count": 58,
   "metadata": {},
   "outputs": [],
   "source": [
    "algorithm = 'SVM'\n",
    "if algorithm in algorithmsToRun:\n",
    "    start_time = time.time()\n",
    "    algColor = algColors[algorithmsToRun.index(algorithm)]\n",
    "    mean_fpr, mean_tpr, mean_auc, mean_prec, mean_pr_auc, mean_ave_prec, FI_ave = eval_Algorithm_FI(algorithm,ordered_feature_names,\n",
    "        xTrainList,yTrainList,xTestList,yTestList,cv_partitions,global_ordered_features,wd_path,output_folder,\n",
    "        data_name,randomSeed,param_grid,model_folder,algColor,hype_cv,n_trials,scoring_metric,timeout)\n",
    "    \n",
    "    result_dict = {'algorithm':algorithm,'fpr':mean_fpr, 'tpr':mean_tpr, 'auc':mean_auc, 'prec':mean_prec, 'pr_auc':mean_pr_auc, 'ave_prec':mean_ave_prec}\n",
    "    pickle.dump(result_dict, open(wd_path+model_folder+'/Results_'+algorithm+'.sav', 'wb'))\n",
    "\n",
    "    #Sort averages (decreasing order and print top 'n' and plot top 'n'\n",
    "    names_scores = {'Names':ordered_feature_names, 'Scores':FI_ave} \n",
    "    ns = pd.DataFrame(names_scores)\n",
    "    ns = ns.sort_values(by='Scores',ascending = False)\n",
    "\n",
    "    #Select top 'n' to report and plot\n",
    "    print(\"\\n---Feature Importances---\\n\")\n",
    "    ns.head(topResults)\n",
    "    \n",
    "    elapsed_time = time.time() - start_time\n",
    "    print('SVM Run Time: '+ str(elapsed_time))\n",
    "    run_time_dict[algorithm] = elapsed_time"
   ]
  },
  {
   "cell_type": "markdown",
   "metadata": {},
   "source": [
    "## Run ANN"
   ]
  },
  {
   "cell_type": "code",
   "execution_count": 59,
   "metadata": {},
   "outputs": [],
   "source": [
    "algorithm = 'ANN'\n",
    "if algorithm in algorithmsToRun:\n",
    "    start_time = time.time()\n",
    "    algColor = algColors[algorithmsToRun.index(algorithm)]\n",
    "    mean_fpr, mean_tpr, mean_auc, mean_prec, mean_pr_auc, mean_ave_prec, FI_ave = eval_Algorithm_FI(algorithm,ordered_feature_names,\n",
    "        xTrainList,yTrainList,xTestList,yTestList,cv_partitions,global_ordered_features,wd_path,output_folder,\n",
    "        data_name,randomSeed,param_grid,model_folder,algColor,hype_cv,n_trials,scoring_metric,timeout)\n",
    "    \n",
    "    result_dict = {'algorithm':algorithm,'fpr':mean_fpr, 'tpr':mean_tpr, 'auc':mean_auc, 'prec':mean_prec, 'pr_auc':mean_pr_auc, 'ave_prec':mean_ave_prec}\n",
    "    pickle.dump(result_dict, open(wd_path+model_folder+'/Results_'+algorithm+'.sav', 'wb'))\n",
    "\n",
    "    #Sort averages (decreasing order and print top 'n' and plot top 'n'\n",
    "    names_scores = {'Names':ordered_feature_names, 'Scores':FI_ave} \n",
    "    ns = pd.DataFrame(names_scores)\n",
    "    ns = ns.sort_values(by='Scores',ascending = False)\n",
    "\n",
    "    #Select top 'n' to report and plot\n",
    "    print(\"\\n---Feature Importances---\\n\")\n",
    "    ns.head(topResults)\n",
    "\n",
    "    elapsed_time = time.time() - start_time\n",
    "    print('ANN Run Time: '+ str(elapsed_time))\n",
    "    run_time_dict[algorithm] = elapsed_time"
   ]
  },
  {
   "cell_type": "markdown",
   "metadata": {},
   "source": [
    "## Run eLCS"
   ]
  },
  {
   "cell_type": "code",
   "execution_count": 60,
   "metadata": {
    "scrolled": false
   },
   "outputs": [],
   "source": [
    "algorithm = 'eLCS'\n",
    "if algorithm in algorithmsToRun:\n",
    "    start_time = time.time()\n",
    "    algColor = algColors[algorithmsToRun.index(algorithm)]\n",
    "    mean_fpr, mean_tpr, mean_auc, mean_prec, mean_pr_auc, mean_ave_prec, FI_ave = eval_Algorithm_FI(algorithm,ordered_feature_names,\n",
    "        xTrainList,yTrainList,xTestList,yTestList,cv_partitions,global_ordered_features,wd_path,output_folder,\n",
    "        data_name,randomSeed,param_grid,model_folder,algColor,hype_cv,n_trials,scoring_metric,lcs_timeout)\n",
    "    \n",
    "    result_dict = {'algorithm':algorithm,'fpr':mean_fpr, 'tpr':mean_tpr, 'auc':mean_auc, 'prec':mean_prec, 'pr_auc':mean_pr_auc, 'ave_prec':mean_ave_prec}\n",
    "    pickle.dump(result_dict, open(wd_path+model_folder+'/Results_'+algorithm+'.sav', 'wb'))\n",
    "\n",
    "    #Sort averages (decreasing order and print top 'n' and plot top 'n'\n",
    "    names_scores = {'Names':ordered_feature_names, 'Scores':FI_ave} \n",
    "    ns = pd.DataFrame(names_scores)\n",
    "    ns = ns.sort_values(by='Scores',ascending = False)\n",
    "\n",
    "    #Select top 'n' to report and plot\n",
    "    print(\"\\n---Feature Importances---\\n\")\n",
    "    ns.head(topResults)\n",
    "\n",
    "    elapsed_time = time.time() - start_time\n",
    "    print('eLCS Run Time: '+ str(elapsed_time))\n",
    "    run_time_dict[algorithm] = elapsed_time"
   ]
  },
  {
   "cell_type": "markdown",
   "metadata": {},
   "source": [
    "## Run XCS"
   ]
  },
  {
   "cell_type": "code",
   "execution_count": 61,
   "metadata": {},
   "outputs": [],
   "source": [
    "algorithm = 'XCS'\n",
    "if algorithm in algorithmsToRun:\n",
    "    start_time = time.time()\n",
    "    algColor = algColors[algorithmsToRun.index(algorithm)]\n",
    "    mean_fpr, mean_tpr, mean_auc, mean_prec, mean_pr_auc, mean_ave_prec, FI_ave = eval_Algorithm_FI(algorithm,ordered_feature_names,\n",
    "        xTrainList,yTrainList,xTestList,yTestList,cv_partitions,global_ordered_features,wd_path,output_folder,\n",
    "        data_name,randomSeed,param_grid,model_folder,algColor,hype_cv,n_trials,scoring_metric,lcs_timeout)\n",
    "    \n",
    "    result_dict = {'algorithm':algorithm,'fpr':mean_fpr, 'tpr':mean_tpr, 'auc':mean_auc, 'prec':mean_prec, 'pr_auc':mean_pr_auc, 'ave_prec':mean_ave_prec}\n",
    "    pickle.dump(result_dict, open(wd_path+model_folder+'/Results_'+algorithm+'.sav', 'wb'))\n",
    "\n",
    "    #Sort averages (decreasing order and print top 'n' and plot top 'n'\n",
    "    names_scores = {'Names':ordered_feature_names, 'Scores':FI_ave} \n",
    "    ns = pd.DataFrame(names_scores)\n",
    "    ns = ns.sort_values(by='Scores',ascending = False)\n",
    "\n",
    "    #Select top 'n' to report and plot\n",
    "    print(\"\\n---Feature Importances---\\n\")\n",
    "    ns.head(topResults)\n",
    "\n",
    "    elapsed_time = time.time() - start_time\n",
    "    print('XCS Run Time: '+ str(elapsed_time))\n",
    "    run_time_dict[algorithm] = elapsed_time"
   ]
  },
  {
   "cell_type": "markdown",
   "metadata": {},
   "source": [
    "## Run ExSTraCS 2.0"
   ]
  },
  {
   "cell_type": "code",
   "execution_count": 62,
   "metadata": {
    "scrolled": true
   },
   "outputs": [],
   "source": [
    "algorithm = 'ExSTraCS'\n",
    "if algorithm in algorithmsToRun:\n",
    "    start_time = time.time()\n",
    "    algColor = algColors[algorithmsToRun.index(algorithm)]\n",
    "    mean_fpr, mean_tpr, mean_auc, mean_prec, mean_pr_auc, mean_ave_prec, FI_ave = eval_Algorithm_FI(algorithm,ordered_feature_names,\n",
    "        xTrainList,yTrainList,xTestList,yTestList,cv_partitions,global_ordered_features,wd_path,output_folder,\n",
    "        data_name,randomSeed,param_grid,model_folder,algColor,hype_cv,n_trials,scoring_metric,lcs_timeout)\n",
    "    \n",
    "    result_dict = {'algorithm':algorithm,'fpr':mean_fpr, 'tpr':mean_tpr, 'auc':mean_auc, 'prec':mean_prec, 'pr_auc':mean_pr_auc, 'ave_prec':mean_ave_prec}\n",
    "    pickle.dump(result_dict, open(wd_path+model_folder+'/Results_'+algorithm+'.sav', 'wb'))\n",
    "\n",
    "    #Sort averages (decreasing order and print top 'n' and plot top 'n'\n",
    "    names_scores = {'Names':ordered_feature_names, 'Scores':FI_ave} \n",
    "    ns = pd.DataFrame(names_scores)\n",
    "    ns = ns.sort_values(by='Scores',ascending = False)\n",
    "\n",
    "    #Select top 'n' to report and plot\n",
    "    print(\"\\n---Feature Importances---\\n\")\n",
    "    ns.head(topResults)\n",
    "\n",
    "    elapsed_time = time.time() - start_time\n",
    "    print('ExSTraCS 2.0 Run Time: '+ str(elapsed_time))\n",
    "    run_time_dict[algorithm] = elapsed_time"
   ]
  },
  {
   "cell_type": "markdown",
   "metadata": {},
   "source": [
    "## Run ExSTraCS 2.0 with QRF"
   ]
  },
  {
   "cell_type": "code",
   "execution_count": 63,
   "metadata": {},
   "outputs": [],
   "source": [
    "algorithm = 'ExSTraCS_QRF'\n",
    "if algorithm in algorithmsToRun:\n",
    "    start_time = time.time()\n",
    "    algColor = algColors[algorithmsToRun.index(algorithm)]\n",
    "    mean_fpr, mean_tpr, mean_auc, mean_prec, mean_pr_auc, mean_ave_prec, FI_ave = eval_Algorithm_FI(algorithm,ordered_feature_names,\n",
    "        xTrainList,yTrainList,xTestList,yTestList,cv_partitions,global_ordered_features,wd_path,output_folder,\n",
    "        data_name,randomSeed,param_grid,model_folder,algColor,hype_cv,n_trials,scoring_metric,lcs_timeout)\n",
    "    \n",
    "    result_dict = {'algorithm':algorithm,'fpr':mean_fpr, 'tpr':mean_tpr, 'auc':mean_auc, 'prec':mean_prec, 'pr_auc':mean_pr_auc, 'ave_prec':mean_ave_prec}\n",
    "    pickle.dump(result_dict, open(wd_path+model_folder+'/Results_'+algorithm+'.sav', 'wb'))\n",
    "\n",
    "    #Sort averages (decreasing order and print top 'n' and plot top 'n'\n",
    "    names_scores = {'Names':ordered_feature_names, 'Scores':FI_ave} \n",
    "    ns = pd.DataFrame(names_scores)\n",
    "    ns = ns.sort_values(by='Scores',ascending = False)\n",
    "\n",
    "    #Select top 'n' to report and plot\n",
    "    print(\"\\n---Feature Importances---\\n\")\n",
    "    ns.head(topResults)\n",
    "\n",
    "    elapsed_time = time.time() - start_time\n",
    "    print('ExSTraCS 2.0 with QRF Run Time: '+ str(elapsed_time))\n",
    "    run_time_dict[algorithm] = elapsed_time"
   ]
  },
  {
   "cell_type": "markdown",
   "metadata": {},
   "source": [
    "## Run Gradient Boosting Classifier"
   ]
  },
  {
   "cell_type": "code",
   "execution_count": 64,
   "metadata": {},
   "outputs": [
    {
     "data": {
      "application/vnd.jupyter.widget-view+json": {
       "model_id": "5dcabfeca7824d5bb6e4a4ca865252d3",
       "version_major": 2,
       "version_minor": 0
      },
      "text/plain": [
       "HBox(children=(FloatProgress(value=0.0, description='1st loop', max=3.0, style=ProgressStyle(description_width…"
      ]
     },
     "metadata": {},
     "output_type": "display_data"
    },
    {
     "name": "stdout",
     "output_type": "stream",
     "text": [
      "Running gradient_boosting\n",
      "Best trial:\n",
      "  Value:  1.0\n",
      "  Params: \n",
      "    loss: deviance\n",
      "    learning_rate: 0.39181943471417396\n",
      "    min_samples_leaf: 15\n",
      "    max_depth: 8\n",
      "    n_iter_no_change: 7\n",
      "    validation_fraction: 0.14\n",
      "Running gradient_boosting\n",
      "Best trial:\n",
      "  Value:  1.0\n",
      "  Params: \n",
      "    loss: deviance\n",
      "    learning_rate: 0.39181943471417396\n",
      "    min_samples_leaf: 15\n",
      "    max_depth: 8\n",
      "    n_iter_no_change: 7\n",
      "    validation_fraction: 0.14\n",
      "Running gradient_boosting\n",
      "Best trial:\n",
      "  Value:  1.0\n",
      "  Params: \n",
      "    loss: deviance\n",
      "    learning_rate: 0.39181943471417396\n",
      "    min_samples_leaf: 15\n",
      "    max_depth: 8\n",
      "    n_iter_no_change: 7\n",
      "    validation_fraction: 0.14\n",
      "\n"
     ]
    },
    {
     "data": {
      "image/png": "[encoded data removed]",
      "text/plain": [
       "<Figure size 504x504 with 1 Axes>"
      ]
     },
     "metadata": {
      "needs_background": "light"
     },
     "output_type": "display_data"
    },
    {
     "data": {
      "image/png": "[encoded data removed]",
      "text/plain": [
       "<Figure size 504x504 with 1 Axes>"
      ]
     },
     "metadata": {
      "needs_background": "light"
     },
     "output_type": "display_data"
    },
    {
     "name": "stdout",
     "output_type": "stream",
     "text": [
      "Avg. Model Balanced Accuracy = 1.0 (std. dev. = 0.0)\n",
      "Avg. Model Accuracy = 1.0 (std. dev. = 0.0)\n",
      "Avg. Model F1-Score = 1.0 (std. dev. = 0.0)\n",
      "Avg. Model Recall = 1.0 (std. dev. = 0.0)\n",
      "Avg. Model Specificity = 1.0 (std. dev. = 0.0)\n",
      "Avg. Model Precision = 1.0 (std. dev. = 0.0)\n",
      "Avg. Model True Positives = 80.0 (std. dev. = 0.0)\n",
      "Avg. Model True Negatives = 86.66666666666667 (std. dev. = 0.4714045207910317)\n",
      "Avg. Model False Positives = 0.0 (std. dev. = 0.0)\n",
      "Avg. Model False Negatives = 0.0 (std. dev. = 0.0)\n",
      "Avg. ROC AUC = 1.0 (std. dev. = 0.0)\n",
      "Avg. PRC AUC = 1.0 (std. dev. = 0.0)\n",
      "Avg. PRC Precision Score = 1.0 (std. dev. = 6.409875621278546e-17)\n",
      "\n",
      "---Feature Importances---\n",
      "\n"
     ]
    },
    {
     "data": {
      "text/html": [
       "<div>\n",
       "<style scoped>\n",
       "    .dataframe tbody tr th:only-of-type {\n",
       "        vertical-align: middle;\n",
       "    }\n",
       "\n",
       "    .dataframe tbody tr th {\n",
       "        vertical-align: top;\n",
       "    }\n",
       "\n",
       "    .dataframe thead th {\n",
       "        text-align: right;\n",
       "    }\n",
       "</style>\n",
       "<table border=\"1\" class=\"dataframe\">\n",
       "  <thead>\n",
       "    <tr style=\"text-align: right;\">\n",
       "      <th></th>\n",
       "      <th>Names</th>\n",
       "      <th>Scores</th>\n",
       "    </tr>\n",
       "  </thead>\n",
       "  <tbody>\n",
       "    <tr>\n",
       "      <th>1</th>\n",
       "      <td>A_1</td>\n",
       "      <td>0.268655</td>\n",
       "    </tr>\n",
       "    <tr>\n",
       "      <th>0</th>\n",
       "      <td>A_0</td>\n",
       "      <td>0.222163</td>\n",
       "    </tr>\n",
       "    <tr>\n",
       "      <th>5</th>\n",
       "      <td>R_3</td>\n",
       "      <td>0.163147</td>\n",
       "    </tr>\n",
       "    <tr>\n",
       "      <th>2</th>\n",
       "      <td>R_0</td>\n",
       "      <td>0.139277</td>\n",
       "    </tr>\n",
       "    <tr>\n",
       "      <th>3</th>\n",
       "      <td>R_1</td>\n",
       "      <td>0.108034</td>\n",
       "    </tr>\n",
       "    <tr>\n",
       "      <th>4</th>\n",
       "      <td>R_2</td>\n",
       "      <td>0.098724</td>\n",
       "    </tr>\n",
       "  </tbody>\n",
       "</table>\n",
       "</div>"
      ],
      "text/plain": [
       "  Names    Scores\n",
       "1   A_1  0.268655\n",
       "0   A_0  0.222163\n",
       "5   R_3  0.163147\n",
       "2   R_0  0.139277\n",
       "3   R_1  0.108034\n",
       "4   R_2  0.098724"
      ]
     },
     "execution_count": 64,
     "metadata": {},
     "output_type": "execute_result"
    },
    {
     "name": "stdout",
     "output_type": "stream",
     "text": [
      "Gradient Boosting Classifier Run Time: 82.67831707000732\n"
     ]
    }
   ],
   "source": [
    "algorithm = 'gradient_boosting'\n",
    "if algorithm in algorithmsToRun:\n",
    "    start_time = time.time()\n",
    "    algColor = algColors[algorithmsToRun.index(algorithm)]\n",
    "    mean_fpr, mean_tpr, mean_auc, mean_prec, mean_pr_auc, mean_ave_prec, FI_ave = eval_Algorithm_FI(algorithm,ordered_feature_names,\n",
    "        xTrainList,yTrainList,xTestList,yTestList,cv_partitions,global_ordered_features,wd_path,output_folder,\n",
    "        data_name,randomSeed,param_grid,model_folder,algColor,hype_cv,n_trials,scoring_metric,timeout)\n",
    "    \n",
    "    result_dict = {'algorithm':algorithm,'fpr':mean_fpr, 'tpr':mean_tpr, 'auc':mean_auc, 'prec':mean_prec, 'pr_auc':mean_pr_auc, 'ave_prec':mean_ave_prec}\n",
    "    pickle.dump(result_dict, open(wd_path+model_folder+'/Results_'+algorithm+'.sav', 'wb'))\n",
    "\n",
    "    #Sort averages (decreasing order and print top 'n' and plot top 'n'\n",
    "    names_scores = {'Names':ordered_feature_names, 'Scores':FI_ave} \n",
    "    ns = pd.DataFrame(names_scores)\n",
    "    ns = ns.sort_values(by='Scores',ascending = False)\n",
    "\n",
    "    #Select top 'n' to report and plot\n",
    "    print(\"\\n---Feature Importances---\\n\")\n",
    "    ns.head(topResults)\n",
    "\n",
    "    elapsed_time = time.time() - start_time\n",
    "    print('Gradient Boosting Classifier Run Time: '+ str(elapsed_time))\n",
    "    run_time_dict[algorithm] = elapsed_time"
   ]
  },
  {
   "cell_type": "markdown",
   "metadata": {},
   "source": [
    "## Run K-Neighbors Classifier"
   ]
  },
  {
   "cell_type": "code",
   "execution_count": 65,
   "metadata": {},
   "outputs": [
    {
     "data": {
      "application/vnd.jupyter.widget-view+json": {
       "model_id": "2e6351a4573043468336a494505d0d45",
       "version_major": 2,
       "version_minor": 0
      },
      "text/plain": [
       "HBox(children=(FloatProgress(value=0.0, description='1st loop', max=3.0, style=ProgressStyle(description_width…"
      ]
     },
     "metadata": {},
     "output_type": "display_data"
    },
    {
     "name": "stdout",
     "output_type": "stream",
     "text": [
      "Running k_neighbors\n",
      "Best trial:\n",
      "  Value:  1.0\n",
      "  Params: \n",
      "    n_neighbors: 38\n",
      "    weights: distance\n",
      "    p: 4\n",
      "    metric: euclidean\n"
     ]
    },
    {
     "data": {
      "application/vnd.jupyter.widget-view+json": {
       "model_id": "5bb7c6c39d644a28b5bc008ad9d6f74d",
       "version_major": 2,
       "version_minor": 0
      },
      "text/plain": [
       "HBox(children=(FloatProgress(value=0.0, description='1st loop', max=6.0, style=ProgressStyle(description_width…"
      ]
     },
     "metadata": {},
     "output_type": "display_data"
    },
    {
     "name": "stdout",
     "output_type": "stream",
     "text": [
      "\n",
      "Running k_neighbors\n",
      "Best trial:\n",
      "  Value:  1.0\n",
      "  Params: \n",
      "    n_neighbors: 17\n",
      "    weights: distance\n",
      "    p: 1\n",
      "    metric: minkowski\n"
     ]
    },
    {
     "data": {
      "application/vnd.jupyter.widget-view+json": {
       "model_id": "d894dc0ad87b479db68faaa50bee046b",
       "version_major": 2,
       "version_minor": 0
      },
      "text/plain": [
       "HBox(children=(FloatProgress(value=0.0, description='1st loop', max=6.0, style=ProgressStyle(description_width…"
      ]
     },
     "metadata": {},
     "output_type": "display_data"
    },
    {
     "name": "stdout",
     "output_type": "stream",
     "text": [
      "\n",
      "Running k_neighbors\n",
      "Best trial:\n",
      "  Value:  1.0\n",
      "  Params: \n",
      "    n_neighbors: 53\n",
      "    weights: distance\n",
      "    p: 4\n",
      "    metric: minkowski\n"
     ]
    },
    {
     "data": {
      "application/vnd.jupyter.widget-view+json": {
       "model_id": "f3f82a01025f4a38b555ca2da698b46d",
       "version_major": 2,
       "version_minor": 0
      },
      "text/plain": [
       "HBox(children=(FloatProgress(value=0.0, description='1st loop', max=6.0, style=ProgressStyle(description_width…"
      ]
     },
     "metadata": {},
     "output_type": "display_data"
    },
    {
     "name": "stdout",
     "output_type": "stream",
     "text": [
      "\n",
      "\n"
     ]
    },
    {
     "data": {
      "image/png": "[encoded data removed]",
      "text/plain": [
       "<Figure size 504x504 with 1 Axes>"
      ]
     },
     "metadata": {
      "needs_background": "light"
     },
     "output_type": "display_data"
    },
    {
     "data": {
      "image/png": "[encoded data removed]",
      "text/plain": [
       "<Figure size 504x504 with 1 Axes>"
      ]
     },
     "metadata": {
      "needs_background": "light"
     },
     "output_type": "display_data"
    },
    {
     "name": "stdout",
     "output_type": "stream",
     "text": [
      "Avg. Model Balanced Accuracy = 1.0 (std. dev. = 0.0)\n",
      "Avg. Model Accuracy = 1.0 (std. dev. = 0.0)\n",
      "Avg. Model F1-Score = 1.0 (std. dev. = 0.0)\n",
      "Avg. Model Recall = 1.0 (std. dev. = 0.0)\n",
      "Avg. Model Specificity = 1.0 (std. dev. = 0.0)\n",
      "Avg. Model Precision = 1.0 (std. dev. = 0.0)\n",
      "Avg. Model True Positives = 80.0 (std. dev. = 0.0)\n",
      "Avg. Model True Negatives = 86.66666666666667 (std. dev. = 0.4714045207910317)\n",
      "Avg. Model False Positives = 0.0 (std. dev. = 0.0)\n",
      "Avg. Model False Negatives = 0.0 (std. dev. = 0.0)\n",
      "Avg. ROC AUC = 1.0 (std. dev. = 0.0)\n",
      "Avg. PRC AUC = 1.0 (std. dev. = 0.0)\n",
      "Avg. PRC Precision Score = 1.0 (std. dev. = 0.0)\n",
      "\n",
      "---Feature Importances---\n",
      "\n"
     ]
    },
    {
     "data": {
      "text/html": [
       "<div>\n",
       "<style scoped>\n",
       "    .dataframe tbody tr th:only-of-type {\n",
       "        vertical-align: middle;\n",
       "    }\n",
       "\n",
       "    .dataframe tbody tr th {\n",
       "        vertical-align: top;\n",
       "    }\n",
       "\n",
       "    .dataframe thead th {\n",
       "        text-align: right;\n",
       "    }\n",
       "</style>\n",
       "<table border=\"1\" class=\"dataframe\">\n",
       "  <thead>\n",
       "    <tr style=\"text-align: right;\">\n",
       "      <th></th>\n",
       "      <th>Names</th>\n",
       "      <th>Scores</th>\n",
       "    </tr>\n",
       "  </thead>\n",
       "  <tbody>\n",
       "    <tr>\n",
       "      <th>1</th>\n",
       "      <td>A_1</td>\n",
       "      <td>0.272917</td>\n",
       "    </tr>\n",
       "    <tr>\n",
       "      <th>0</th>\n",
       "      <td>A_0</td>\n",
       "      <td>0.248621</td>\n",
       "    </tr>\n",
       "    <tr>\n",
       "      <th>5</th>\n",
       "      <td>R_3</td>\n",
       "      <td>0.147903</td>\n",
       "    </tr>\n",
       "    <tr>\n",
       "      <th>2</th>\n",
       "      <td>R_0</td>\n",
       "      <td>0.137114</td>\n",
       "    </tr>\n",
       "    <tr>\n",
       "      <th>4</th>\n",
       "      <td>R_2</td>\n",
       "      <td>0.125948</td>\n",
       "    </tr>\n",
       "    <tr>\n",
       "      <th>3</th>\n",
       "      <td>R_1</td>\n",
       "      <td>0.116698</td>\n",
       "    </tr>\n",
       "  </tbody>\n",
       "</table>\n",
       "</div>"
      ],
      "text/plain": [
       "  Names    Scores\n",
       "1   A_1  0.272917\n",
       "0   A_0  0.248621\n",
       "5   R_3  0.147903\n",
       "2   R_0  0.137114\n",
       "4   R_2  0.125948\n",
       "3   R_1  0.116698"
      ]
     },
     "execution_count": 65,
     "metadata": {},
     "output_type": "execute_result"
    },
    {
     "name": "stdout",
     "output_type": "stream",
     "text": [
      "K-Neighbors Run Time: 33.82543611526489\n"
     ]
    }
   ],
   "source": [
    "algorithm = 'k_neighbors'\n",
    "if algorithm in algorithmsToRun:\n",
    "    start_time = time.time()\n",
    "    algColor = algColors[algorithmsToRun.index(algorithm)]\n",
    "    mean_fpr, mean_tpr, mean_auc, mean_prec, mean_pr_auc, mean_ave_prec, FI_ave = eval_Algorithm_FI(algorithm,ordered_feature_names,\n",
    "        xTrainList,yTrainList,xTestList,yTestList,cv_partitions,global_ordered_features,wd_path,output_folder,\n",
    "        data_name,randomSeed,param_grid,model_folder,algColor,hype_cv,n_trials,scoring_metric,timeout)\n",
    "    \n",
    "    result_dict = {'algorithm':algorithm,'fpr':mean_fpr, 'tpr':mean_tpr, 'auc':mean_auc, 'prec':mean_prec, 'pr_auc':mean_pr_auc, 'ave_prec':mean_ave_prec}\n",
    "    pickle.dump(result_dict, open(wd_path+model_folder+'/Results_'+algorithm+'.sav', 'wb'))\n",
    "\n",
    "    #Sort averages (decreasing order and print top 'n' and plot top 'n'\n",
    "    names_scores = {'Names':ordered_feature_names, 'Scores':FI_ave} \n",
    "    ns = pd.DataFrame(names_scores)\n",
    "    ns = ns.sort_values(by='Scores',ascending = False)\n",
    "\n",
    "    #Select top 'n' to report and plot\n",
    "    print(\"\\n---Feature Importances---\\n\")\n",
    "    ns.head(topResults)\n",
    "\n",
    "    elapsed_time = time.time() - start_time\n",
    "    print('K-Neighbors Run Time: '+ str(elapsed_time))\n",
    "    run_time_dict[algorithm] = elapsed_time"
   ]
  },
  {
   "cell_type": "markdown",
   "metadata": {},
   "source": [
    "---\n",
    "# Review result table (for global ROC and PRC figure building)"
   ]
  },
  {
   "cell_type": "code",
   "execution_count": 66,
   "metadata": {},
   "outputs": [],
   "source": [
    "#Load pickle files of results\n",
    "result_table = []\n",
    "\n",
    "for algorithm in algorithmsToRun:\n",
    "    tempDict = pickle.load(open(wd_path+model_folder+'/Results_'+algorithm+'.sav', 'rb'))\n",
    "    result_table.append(tempDict)\n",
    "    \n",
    "result_table = pd.DataFrame.from_dict(result_table)"
   ]
  },
  {
   "cell_type": "code",
   "execution_count": 67,
   "metadata": {},
   "outputs": [
    {
     "data": {
      "text/html": [
       "<div>\n",
       "<style scoped>\n",
       "    .dataframe tbody tr th:only-of-type {\n",
       "        vertical-align: middle;\n",
       "    }\n",
       "\n",
       "    .dataframe tbody tr th {\n",
       "        vertical-align: top;\n",
       "    }\n",
       "\n",
       "    .dataframe thead th {\n",
       "        text-align: right;\n",
       "    }\n",
       "</style>\n",
       "<table border=\"1\" class=\"dataframe\">\n",
       "  <thead>\n",
       "    <tr style=\"text-align: right;\">\n",
       "      <th></th>\n",
       "      <th>algorithm</th>\n",
       "      <th>auc</th>\n",
       "      <th>ave_prec</th>\n",
       "      <th>fpr</th>\n",
       "      <th>pr_auc</th>\n",
       "      <th>prec</th>\n",
       "      <th>tpr</th>\n",
       "    </tr>\n",
       "  </thead>\n",
       "  <tbody>\n",
       "    <tr>\n",
       "      <th>0</th>\n",
       "      <td>gradient_boosting</td>\n",
       "      <td>0.994949</td>\n",
       "      <td>1.0</td>\n",
       "      <td>[0.0, 0.010101010101010102, 0.0202020202020202...</td>\n",
       "      <td>1.0</td>\n",
       "      <td>[1.0, 1.0, 1.0, 1.0, 1.0, 1.0, 1.0, 1.0, 1.0, ...</td>\n",
       "      <td>[0.0, 1.0, 1.0, 1.0, 1.0, 1.0, 1.0, 1.0, 1.0, ...</td>\n",
       "    </tr>\n",
       "    <tr>\n",
       "      <th>1</th>\n",
       "      <td>k_neighbors</td>\n",
       "      <td>0.994949</td>\n",
       "      <td>1.0</td>\n",
       "      <td>[0.0, 0.010101010101010102, 0.0202020202020202...</td>\n",
       "      <td>1.0</td>\n",
       "      <td>[1.0, 1.0, 1.0, 1.0, 1.0, 1.0, 1.0, 1.0, 1.0, ...</td>\n",
       "      <td>[0.0, 1.0, 1.0, 1.0, 1.0, 1.0, 1.0, 1.0, 1.0, ...</td>\n",
       "    </tr>\n",
       "  </tbody>\n",
       "</table>\n",
       "</div>"
      ],
      "text/plain": [
       "           algorithm       auc  ave_prec  \\\n",
       "0  gradient_boosting  0.994949       1.0   \n",
       "1        k_neighbors  0.994949       1.0   \n",
       "\n",
       "                                                 fpr  pr_auc  \\\n",
       "0  [0.0, 0.010101010101010102, 0.0202020202020202...     1.0   \n",
       "1  [0.0, 0.010101010101010102, 0.0202020202020202...     1.0   \n",
       "\n",
       "                                                prec  \\\n",
       "0  [1.0, 1.0, 1.0, 1.0, 1.0, 1.0, 1.0, 1.0, 1.0, ...   \n",
       "1  [1.0, 1.0, 1.0, 1.0, 1.0, 1.0, 1.0, 1.0, 1.0, ...   \n",
       "\n",
       "                                                 tpr  \n",
       "0  [0.0, 1.0, 1.0, 1.0, 1.0, 1.0, 1.0, 1.0, 1.0, ...  \n",
       "1  [0.0, 1.0, 1.0, 1.0, 1.0, 1.0, 1.0, 1.0, 1.0, ...  "
      ]
     },
     "execution_count": 67,
     "metadata": {},
     "output_type": "execute_result"
    }
   ],
   "source": [
    "result_table\n",
    "result_table.set_index('algorithm', inplace=True)"
   ]
  },
  {
   "cell_type": "markdown",
   "metadata": {},
   "source": [
    "---\n",
    "# ROC Plot Summarizing Analysis"
   ]
  },
  {
   "cell_type": "code",
   "execution_count": 68,
   "metadata": {},
   "outputs": [
    {
     "data": {
      "text/plain": [
       "[<matplotlib.lines.Line2D at 0x132562c50>]"
      ]
     },
     "execution_count": 68,
     "metadata": {},
     "output_type": "execute_result"
    },
    {
     "data": {
      "text/plain": [
       "[<matplotlib.lines.Line2D at 0x130752d50>]"
      ]
     },
     "execution_count": 68,
     "metadata": {},
     "output_type": "execute_result"
    },
    {
     "data": {
      "text/plain": [
       "[<matplotlib.lines.Line2D at 0x1327ef750>]"
      ]
     },
     "execution_count": 68,
     "metadata": {},
     "output_type": "execute_result"
    },
    {
     "data": {
      "text/plain": [
       "([<matplotlib.axis.XTick at 0x130a58090>,\n",
       "  <matplotlib.axis.XTick at 0x130b86450>,\n",
       "  <matplotlib.axis.XTick at 0x130b66b50>,\n",
       "  <matplotlib.axis.XTick at 0x1324ab410>,\n",
       "  <matplotlib.axis.XTick at 0x1324c8710>,\n",
       "  <matplotlib.axis.XTick at 0x13261abd0>,\n",
       "  <matplotlib.axis.XTick at 0x13261a710>,\n",
       "  <matplotlib.axis.XTick at 0x13269fc50>,\n",
       "  <matplotlib.axis.XTick at 0x13269ff50>,\n",
       "  <matplotlib.axis.XTick at 0x132440b50>,\n",
       "  <matplotlib.axis.XTick at 0x1326179d0>],\n",
       " <a list of 11 Text xticklabel objects>)"
      ]
     },
     "execution_count": 68,
     "metadata": {},
     "output_type": "execute_result"
    },
    {
     "data": {
      "text/plain": [
       "Text(0.5, 0, 'False Positive Rate')"
      ]
     },
     "execution_count": 68,
     "metadata": {},
     "output_type": "execute_result"
    },
    {
     "data": {
      "text/plain": [
       "([<matplotlib.axis.YTick at 0x132a74b50>,\n",
       "  <matplotlib.axis.YTick at 0x13294bad0>,\n",
       "  <matplotlib.axis.YTick at 0x131b53cd0>,\n",
       "  <matplotlib.axis.YTick at 0x1324c8810>,\n",
       "  <matplotlib.axis.YTick at 0x1326177d0>,\n",
       "  <matplotlib.axis.YTick at 0x132617410>,\n",
       "  <matplotlib.axis.YTick at 0x1325f9f10>,\n",
       "  <matplotlib.axis.YTick at 0x1325f9a90>,\n",
       "  <matplotlib.axis.YTick at 0x1325f5950>,\n",
       "  <matplotlib.axis.YTick at 0x1325f5990>,\n",
       "  <matplotlib.axis.YTick at 0x1325f5450>],\n",
       " <a list of 11 Text yticklabel objects>)"
      ]
     },
     "execution_count": 68,
     "metadata": {},
     "output_type": "execute_result"
    },
    {
     "data": {
      "text/plain": [
       "Text(0, 0.5, 'True Positive Rate')"
      ]
     },
     "execution_count": 68,
     "metadata": {},
     "output_type": "execute_result"
    },
    {
     "data": {
      "text/plain": [
       "Text(0.5, 1.0, 'Comparing Algorithms: Testing Data with CV')"
      ]
     },
     "execution_count": 68,
     "metadata": {},
     "output_type": "execute_result"
    },
    {
     "data": {
      "text/plain": [
       "<matplotlib.legend.Legend at 0x1325f9fd0>"
      ]
     },
     "execution_count": 68,
     "metadata": {},
     "output_type": "execute_result"
    },
    {
     "data": {
      "image/png": "[encoded data removed]",
      "text/plain": [
       "<Figure size 576x576 with 1 Axes>"
      ]
     },
     "metadata": {
      "needs_background": "light"
     },
     "output_type": "display_data"
    }
   ],
   "source": [
    "#Multi-algorithm ROC plot\n",
    "fig = plt.figure(figsize=(8,8))\n",
    "count = 0\n",
    "for i in result_table.index:\n",
    "    plt.plot(result_table.loc[i]['fpr'], \n",
    "             result_table.loc[i]['tpr'], color = algColors[count],\n",
    "             label=\"{}, AUC={:.3f}\".format(i, result_table.loc[i]['auc']))\n",
    "    count += 1\n",
    "    \n",
    "plt.plot([0,1], [0,1], color='orange', linestyle='--')\n",
    "\n",
    "plt.xticks(np.arange(0.0, 1.1, step=0.1))\n",
    "plt.xlabel(\"False Positive Rate\", fontsize=15)\n",
    "\n",
    "plt.yticks(np.arange(0.0, 1.1, step=0.1))\n",
    "plt.ylabel(\"True Positive Rate\", fontsize=15)\n",
    "\n",
    "plt.title('Comparing Algorithms: Testing Data with CV', fontweight='bold', fontsize=15)\n",
    "plt.legend(prop={'size':13}, loc='best')\n",
    "plt.savefig((wd_path+output_folder+'/'+'Compare_ROC_' + data_name), bbox_inches = \"tight\")\n",
    "plt.show()\n"
   ]
  },
  {
   "cell_type": "markdown",
   "metadata": {},
   "source": [
    "---\n",
    "# PRC Plot Summarizing Analysis"
   ]
  },
  {
   "cell_type": "code",
   "execution_count": 69,
   "metadata": {},
   "outputs": [
    {
     "data": {
      "text/plain": [
       "[<matplotlib.lines.Line2D at 0x132497ed0>]"
      ]
     },
     "execution_count": 69,
     "metadata": {},
     "output_type": "execute_result"
    },
    {
     "data": {
      "text/plain": [
       "[<matplotlib.lines.Line2D at 0x1308f8850>]"
      ]
     },
     "execution_count": 69,
     "metadata": {},
     "output_type": "execute_result"
    },
    {
     "data": {
      "text/plain": [
       "[<matplotlib.lines.Line2D at 0x13089afd0>]"
      ]
     },
     "execution_count": 69,
     "metadata": {},
     "output_type": "execute_result"
    },
    {
     "data": {
      "text/plain": [
       "([<matplotlib.axis.XTick at 0x1308c3450>,\n",
       "  <matplotlib.axis.XTick at 0x1308c1ad0>,\n",
       "  <matplotlib.axis.XTick at 0x1308c17d0>,\n",
       "  <matplotlib.axis.XTick at 0x130aa5bd0>,\n",
       "  <matplotlib.axis.XTick at 0x130ab00d0>,\n",
       "  <matplotlib.axis.XTick at 0x130ab0750>,\n",
       "  <matplotlib.axis.XTick at 0x130ab0d10>,\n",
       "  <matplotlib.axis.XTick at 0x130ab6350>,\n",
       "  <matplotlib.axis.XTick at 0x130ab6850>,\n",
       "  <matplotlib.axis.XTick at 0x130ab6dd0>,\n",
       "  <matplotlib.axis.XTick at 0x130ab6950>],\n",
       " <a list of 11 Text xticklabel objects>)"
      ]
     },
     "execution_count": 69,
     "metadata": {},
     "output_type": "execute_result"
    },
    {
     "data": {
      "text/plain": [
       "Text(0.5, 0, 'Recall')"
      ]
     },
     "execution_count": 69,
     "metadata": {},
     "output_type": "execute_result"
    },
    {
     "data": {
      "text/plain": [
       "([<matplotlib.axis.YTick at 0x1308ba590>,\n",
       "  <matplotlib.axis.YTick at 0x1308c3c50>,\n",
       "  <matplotlib.axis.YTick at 0x1308c1790>,\n",
       "  <matplotlib.axis.YTick at 0x130abe710>,\n",
       "  <matplotlib.axis.YTick at 0x130abeb10>,\n",
       "  <matplotlib.axis.YTick at 0x130abed50>,\n",
       "  <matplotlib.axis.YTick at 0x130ac5690>,\n",
       "  <matplotlib.axis.YTick at 0x130ac5c50>,\n",
       "  <matplotlib.axis.YTick at 0x130acd290>,\n",
       "  <matplotlib.axis.YTick at 0x130acd790>,\n",
       "  <matplotlib.axis.YTick at 0x130ac5dd0>],\n",
       " <a list of 11 Text yticklabel objects>)"
      ]
     },
     "execution_count": 69,
     "metadata": {},
     "output_type": "execute_result"
    },
    {
     "data": {
      "text/plain": [
       "Text(0, 0.5, 'Precision')"
      ]
     },
     "execution_count": 69,
     "metadata": {},
     "output_type": "execute_result"
    },
    {
     "data": {
      "text/plain": [
       "Text(0.5, 1.0, 'Comparing Algorithms: Testing Data with CV')"
      ]
     },
     "execution_count": 69,
     "metadata": {},
     "output_type": "execute_result"
    },
    {
     "data": {
      "text/plain": [
       "<matplotlib.legend.Legend at 0x130ab07d0>"
      ]
     },
     "execution_count": 69,
     "metadata": {},
     "output_type": "execute_result"
    },
    {
     "data": {
      "image/png": "[encoded data removed]",
      "text/plain": [
       "<Figure size 576x576 with 1 Axes>"
      ]
     },
     "metadata": {
      "needs_background": "light"
     },
     "output_type": "display_data"
    }
   ],
   "source": [
    "#Multi-algorithm PRC plot ['algorithm','fpr','tpr','auc','prec','pr_auc','ave_prec'])\n",
    "#result_table.set_index('algorithm', inplace=True)\n",
    "\n",
    "fig = plt.figure(figsize=(8,8))\n",
    "\n",
    "count = 0\n",
    "for i in result_table.index:\n",
    "    plt.plot(result_table.loc[i]['fpr'], \n",
    "             result_table.loc[i]['prec'], color = algColors[count],\n",
    "             label=\"{}, AUC={:.3f}, APS={:.3f}\".format(i, result_table.loc[i]['pr_auc'],result_table.loc[i]['ave_prec']))\n",
    "    count += 1\n",
    "noskill = len(yTestList[0][yTestList[0]==1]) / len(yTestList[0]) #Fraction of cases\n",
    "plt.plot([0,1], [noskill,noskill], color='orange', linestyle='--')\n",
    "\n",
    "plt.xticks(np.arange(0.0, 1.1, step=0.1))\n",
    "plt.xlabel(\"Recall\", fontsize=15)\n",
    "\n",
    "plt.yticks(np.arange(0.0, 1.1, step=0.1))\n",
    "plt.ylabel(\"Precision\", fontsize=15)\n",
    "\n",
    "plt.title('Comparing Algorithms: Testing Data with CV', fontweight='bold', fontsize=15)\n",
    "plt.legend(prop={'size':13}, loc='best')\n",
    "plt.savefig((wd_path+output_folder+'/'+'Compare_PRC_' + data_name), bbox_inches = \"tight\")\n",
    "plt.show()\n"
   ]
  },
  {
   "cell_type": "markdown",
   "metadata": {},
   "source": [
    "---\n",
    "# Summarize Algorithm Metrics "
   ]
  },
  {
   "cell_type": "code",
   "execution_count": 70,
   "metadata": {},
   "outputs": [],
   "source": [
    "td = pd.read_csv(wd_path+output_folder+'/'+algorithmsToRun[0]+'_Metrics_'+data_name+'.csv')\n",
    "metrics = list(td.columns.values.tolist()) \n",
    "\n",
    "metric_summary = pd.DataFrame(index=metrics,columns=algorithmsToRun)\n",
    "master_list = []\n",
    "\n",
    "for algorithm in algorithmsToRun:\n",
    "    #Open file\n",
    "    td = pd.read_csv(wd_path+output_folder+'/'+algorithm+'_Metrics_'+data_name+'.csv')\n",
    "    master_list.append(td)\n",
    "    for metric in metrics:\n",
    "        ave = td[metric].mean()\n",
    "        sd = td[metric].std()\n",
    "        metric_summary.at[metric, algorithm] = str(round(ave,4))+' ('+str(round(sd,4))+')'\n",
    "    \n",
    "metric_summary.to_csv(wd_path+output_folder+'/'+'Summary_Algorithm_Metrics_'+data_name+'.csv')   "
   ]
  },
  {
   "cell_type": "code",
   "execution_count": 71,
   "metadata": {},
   "outputs": [
    {
     "data": {
      "text/html": [
       "<div>\n",
       "<style scoped>\n",
       "    .dataframe tbody tr th:only-of-type {\n",
       "        vertical-align: middle;\n",
       "    }\n",
       "\n",
       "    .dataframe tbody tr th {\n",
       "        vertical-align: top;\n",
       "    }\n",
       "\n",
       "    .dataframe thead th {\n",
       "        text-align: right;\n",
       "    }\n",
       "</style>\n",
       "<table border=\"1\" class=\"dataframe\">\n",
       "  <thead>\n",
       "    <tr style=\"text-align: right;\">\n",
       "      <th></th>\n",
       "      <th>gradient_boosting</th>\n",
       "      <th>k_neighbors</th>\n",
       "    </tr>\n",
       "  </thead>\n",
       "  <tbody>\n",
       "    <tr>\n",
       "      <th>Balanced Accuracy</th>\n",
       "      <td>1.0 (0.0)</td>\n",
       "      <td>1.0 (0.0)</td>\n",
       "    </tr>\n",
       "    <tr>\n",
       "      <th>Accuracy</th>\n",
       "      <td>1.0 (0.0)</td>\n",
       "      <td>1.0 (0.0)</td>\n",
       "    </tr>\n",
       "    <tr>\n",
       "      <th>F1_Score</th>\n",
       "      <td>1.0 (0.0)</td>\n",
       "      <td>1.0 (0.0)</td>\n",
       "    </tr>\n",
       "    <tr>\n",
       "      <th>Recall</th>\n",
       "      <td>1.0 (0.0)</td>\n",
       "      <td>1.0 (0.0)</td>\n",
       "    </tr>\n",
       "    <tr>\n",
       "      <th>Specificity</th>\n",
       "      <td>1.0 (0.0)</td>\n",
       "      <td>1.0 (0.0)</td>\n",
       "    </tr>\n",
       "    <tr>\n",
       "      <th>Precision</th>\n",
       "      <td>1.0 (0.0)</td>\n",
       "      <td>1.0 (0.0)</td>\n",
       "    </tr>\n",
       "    <tr>\n",
       "      <th>TP</th>\n",
       "      <td>80.0 (0.0)</td>\n",
       "      <td>80.0 (0.0)</td>\n",
       "    </tr>\n",
       "    <tr>\n",
       "      <th>TN</th>\n",
       "      <td>86.6667 (0.5774)</td>\n",
       "      <td>86.6667 (0.5774)</td>\n",
       "    </tr>\n",
       "    <tr>\n",
       "      <th>FP</th>\n",
       "      <td>0.0 (0.0)</td>\n",
       "      <td>0.0 (0.0)</td>\n",
       "    </tr>\n",
       "    <tr>\n",
       "      <th>FN</th>\n",
       "      <td>0.0 (0.0)</td>\n",
       "      <td>0.0 (0.0)</td>\n",
       "    </tr>\n",
       "    <tr>\n",
       "      <th>ROC_AUC</th>\n",
       "      <td>1.0 (0.0)</td>\n",
       "      <td>1.0 (0.0)</td>\n",
       "    </tr>\n",
       "    <tr>\n",
       "      <th>PRC_AUC</th>\n",
       "      <td>1.0 (0.0)</td>\n",
       "      <td>1.0 (0.0)</td>\n",
       "    </tr>\n",
       "    <tr>\n",
       "      <th>PRC_APS</th>\n",
       "      <td>1.0 (0.0)</td>\n",
       "      <td>1.0 (0.0)</td>\n",
       "    </tr>\n",
       "  </tbody>\n",
       "</table>\n",
       "</div>"
      ],
      "text/plain": [
       "                  gradient_boosting       k_neighbors\n",
       "Balanced Accuracy         1.0 (0.0)         1.0 (0.0)\n",
       "Accuracy                  1.0 (0.0)         1.0 (0.0)\n",
       "F1_Score                  1.0 (0.0)         1.0 (0.0)\n",
       "Recall                    1.0 (0.0)         1.0 (0.0)\n",
       "Specificity               1.0 (0.0)         1.0 (0.0)\n",
       "Precision                 1.0 (0.0)         1.0 (0.0)\n",
       "TP                       80.0 (0.0)        80.0 (0.0)\n",
       "TN                 86.6667 (0.5774)  86.6667 (0.5774)\n",
       "FP                        0.0 (0.0)         0.0 (0.0)\n",
       "FN                        0.0 (0.0)         0.0 (0.0)\n",
       "ROC_AUC                   1.0 (0.0)         1.0 (0.0)\n",
       "PRC_AUC                   1.0 (0.0)         1.0 (0.0)\n",
       "PRC_APS                   1.0 (0.0)         1.0 (0.0)"
      ]
     },
     "execution_count": 71,
     "metadata": {},
     "output_type": "execute_result"
    }
   ],
   "source": [
    "metric_summary"
   ]
  },
  {
   "cell_type": "markdown",
   "metadata": {},
   "source": [
    "---\n",
    "# Performance Metric Boxplots Comparing Algorithms"
   ]
  },
  {
   "cell_type": "code",
   "execution_count": 72,
   "metadata": {},
   "outputs": [
    {
     "data": {
      "text/plain": [
       "Text(0.5, 1.0, 'Comparing Algorithm Balanced Accuracy')"
      ]
     },
     "execution_count": 72,
     "metadata": {},
     "output_type": "execute_result"
    },
    {
     "data": {
      "text/plain": [
       "Text(0, 0.5, 'Balanced Accuracy')"
      ]
     },
     "execution_count": 72,
     "metadata": {},
     "output_type": "execute_result"
    },
    {
     "data": {
      "text/plain": [
       "Text(0.5, 0, 'ML Algorithm')"
      ]
     },
     "execution_count": 72,
     "metadata": {},
     "output_type": "execute_result"
    },
    {
     "data": {
      "image/png": "[encoded data removed]",
      "text/plain": [
       "<Figure size 432x288 with 1 Axes>"
      ]
     },
     "metadata": {
      "needs_background": "light"
     },
     "output_type": "display_data"
    },
    {
     "data": {
      "text/plain": [
       "Text(0.5, 1.0, 'Comparing Algorithm Accuracy')"
      ]
     },
     "execution_count": 72,
     "metadata": {},
     "output_type": "execute_result"
    },
    {
     "data": {
      "text/plain": [
       "Text(0, 0.5, 'Accuracy')"
      ]
     },
     "execution_count": 72,
     "metadata": {},
     "output_type": "execute_result"
    },
    {
     "data": {
      "text/plain": [
       "Text(0.5, 0, 'ML Algorithm')"
      ]
     },
     "execution_count": 72,
     "metadata": {},
     "output_type": "execute_result"
    },
    {
     "data": {
      "image/png": "[encoded data removed]",
      "text/plain": [
       "<Figure size 432x288 with 1 Axes>"
      ]
     },
     "metadata": {
      "needs_background": "light"
     },
     "output_type": "display_data"
    },
    {
     "data": {
      "text/plain": [
       "Text(0.5, 1.0, 'Comparing Algorithm F1_Score')"
      ]
     },
     "execution_count": 72,
     "metadata": {},
     "output_type": "execute_result"
    },
    {
     "data": {
      "text/plain": [
       "Text(0, 0.5, 'F1_Score')"
      ]
     },
     "execution_count": 72,
     "metadata": {},
     "output_type": "execute_result"
    },
    {
     "data": {
      "text/plain": [
       "Text(0.5, 0, 'ML Algorithm')"
      ]
     },
     "execution_count": 72,
     "metadata": {},
     "output_type": "execute_result"
    },
    {
     "data": {
      "image/png": "[encoded data removed]",
      "text/plain": [
       "<Figure size 432x288 with 1 Axes>"
      ]
     },
     "metadata": {
      "needs_background": "light"
     },
     "output_type": "display_data"
    },
    {
     "data": {
      "text/plain": [
       "Text(0.5, 1.0, 'Comparing Algorithm Recall')"
      ]
     },
     "execution_count": 72,
     "metadata": {},
     "output_type": "execute_result"
    },
    {
     "data": {
      "text/plain": [
       "Text(0, 0.5, 'Recall')"
      ]
     },
     "execution_count": 72,
     "metadata": {},
     "output_type": "execute_result"
    },
    {
     "data": {
      "text/plain": [
       "Text(0.5, 0, 'ML Algorithm')"
      ]
     },
     "execution_count": 72,
     "metadata": {},
     "output_type": "execute_result"
    },
    {
     "data": {
      "image/png": "[encoded data removed]",
      "text/plain": [
       "<Figure size 432x288 with 1 Axes>"
      ]
     },
     "metadata": {
      "needs_background": "light"
     },
     "output_type": "display_data"
    },
    {
     "data": {
      "text/plain": [
       "Text(0.5, 1.0, 'Comparing Algorithm Specificity')"
      ]
     },
     "execution_count": 72,
     "metadata": {},
     "output_type": "execute_result"
    },
    {
     "data": {
      "text/plain": [
       "Text(0, 0.5, 'Specificity')"
      ]
     },
     "execution_count": 72,
     "metadata": {},
     "output_type": "execute_result"
    },
    {
     "data": {
      "text/plain": [
       "Text(0.5, 0, 'ML Algorithm')"
      ]
     },
     "execution_count": 72,
     "metadata": {},
     "output_type": "execute_result"
    },
    {
     "data": {
      "image/png": "[encoded data removed]",
      "text/plain": [
       "<Figure size 432x288 with 1 Axes>"
      ]
     },
     "metadata": {
      "needs_background": "light"
     },
     "output_type": "display_data"
    },
    {
     "data": {
      "text/plain": [
       "Text(0.5, 1.0, 'Comparing Algorithm Precision')"
      ]
     },
     "execution_count": 72,
     "metadata": {},
     "output_type": "execute_result"
    },
    {
     "data": {
      "text/plain": [
       "Text(0, 0.5, 'Precision')"
      ]
     },
     "execution_count": 72,
     "metadata": {},
     "output_type": "execute_result"
    },
    {
     "data": {
      "text/plain": [
       "Text(0.5, 0, 'ML Algorithm')"
      ]
     },
     "execution_count": 72,
     "metadata": {},
     "output_type": "execute_result"
    },
    {
     "data": {
      "image/png": "[encoded data removed]",
      "text/plain": [
       "<Figure size 432x288 with 1 Axes>"
      ]
     },
     "metadata": {
      "needs_background": "light"
     },
     "output_type": "display_data"
    },
    {
     "data": {
      "text/plain": [
       "Text(0.5, 1.0, 'Comparing Algorithm TP')"
      ]
     },
     "execution_count": 72,
     "metadata": {},
     "output_type": "execute_result"
    },
    {
     "data": {
      "text/plain": [
       "Text(0, 0.5, 'TP')"
      ]
     },
     "execution_count": 72,
     "metadata": {},
     "output_type": "execute_result"
    },
    {
     "data": {
      "text/plain": [
       "Text(0.5, 0, 'ML Algorithm')"
      ]
     },
     "execution_count": 72,
     "metadata": {},
     "output_type": "execute_result"
    },
    {
     "data": {
      "image/png": "[encoded data removed]",
      "text/plain": [
       "<Figure size 432x288 with 1 Axes>"
      ]
     },
     "metadata": {
      "needs_background": "light"
     },
     "output_type": "display_data"
    },
    {
     "data": {
      "text/plain": [
       "Text(0.5, 1.0, 'Comparing Algorithm TN')"
      ]
     },
     "execution_count": 72,
     "metadata": {},
     "output_type": "execute_result"
    },
    {
     "data": {
      "text/plain": [
       "Text(0, 0.5, 'TN')"
      ]
     },
     "execution_count": 72,
     "metadata": {},
     "output_type": "execute_result"
    },
    {
     "data": {
      "text/plain": [
       "Text(0.5, 0, 'ML Algorithm')"
      ]
     },
     "execution_count": 72,
     "metadata": {},
     "output_type": "execute_result"
    },
    {
     "data": {
      "image/png": "[encoded data removed]",
      "text/plain": [
       "<Figure size 432x288 with 1 Axes>"
      ]
     },
     "metadata": {
      "needs_background": "light"
     },
     "output_type": "display_data"
    },
    {
     "data": {
      "text/plain": [
       "Text(0.5, 1.0, 'Comparing Algorithm FP')"
      ]
     },
     "execution_count": 72,
     "metadata": {},
     "output_type": "execute_result"
    },
    {
     "data": {
      "text/plain": [
       "Text(0, 0.5, 'FP')"
      ]
     },
     "execution_count": 72,
     "metadata": {},
     "output_type": "execute_result"
    },
    {
     "data": {
      "text/plain": [
       "Text(0.5, 0, 'ML Algorithm')"
      ]
     },
     "execution_count": 72,
     "metadata": {},
     "output_type": "execute_result"
    },
    {
     "data": {
      "image/png": "[encoded data removed]",
      "text/plain": [
       "<Figure size 432x288 with 1 Axes>"
      ]
     },
     "metadata": {
      "needs_background": "light"
     },
     "output_type": "display_data"
    },
    {
     "data": {
      "text/plain": [
       "Text(0.5, 1.0, 'Comparing Algorithm FN')"
      ]
     },
     "execution_count": 72,
     "metadata": {},
     "output_type": "execute_result"
    },
    {
     "data": {
      "text/plain": [
       "Text(0, 0.5, 'FN')"
      ]
     },
     "execution_count": 72,
     "metadata": {},
     "output_type": "execute_result"
    },
    {
     "data": {
      "text/plain": [
       "Text(0.5, 0, 'ML Algorithm')"
      ]
     },
     "execution_count": 72,
     "metadata": {},
     "output_type": "execute_result"
    },
    {
     "data": {
      "image/png": "[encoded data removed]",
      "text/plain": [
       "<Figure size 432x288 with 1 Axes>"
      ]
     },
     "metadata": {
      "needs_background": "light"
     },
     "output_type": "display_data"
    },
    {
     "data": {
      "text/plain": [
       "Text(0.5, 1.0, 'Comparing Algorithm ROC_AUC')"
      ]
     },
     "execution_count": 72,
     "metadata": {},
     "output_type": "execute_result"
    },
    {
     "data": {
      "text/plain": [
       "Text(0, 0.5, 'ROC_AUC')"
      ]
     },
     "execution_count": 72,
     "metadata": {},
     "output_type": "execute_result"
    },
    {
     "data": {
      "text/plain": [
       "Text(0.5, 0, 'ML Algorithm')"
      ]
     },
     "execution_count": 72,
     "metadata": {},
     "output_type": "execute_result"
    },
    {
     "data": {
      "image/png": "[encoded data removed]",
      "text/plain": [
       "<Figure size 432x288 with 1 Axes>"
      ]
     },
     "metadata": {
      "needs_background": "light"
     },
     "output_type": "display_data"
    },
    {
     "data": {
      "text/plain": [
       "Text(0.5, 1.0, 'Comparing Algorithm PRC_AUC')"
      ]
     },
     "execution_count": 72,
     "metadata": {},
     "output_type": "execute_result"
    },
    {
     "data": {
      "text/plain": [
       "Text(0, 0.5, 'PRC_AUC')"
      ]
     },
     "execution_count": 72,
     "metadata": {},
     "output_type": "execute_result"
    },
    {
     "data": {
      "text/plain": [
       "Text(0.5, 0, 'ML Algorithm')"
      ]
     },
     "execution_count": 72,
     "metadata": {},
     "output_type": "execute_result"
    },
    {
     "data": {
      "image/png": "[encoded data removed]",
      "text/plain": [
       "<Figure size 432x288 with 1 Axes>"
      ]
     },
     "metadata": {
      "needs_background": "light"
     },
     "output_type": "display_data"
    },
    {
     "data": {
      "text/plain": [
       "Text(0.5, 1.0, 'Comparing Algorithm PRC_APS')"
      ]
     },
     "execution_count": 72,
     "metadata": {},
     "output_type": "execute_result"
    },
    {
     "data": {
      "text/plain": [
       "Text(0, 0.5, 'PRC_APS')"
      ]
     },
     "execution_count": 72,
     "metadata": {},
     "output_type": "execute_result"
    },
    {
     "data": {
      "text/plain": [
       "Text(0.5, 0, 'ML Algorithm')"
      ]
     },
     "execution_count": 72,
     "metadata": {},
     "output_type": "execute_result"
    },
    {
     "data": {
      "image/png": "[encoded data removed]",
      "text/plain": [
       "<Figure size 432x288 with 1 Axes>"
      ]
     },
     "metadata": {
      "needs_background": "light"
     },
     "output_type": "display_data"
    }
   ],
   "source": [
    "\n",
    "#For each metric\n",
    "for metric in metrics:\n",
    "    i = 0\n",
    "    tempList = []\n",
    "    for algorithm in algorithmsToRun:\n",
    "        temp_td = master_list[i]\n",
    "        tempList.append(temp_td[metric].tolist())\n",
    "        i += 1\n",
    "        \n",
    "    td = pd.DataFrame(tempList)\n",
    "    td = td.transpose()\n",
    "    td.columns = algorithmsToRun\n",
    "        \n",
    "    boxplot = td.boxplot(column=algorithmsToRun,rot=45)\n",
    "    plt.title('Comparing Algorithm '+ str(metric))\n",
    "    plt.ylabel(str(metric))\n",
    "    plt.xlabel('ML Algorithm')\n",
    "    plt.savefig((wd_path+output_folder+'/'+'Compare_'+str(metric)+'_Boxplot_'+data_name), bbox_inches = \"tight\")\n",
    "    plt.show()\n"
   ]
  },
  {
   "cell_type": "markdown",
   "metadata": {},
   "source": [
    "---\n",
    "# Statistical Comparisons\n",
    "- Kruskal Wallis AOV comparing ML algorithms\n",
    "- Mann-Whitney U test - Pairwise algorithm differences  "
   ]
  },
  {
   "cell_type": "markdown",
   "metadata": {},
   "source": [
    "## Kruskal Wallis Test - Algorithm comparisons for each metric\n",
    "- Are any algorithms performing statistically better or worse? "
   ]
  },
  {
   "cell_type": "markdown",
   "metadata": {},
   "source": [
    "## Mann-Whiney Test - Pairwise Post-Hoc Analysis \n",
    "- For any metric where kruskal wallis test was significant."
   ]
  },
  {
   "cell_type": "code",
   "execution_count": 74,
   "metadata": {},
   "outputs": [
    {
     "data": {
      "text/html": [
       "<div>\n",
       "<style scoped>\n",
       "    .dataframe tbody tr th:only-of-type {\n",
       "        vertical-align: middle;\n",
       "    }\n",
       "\n",
       "    .dataframe tbody tr th {\n",
       "        vertical-align: top;\n",
       "    }\n",
       "\n",
       "    .dataframe thead th {\n",
       "        text-align: right;\n",
       "    }\n",
       "</style>\n",
       "<table border=\"1\" class=\"dataframe\">\n",
       "  <thead>\n",
       "    <tr style=\"text-align: right;\">\n",
       "      <th></th>\n",
       "      <th>statistic</th>\n",
       "      <th>pvalue</th>\n",
       "      <th>sig</th>\n",
       "    </tr>\n",
       "  </thead>\n",
       "  <tbody>\n",
       "    <tr>\n",
       "      <th>Balanced Accuracy</th>\n",
       "      <td>0    1.0\\n1    1.0\\n2    1.0\\nName: Balanced A...</td>\n",
       "      <td>1</td>\n",
       "      <td></td>\n",
       "    </tr>\n",
       "    <tr>\n",
       "      <th>Accuracy</th>\n",
       "      <td>0    1.0\\n1    1.0\\n2    1.0\\nName: Accuracy, ...</td>\n",
       "      <td>1</td>\n",
       "      <td></td>\n",
       "    </tr>\n",
       "    <tr>\n",
       "      <th>F1_Score</th>\n",
       "      <td>0    1.0\\n1    1.0\\n2    1.0\\nName: F1_Score, ...</td>\n",
       "      <td>1</td>\n",
       "      <td></td>\n",
       "    </tr>\n",
       "    <tr>\n",
       "      <th>Recall</th>\n",
       "      <td>0    1.0\\n1    1.0\\n2    1.0\\nName: Recall, dt...</td>\n",
       "      <td>1</td>\n",
       "      <td></td>\n",
       "    </tr>\n",
       "    <tr>\n",
       "      <th>Specificity</th>\n",
       "      <td>0    1.0\\n1    1.0\\n2    1.0\\nName: Specificit...</td>\n",
       "      <td>1</td>\n",
       "      <td></td>\n",
       "    </tr>\n",
       "    <tr>\n",
       "      <th>Precision</th>\n",
       "      <td>0    1.0\\n1    1.0\\n2    1.0\\nName: Precision,...</td>\n",
       "      <td>1</td>\n",
       "      <td></td>\n",
       "    </tr>\n",
       "    <tr>\n",
       "      <th>TP</th>\n",
       "      <td>0    80\\n1    80\\n2    80\\nName: TP, dtype: int64</td>\n",
       "      <td>1</td>\n",
       "      <td></td>\n",
       "    </tr>\n",
       "    <tr>\n",
       "      <th>TN</th>\n",
       "      <td>0.0</td>\n",
       "      <td>1.0</td>\n",
       "      <td></td>\n",
       "    </tr>\n",
       "    <tr>\n",
       "      <th>FP</th>\n",
       "      <td>0    0\\n1    0\\n2    0\\nName: FP, dtype: int64</td>\n",
       "      <td>1</td>\n",
       "      <td></td>\n",
       "    </tr>\n",
       "    <tr>\n",
       "      <th>FN</th>\n",
       "      <td>0    0\\n1    0\\n2    0\\nName: FN, dtype: int64</td>\n",
       "      <td>1</td>\n",
       "      <td></td>\n",
       "    </tr>\n",
       "    <tr>\n",
       "      <th>ROC_AUC</th>\n",
       "      <td>0    1.0\\n1    1.0\\n2    1.0\\nName: ROC_AUC, d...</td>\n",
       "      <td>1</td>\n",
       "      <td></td>\n",
       "    </tr>\n",
       "    <tr>\n",
       "      <th>PRC_AUC</th>\n",
       "      <td>0    1.0\\n1    1.0\\n2    1.0\\nName: PRC_AUC, d...</td>\n",
       "      <td>1</td>\n",
       "      <td></td>\n",
       "    </tr>\n",
       "    <tr>\n",
       "      <th>PRC_APS</th>\n",
       "      <td>0    1.0\\n1    1.0\\n2    1.0\\nName: PRC_APS, d...</td>\n",
       "      <td>1</td>\n",
       "      <td></td>\n",
       "    </tr>\n",
       "  </tbody>\n",
       "</table>\n",
       "</div>"
      ],
      "text/plain": [
       "                                                           statistic pvalue  \\\n",
       "Balanced Accuracy  0    1.0\\n1    1.0\\n2    1.0\\nName: Balanced A...      1   \n",
       "Accuracy           0    1.0\\n1    1.0\\n2    1.0\\nName: Accuracy, ...      1   \n",
       "F1_Score           0    1.0\\n1    1.0\\n2    1.0\\nName: F1_Score, ...      1   \n",
       "Recall             0    1.0\\n1    1.0\\n2    1.0\\nName: Recall, dt...      1   \n",
       "Specificity        0    1.0\\n1    1.0\\n2    1.0\\nName: Specificit...      1   \n",
       "Precision          0    1.0\\n1    1.0\\n2    1.0\\nName: Precision,...      1   \n",
       "TP                 0    80\\n1    80\\n2    80\\nName: TP, dtype: int64      1   \n",
       "TN                                                               0.0    1.0   \n",
       "FP                    0    0\\n1    0\\n2    0\\nName: FP, dtype: int64      1   \n",
       "FN                    0    0\\n1    0\\n2    0\\nName: FN, dtype: int64      1   \n",
       "ROC_AUC            0    1.0\\n1    1.0\\n2    1.0\\nName: ROC_AUC, d...      1   \n",
       "PRC_AUC            0    1.0\\n1    1.0\\n2    1.0\\nName: PRC_AUC, d...      1   \n",
       "PRC_APS            0    1.0\\n1    1.0\\n2    1.0\\nName: PRC_APS, d...      1   \n",
       "\n",
       "                  sig  \n",
       "Balanced Accuracy      \n",
       "Accuracy               \n",
       "F1_Score               \n",
       "Recall                 \n",
       "Specificity            \n",
       "Precision              \n",
       "TP                     \n",
       "TN                     \n",
       "FP                     \n",
       "FN                     \n",
       "ROC_AUC                \n",
       "PRC_AUC                \n",
       "PRC_APS                "
      ]
     },
     "execution_count": 74,
     "metadata": {},
     "output_type": "execute_result"
    }
   ],
   "source": [
    "if len(algorithmsToRun) > 1:\n",
    "    label = ['statistic','pvalue','sig']\n",
    "    kruskal_summary = pd.DataFrame(index=metrics,columns=label)\n",
    "    for metric in metrics:\n",
    "        tempArray = []\n",
    "        for i in range(len(algorithmsToRun)):\n",
    "            tempArray.append(master_list[i][metric])\n",
    "        try:\n",
    "            result = stats.kruskal(*tempArray)\n",
    "        except:\n",
    "            result = [tempArray[0],1]\n",
    "        #result = stats.kruskal(master_list[0][metric],master_list[1][metric],master_list[2][metric],master_list[3][metric],master_list[4][metric],master_list[5][metric],master_list[6][metric]) \n",
    "        kruskal_summary.at[metric, 'statistic'] = str(round(result[0],6))\n",
    "        kruskal_summary.at[metric, 'pvalue'] = str(round(result[1],6))\n",
    "        if result[1] < sig_cutoff:\n",
    "            kruskal_summary.at[metric, 'sig'] = str('*')\n",
    "        else:\n",
    "            kruskal_summary.at[metric, 'sig'] = str('')\n",
    "\n",
    "    kruskal_summary\n",
    "\n",
    "    kruskal_summary.to_csv(wd_path+output_folder+'/'+'Summary_Algorithm_KruskalWallis_'+data_name+'.csv')   "
   ]
  },
  {
   "cell_type": "code",
   "execution_count": 75,
   "metadata": {},
   "outputs": [],
   "source": [
    "if len(algorithmsToRun) > 1:\n",
    "    algCount = len(algorithmsToRun)\n",
    "    for metric in metrics:\n",
    "        if kruskal_summary['sig'][metric] == '*':\n",
    "            mann_stats = []\n",
    "            #Balanced Accuracy\n",
    "            for i in range(0,algCount-1):\n",
    "                for j in range(i+1,algCount):\n",
    "                    set1 = master_list[i][metric]\n",
    "                    set2 = master_list[j][metric]\n",
    "\n",
    "                    #print('Mann-WhitneyU: '+str(algorithmsToRun[i])+' vs. '+str(algorithmsToRun[j]))\n",
    "                    try:\n",
    "                        report = stats.mannwhitneyu(set1,set2)\n",
    "                    except:\n",
    "                        report = [set1[0],1]\n",
    "                    #report\n",
    "                    tempstats = [algorithmsToRun[i], algorithmsToRun[j], report[0], report[1], '']\n",
    "                    if report[1] < sig_cutoff:\n",
    "                        tempstats[4] = '*'\n",
    "                    mann_stats.append(tempstats)\n",
    "\n",
    "            mann_stats_df = pd.DataFrame(mann_stats)\n",
    "            mann_stats_df.columns = ['Algorithm 1', 'Algorithm 2', 'statistic', 'p-value', 'sig']\n",
    "            filepath = wd_path+output_folder+'/'+'MannWhitney_'+str(metric)+'_'+data_name+'.csv'\n",
    "            mann_stats_df.to_csv(filepath, index = False) \n",
    "            mann_stats_df"
   ]
  },
  {
   "cell_type": "markdown",
   "metadata": {},
   "source": [
    "---\n",
    "# Visualize Feature Importance Results Across Algorithms"
   ]
  },
  {
   "cell_type": "markdown",
   "metadata": {},
   "source": [
    "## Specify dataset specific paths/names"
   ]
  },
  {
   "cell_type": "code",
   "execution_count": 76,
   "metadata": {},
   "outputs": [
    {
     "name": "stdout",
     "output_type": "stream",
     "text": [
      "['A_0', 'A_1', 'R_0', 'R_1', 'R_2', 'R_3']\n"
     ]
    }
   ],
   "source": [
    "figx = 24\n",
    "figy = 12\n",
    "    \n",
    "#Feature names to use in the final publication figures\n",
    "df = pd.read_csv(wd_path+output_folder+'/'+algorithmsToRun[0]+'_FI_'+data_name+'.csv')\n",
    "\n",
    "printfeatureNames = list(df.columns)\n",
    "print(printfeatureNames)"
   ]
  },
  {
   "cell_type": "markdown",
   "metadata": {},
   "source": [
    "## Load feature importance and balanced accuracy results\n",
    "- Do this generically so that future algorithms can be added here\n",
    "- Identify a feature list for each algorithm (only features with average scores over zero)\n",
    "- Identify union of these feature lists - master feature list to be included in bar chart\n",
    "- Have a max_features to visualize - use ranking to reduce above list as needed to top n features only.\n",
    "- Add ability to load LCS or other external algorithm to these results"
   ]
  },
  {
   "cell_type": "code",
   "execution_count": 77,
   "metadata": {},
   "outputs": [],
   "source": [
    "#algorithm feature importance dataframe list (used to generate FI boxplots for each algorithm)\n",
    "fi_df_list = []\n",
    "#algorithm feature importance averages list (used to generate composite FI barplots)\n",
    "fi_ave_list = []\n",
    "#algorithm focus metric averages list (used in weighted FI viz)\n",
    "ave_metric_list = []\n",
    "#list of pre-feature selection features as they appear in FI reports for each algorithm\n",
    "all_feature_list = []"
   ]
  },
  {
   "cell_type": "code",
   "execution_count": 78,
   "metadata": {},
   "outputs": [
    {
     "data": {
      "text/plain": [
       "[1.0, 1.0]"
      ]
     },
     "execution_count": 78,
     "metadata": {},
     "output_type": "execute_result"
    }
   ],
   "source": [
    "for each in algorithmsToRun:\n",
    "    #Get relevant feature importance info\n",
    "    temp_df = pd.read_csv(wd_path+output_folder+'/'+each+'_FI_'+data_name+'.csv')\n",
    "    if each == algorithmsToRun[0]: #Should be same for all algorithm files (i.e. all original features in standard CV dataset order)\n",
    "        all_feature_list = temp_df.columns.tolist()\n",
    "    fi_df_list.append(temp_df) \n",
    "    fi_ave_list.append(temp_df.mean().tolist())\n",
    "    \n",
    "    #Get relevant metric info\n",
    "    tmp_df = pd.read_csv(wd_path+output_folder+'/'+each+'_Metrics_'+data_name+'.csv')\n",
    "    ave_metric_list.append(tmp_df[focus_metric].mean())\n",
    "ave_metric_list"
   ]
  },
  {
   "cell_type": "markdown",
   "metadata": {},
   "source": [
    "### Normalize average scores (Range 0-1)"
   ]
  },
  {
   "cell_type": "code",
   "execution_count": 79,
   "metadata": {},
   "outputs": [],
   "source": [
    "#Normalize average scores so all values range between 0 and 1 (important for combining FI's)\n",
    "fi_ave_norm_list = []\n",
    "for each in fi_ave_list: #each algorithm   \n",
    "    normList = []\n",
    "    for i in range(len(each)):\n",
    "        if each[i] <= 0:\n",
    "            normList.append(0)\n",
    "        else:\n",
    "            normList.append((each[i])/(max(each)))\n",
    "    fi_ave_norm_list.append(normList)\n"
   ]
  },
  {
   "cell_type": "markdown",
   "metadata": {},
   "source": [
    "### Identify features with non-zero averages"
   ]
  },
  {
   "cell_type": "code",
   "execution_count": 80,
   "metadata": {},
   "outputs": [],
   "source": [
    "# For each algorithm identify all non-zero features\n",
    "alg_non_zero_FI_list = []\n",
    "for each in fi_ave_list: #each algorithm\n",
    "    \n",
    "    temp_non_zero_list = []\n",
    "    for i in range(len(each)): #each feature\n",
    "        if each[i] > 0.0:\n",
    "            temp_non_zero_list.append(all_feature_list[i])\n",
    "    \n",
    "    alg_non_zero_FI_list.append(temp_non_zero_list)"
   ]
  },
  {
   "cell_type": "markdown",
   "metadata": {},
   "source": [
    "### Identify union of features with non-zero averages over all algorithms"
   ]
  },
  {
   "cell_type": "code",
   "execution_count": 81,
   "metadata": {},
   "outputs": [
    {
     "data": {
      "text/plain": [
       "[2, 3, 4, 0, 1, 5]"
      ]
     },
     "execution_count": 81,
     "metadata": {},
     "output_type": "execute_result"
    }
   ],
   "source": [
    "#Identify a union list over all algorithms of features with non-zero FI (These are candidates for vizualization)\n",
    "non_zero_union_features = alg_non_zero_FI_list[0] #grab first algorithm's list\n",
    "\n",
    "for j in range(1,len(algorithmsToRun)):\n",
    "    #print(j)\n",
    "    non_zero_union_features = list(set(non_zero_union_features) | set(alg_non_zero_FI_list[j]))\n",
    "\n",
    "#print(non_zero_union_features)\n",
    "\n",
    "non_zero_union_indexes = []\n",
    "for i in non_zero_union_features:\n",
    "    non_zero_union_indexes.append(all_feature_list.index(i))\n",
    "non_zero_union_indexes"
   ]
  },
  {
   "cell_type": "markdown",
   "metadata": {},
   "source": [
    "### Identify list of top features over all algorithms to visualize"
   ]
  },
  {
   "cell_type": "code",
   "execution_count": 82,
   "metadata": {},
   "outputs": [],
   "source": [
    "#If remaining non-zero feature list is still larger than we want to visualize, pick only top features for visualization\n",
    "featuresToViz = None\n",
    "if len(non_zero_union_features) > topResults:\n",
    "    #Identify a top set of feature values\n",
    "    scoreSumDict = {}\n",
    "    i = 0\n",
    "    for each in non_zero_union_features: #for each non-zero feature\n",
    "        for j in range(len(algorithmsToRun)): #for each algorithm\n",
    "            #grab target score from each algorithm\n",
    "            score = fi_ave_norm_list[j][non_zero_union_indexes[i]]\n",
    "            #multiply score by algorithm performance weight\n",
    "            score = score*ave_metric_list[j]\n",
    "            if not each in scoreSumDict:\n",
    "                scoreSumDict[each] = score\n",
    "            else:\n",
    "                scoreSumDict[each] += score\n",
    "        i += 1\n",
    "        \n",
    "    for each in scoreSumDict:\n",
    "        scoreSumDict[each] = scoreSumDict[each]/ len(algorithmsToRun)\n",
    "    #print(scoreSumDict)\n",
    "\n",
    "    #Rank and select top features to visualize\n",
    "\n",
    "    #Sort features by decreasing score\n",
    "    scoreSumDict_features = sorted(scoreSumDict, key=lambda x: scoreSumDict[x], reverse=True)\n",
    "    #scoreSumDict_features\n",
    "\n",
    "    featuresToViz = scoreSumDict_features[0:topResults]\n",
    "    #featuresToViz\n",
    "else:\n",
    "    featuresToViz = non_zero_union_features #Ranked feature name order"
   ]
  },
  {
   "cell_type": "markdown",
   "metadata": {},
   "source": [
    "## Generate individual feature importance boxplots for each algorithm"
   ]
  },
  {
   "cell_type": "code",
   "execution_count": 83,
   "metadata": {},
   "outputs": [
    {
     "data": {
      "text/plain": [
       "Text(0.5, 1.0, 'gradient_boosting')"
      ]
     },
     "execution_count": 83,
     "metadata": {},
     "output_type": "execute_result"
    },
    {
     "data": {
      "text/plain": [
       "Text(0, 0.5, 'Feature Importance Score')"
      ]
     },
     "execution_count": 83,
     "metadata": {},
     "output_type": "execute_result"
    },
    {
     "data": {
      "text/plain": [
       "Text(0.5, 0, 'Features')"
      ]
     },
     "execution_count": 83,
     "metadata": {},
     "output_type": "execute_result"
    },
    {
     "data": {
      "text/plain": [
       "([<matplotlib.axis.XTick at 0x130d04190>,\n",
       "  <matplotlib.axis.XTick at 0x130ca05d0>,\n",
       "  <matplotlib.axis.XTick at 0x13085db90>,\n",
       "  <matplotlib.axis.XTick at 0x1328a2e50>,\n",
       "  <matplotlib.axis.XTick at 0x1328a2f90>,\n",
       "  <matplotlib.axis.XTick at 0x130f6fc90>],\n",
       " <a list of 6 Text xticklabel objects>)"
      ]
     },
     "execution_count": 83,
     "metadata": {},
     "output_type": "execute_result"
    },
    {
     "data": {
      "image/png": "[encoded data removed]",
      "text/plain": [
       "<Figure size 1080x288 with 1 Axes>"
      ]
     },
     "metadata": {
      "needs_background": "light"
     },
     "output_type": "display_data"
    },
    {
     "data": {
      "text/plain": [
       "Text(0.5, 1.0, 'k_neighbors')"
      ]
     },
     "execution_count": 83,
     "metadata": {},
     "output_type": "execute_result"
    },
    {
     "data": {
      "text/plain": [
       "Text(0, 0.5, 'Feature Importance Score')"
      ]
     },
     "execution_count": 83,
     "metadata": {},
     "output_type": "execute_result"
    },
    {
     "data": {
      "text/plain": [
       "Text(0.5, 0, 'Features')"
      ]
     },
     "execution_count": 83,
     "metadata": {},
     "output_type": "execute_result"
    },
    {
     "data": {
      "text/plain": [
       "([<matplotlib.axis.XTick at 0x131837510>,\n",
       "  <matplotlib.axis.XTick at 0x13182f910>,\n",
       "  <matplotlib.axis.XTick at 0x131823550>,\n",
       "  <matplotlib.axis.XTick at 0x1322fbc50>,\n",
       "  <matplotlib.axis.XTick at 0x1322fbd50>,\n",
       "  <matplotlib.axis.XTick at 0x131a69ad0>],\n",
       " <a list of 6 Text xticklabel objects>)"
      ]
     },
     "execution_count": 83,
     "metadata": {},
     "output_type": "execute_result"
    },
    {
     "data": {
      "image/png": "[encoded data removed]",
      "text/plain": [
       "<Figure size 1080x288 with 1 Axes>"
      ]
     },
     "metadata": {
      "needs_background": "light"
     },
     "output_type": "display_data"
    }
   ],
   "source": [
    "counter = 0\n",
    "for df in fi_df_list:\n",
    "    fig = plt.figure(figsize=(15,4))\n",
    "    boxplot = df.boxplot(rot=90)\n",
    "    plt.title(algorithmsToRun[counter])\n",
    "    plt.ylabel('Feature Importance Score')\n",
    "    plt.xlabel('Features')\n",
    "    plt.xticks(np.arange(1,len(printfeatureNames)+1), printfeatureNames,rotation='vertical')\n",
    "    plt.savefig((wd_path+output_folder+'/'+algorithmsToRun[counter]+'_boxplot_' + data_name), bbox_inches = \"tight\")\n",
    "    plt.show()\n",
    "\n",
    "    counter += 1"
   ]
  },
  {
   "cell_type": "markdown",
   "metadata": {},
   "source": [
    "### Create Normalized dataframes with feature viz subsets"
   ]
  },
  {
   "cell_type": "code",
   "execution_count": 84,
   "metadata": {},
   "outputs": [
    {
     "data": {
      "text/plain": [
       "['R_0', 'R_1', 'R_2', 'A_0', 'A_1', 'R_3']"
      ]
     },
     "execution_count": 84,
     "metadata": {},
     "output_type": "execute_result"
    },
    {
     "data": {
      "text/plain": [
       "[2, 3, 4, 0, 1, 5]"
      ]
     },
     "execution_count": 84,
     "metadata": {},
     "output_type": "execute_result"
    },
    {
     "data": {
      "text/plain": [
       "['A_0', 'A_1', 'R_0', 'R_1', 'R_2', 'R_3']"
      ]
     },
     "execution_count": 84,
     "metadata": {},
     "output_type": "execute_result"
    }
   ],
   "source": [
    "featuresToViz\n",
    "\n",
    "feature_indexToViz = []\n",
    "for i in featuresToViz:\n",
    "    feature_indexToViz.append(all_feature_list.index(i))\n",
    "feature_indexToViz\n",
    "\n",
    "#Preserve features in original dataset order for consistency\n",
    "top_fi_ave_norm_list = []\n",
    "for i in range(len(algorithmsToRun)):\n",
    "    tempList = []\n",
    "    for j in range(len(fi_ave_norm_list[i])):\n",
    "        if j in feature_indexToViz:\n",
    "            tempList.append(fi_ave_norm_list[i][j])\n",
    "    top_fi_ave_norm_list.append(tempList)\n",
    "\n",
    "#Create feature name list in propper order\n",
    "all_feature_listToViz = []\n",
    "for j in (all_feature_list):\n",
    "    if j in featuresToViz:\n",
    "        all_feature_listToViz.append(j)\n",
    "all_feature_listToViz"
   ]
  },
  {
   "cell_type": "code",
   "execution_count": 85,
   "metadata": {},
   "outputs": [],
   "source": [
    "def compound_FI_plot(fi_list,algorithmsToRun,algColors,all_feature_listToViz,figName):\n",
    "    \n",
    "    # y-axis in bold\n",
    "    rc('font', weight='bold', size=16)\n",
    "    \n",
    "    # The position of the bars on the x-axis\n",
    "    r = all_feature_listToViz\n",
    "    barWidth = 0.75\n",
    "    plt.figure(figsize=(figx,figy))\n",
    "                \n",
    "    print(\"Plotting with \"+str(len(algorithmsToRun))+\" algorithms.\")\n",
    "    p1 = plt.bar(r, fi_list[0], color=algColors[0], edgecolor='white', width=barWidth)\n",
    "    \n",
    "    bottoms = []\n",
    "    for i in range(len(algorithmsToRun)-1):\n",
    "        for j in range(i+1):\n",
    "            if j == 0:\n",
    "                bottom = np.array(fi_list[0])\n",
    "            else:\n",
    "                bottom += np.array(fi_list[j])\n",
    "        bottoms.append(bottom)\n",
    "    \n",
    "    if not isinstance(bottoms,list):\n",
    "        bottoms = bottoms.tolist()\n",
    "    \n",
    "    ps = [p1[0]]\n",
    "    for i in range(len(algorithmsToRun)-1):\n",
    "        p = plt.bar(r, fi_list[i+1], bottom=bottoms[i], color=algColors[i+1], edgecolor='white', width=barWidth)\n",
    "        ps.append(p[0])\n",
    "    \n",
    "    lines = tuple(ps)\n",
    "        \n",
    "    # Custom X axis\n",
    "    plt.xticks(np.arange(len(all_feature_listToViz)), all_feature_listToViz,rotation='vertical')\n",
    "    plt.xlabel(\"Feature\", fontsize=20)\n",
    "    plt.ylabel(\"Normalized Feature Importance\", fontsize=20)\n",
    "    plt.legend(lines, methodsKey, loc=0,fontsize=16)\n",
    "    plt.savefig(wd_path+output_folder+'/Compare_FI_'+figName+'_'+data_name, bbox_inches = 'tight')\n",
    "    # Show graphic\n",
    "    plt.show()"
   ]
  },
  {
   "cell_type": "markdown",
   "metadata": {},
   "source": [
    "## Compound Feature Importance Plot (Normalized only)"
   ]
  },
  {
   "cell_type": "code",
   "execution_count": 86,
   "metadata": {
    "scrolled": true
   },
   "outputs": [
    {
     "name": "stdout",
     "output_type": "stream",
     "text": [
      "Plotting with 2 algorithms.\n"
     ]
    },
    {
     "data": {
      "image/png": "[encoded data removed]",
      "text/plain": [
       "<Figure size 1728x864 with 1 Axes>"
      ]
     },
     "metadata": {
      "needs_background": "light"
     },
     "output_type": "display_data"
    }
   ],
   "source": [
    "compound_FI_plot(top_fi_ave_norm_list,algorithmsToRun,algColors,all_feature_listToViz,'Norm')"
   ]
  },
  {
   "cell_type": "markdown",
   "metadata": {},
   "source": [
    "##  Fraction Adjustment of Normalized Feature importances\n",
    "- Each scores from each algorithm divided by sum of all scores"
   ]
  },
  {
   "cell_type": "code",
   "execution_count": 87,
   "metadata": {},
   "outputs": [],
   "source": [
    "fracLists = []\n",
    "\n",
    "for each in top_fi_ave_norm_list:\n",
    "    fracList = []\n",
    "    for i in range(len(each)):\n",
    "        fracList.append((each[i]/(sum(each))))\n",
    "    fracLists.append(fracList)"
   ]
  },
  {
   "cell_type": "markdown",
   "metadata": {},
   "source": [
    "## Compound Feature Importance Plot (Normalized + Fraction Adjustment)"
   ]
  },
  {
   "cell_type": "code",
   "execution_count": 88,
   "metadata": {},
   "outputs": [
    {
     "name": "stdout",
     "output_type": "stream",
     "text": [
      "Plotting with 2 algorithms.\n"
     ]
    },
    {
     "data": {
      "image/png": "[encoded data removed]",
      "text/plain": [
       "<Figure size 1728x864 with 1 Axes>"
      ]
     },
     "metadata": {
      "needs_background": "light"
     },
     "output_type": "display_data"
    }
   ],
   "source": [
    "compound_FI_plot(fracLists,algorithmsToRun,algColors,all_feature_listToViz,'Norm_Frac')"
   ]
  },
  {
   "cell_type": "markdown",
   "metadata": {},
   "source": [
    "##  Performance Weighting of Normalized Feature importances"
   ]
  },
  {
   "cell_type": "code",
   "execution_count": 89,
   "metadata": {},
   "outputs": [],
   "source": [
    "#Prepare weights\n",
    "weights = []\n",
    "\n",
    "# replace all balanced accuraces <=.5 with 0\n",
    "for i in range(len(ave_metric_list)):\n",
    "    if ave_metric_list[i] <= .5:\n",
    "        ave_metric_list[i] = 0\n",
    "\n",
    "# normalize balanced accuracies\n",
    "for i in range(len(ave_metric_list)):\n",
    "    if ave_metric_list[i] == 0:\n",
    "        weights.append(0)\n",
    "    else:\n",
    "        weights.append((ave_metric_list[i]-0.5)/0.5)\n",
    "        \n",
    "        \n",
    "# Weight normalized feature importances\n",
    "weightedLists = []\n",
    "\n",
    "for i in range(len(top_fi_ave_norm_list)):\n",
    "    weightList = np.multiply(weights[i],top_fi_ave_norm_list[i]).tolist()\n",
    "    weightedLists.append(weightList)"
   ]
  },
  {
   "cell_type": "markdown",
   "metadata": {},
   "source": [
    "## Compound Feature Importance Plot (Normalized + Perf. Weight Adjustment)"
   ]
  },
  {
   "cell_type": "code",
   "execution_count": 90,
   "metadata": {},
   "outputs": [
    {
     "name": "stdout",
     "output_type": "stream",
     "text": [
      "Plotting with 2 algorithms.\n"
     ]
    },
    {
     "data": {
      "image/png": "[encoded data removed]",
      "text/plain": [
       "<Figure size 1728x864 with 1 Axes>"
      ]
     },
     "metadata": {
      "needs_background": "light"
     },
     "output_type": "display_data"
    }
   ],
   "source": [
    "compound_FI_plot(weightedLists,algorithmsToRun,algColors,all_feature_listToViz,'Norm_Weight')"
   ]
  },
  {
   "cell_type": "markdown",
   "metadata": {},
   "source": [
    "##  Performance Weighting of Fract. Adj. and Normalized Feature importances"
   ]
  },
  {
   "cell_type": "code",
   "execution_count": 91,
   "metadata": {},
   "outputs": [],
   "source": [
    "# Weight normalized feature importances\n",
    "weightedFracLists = []\n",
    "\n",
    "for i in range(len(fracLists)):\n",
    "    weightList = np.multiply(weights[i],fracLists[i]).tolist()\n",
    "    weightedFracLists.append(weightList)"
   ]
  },
  {
   "cell_type": "markdown",
   "metadata": {},
   "source": [
    "## Compound Feature Importance Plot (Normalized + Frac. + Perf. Weight Adjustment)"
   ]
  },
  {
   "cell_type": "code",
   "execution_count": 92,
   "metadata": {},
   "outputs": [
    {
     "name": "stdout",
     "output_type": "stream",
     "text": [
      "Plotting with 2 algorithms.\n"
     ]
    },
    {
     "data": {
      "image/png": "[encoded data removed]",
      "text/plain": [
       "<Figure size 1728x864 with 1 Axes>"
      ]
     },
     "metadata": {
      "needs_background": "light"
     },
     "output_type": "display_data"
    }
   ],
   "source": [
    "compound_FI_plot(weightedFracLists,algorithmsToRun,algColors,all_feature_listToViz,'Norm_Frac_Weight')"
   ]
  },
  {
   "cell_type": "markdown",
   "metadata": {},
   "source": [
    "# Runtime Report"
   ]
  },
  {
   "cell_type": "raw",
   "metadata": {},
   "source": [
    "notebook_elapsed_time = time.time() - notebook_start_time\n",
    "print('Pipeline Run Time: '+ str(notebook_elapsed_time))\n",
    "run_time_dict['pipeline'] = notebook_elapsed_time\n",
    "print(run_time_dict)"
   ]
  }
 ],
 "metadata": {
  "kernelspec": {
   "display_name": "Python 3",
   "language": "python",
   "name": "python3"
  },
  "language_info": {
   "codemirror_mode": {
    "name": "ipython",
    "version": 3
   },
   "file_extension": ".py",
   "mimetype": "text/x-python",
   "name": "python",
   "nbconvert_exporter": "python",
   "pygments_lexer": "ipython3",
   "version": "3.7.7"
  }
 },
 "nbformat": 4,
 "nbformat_minor": 2
}
