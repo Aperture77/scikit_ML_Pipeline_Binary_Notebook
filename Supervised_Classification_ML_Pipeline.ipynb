{
 "cells": [
  {
   "cell_type": "markdown",
   "source": [
    "# A Rigorous Machine Learning Pipeline (Supervised Binary Classification):\n",
    "* Author: Ryan Urbanowicz, PhD with contributions from Robert Zhang (WH '22, SEAS '22)\n",
    "*  Affiliation: University of Pennsylvania - Department of Biostatistics, Epidemiology, and Informatics & Institute for Biomedical Informatics (IBI) \n",
    "* Date: 9/1/20\n",
    "***\n",
    "## Introduction\n",
    "This notebook presents an example of a 'rigorous' machine learning (ML) analysis pipeline that could be reasonablly applied to various supervised learning classification tasks. This pipeline was developed with biomedical data mining/modeling in mind. While this pipeline offers a comprehensive and rigorous proposed analysis, we do not suggest that this is necessarily the 'best' or 'only' way to conduct an appropriate binary classification ML analysis. This notebook simplifies and expands upon a pipeline previously made available on our GitHub page: https://github.com/UrbsLab/ExSTraCS_ML_Pipeline_Binary_Notebook\n",
    "***\n",
    "## Environment Requirements\n",
    "In order to run this pipeline as a Jupyter Notebook you must have the proper environment set up on your computer. Python 3 as well as a number of Python packages are required.  Most of these requirements are satisfied by installing the most recent version of anaconda (https://docs.anaconda.com/anaconda/install/). We used Anaconda3 with python version 3.7.7 during this pipeline development. In addition to the packages included in anaconda, the following packages will need to be installed separately (or possibly updated, if you have an older version installed):\n",
    "\n",
    "* scikit-rebate (To install: pip install skrebate)\n",
    "* xgboost (To install: pip install xgboost)\n",
    "* lightgbm (To install: pip install lightgbm)\n",
    "* optuna (To install: pip install optuna)\n",
    "* eLCS (To install: pip install scikit-elcs)\n",
    "* XCS (To install: pip install scikit-XCS)\n",
    "* ExSTraCS (To install: pip install scikit-ExSTraCS)\n",
    "\n",
    "Additionally, while currently commented out in the file (modeling_methods.py) if you want the optuna hypterparameter sweep figures to appear within the jupyter notebook (via the command 'fig.show()' ) you will need to run the following installation commands.  This should only be required if you edit the python file to uncomment this line for any or all of the ML modeling algorithms. \n",
    "\n",
    "* pip install -U plotly>=4.0.0\n",
    "* conda install -c plotly plotly-orca\n",
    "\n",
    "***\n",
    "## Dataset Requirements\n",
    "This notebook loads a single dataset to be run through the entire pipeline. Here we summarize the requirements for this dataset:\n",
    "* Ensure your data is in a single file: (If you have a pre-partitioned training/testing dataset, you should combine them into a single dataset before running this notebook)\n",
    "* Any dataset specific cleaning, feature transformation, or feature engineering that may be needed in order to maximize ML performance should be conducted by the user separately or added to the beginning of this notebook. \n",
    "* The dataset should be in tab-delimited .txt format to run this notebook (as is).  Commented-out code to load a comma separated file (.csv) and excel file (.xlsx) is included in the notebook as an alternative. \n",
    "* Missing data values should be empty or indicated with an 'NA'.\n",
    "* Dataset includes a header with column names. This should include a column for the binary class label and (optionally) a column for the instance ID, as well as columns for other 'features', e.g. independend variables. \n",
    "* The class labels should be 0 for the major class (i.e. the most frequent class), and 1 for the minor class.  This is important for generation of the precision/recall curve (PRC) plots. \n",
    "* This dataset is saved in the working directory containing the jupyter notebook file, and all other files in this repository.\n",
    "* All variables in the dataset have been numerically encoded (otherwise additional data preprocessing may be needed)\n",
    "***\n",
    "## Notebook Organization\n",
    "#### Part 1: Exploratory analysis, data cleaning, and creating n-fold CV partitioned datasets \n",
    "- Instances missing a class value are excluded\n",
    "- The user can indicate other columns that should be excluded from the analysis\n",
    "- The user can turn on/off the option to apply standard scaling to the data prior to CV partitioning or imputation\n",
    "    - We use no scaling by default. This is because most methods should work properly without it, and in applying the model downstream, it is difficult to properly scale new data so that models may be re-applied later.\n",
    "    - ANN modeling is sensitive to feature scaling, thus without it, performance not be as good. However this is only one of many challenges in getting ANN to perform well. \n",
    "- The user can turn on/off the option to impute missing values following CV partitioning\n",
    "- The user can turn on/off the option for the code to automatically attempt to discriminate nominal from ordinal features\n",
    "- The user can choose the number of CV partitions as well as the strategy for CV partitioning (i.e.  random (R), stratified (S), and matched (M) \n",
    "- CV training and testing datasets are saved as .txt files so that the same partitions may be analyzed external to this code\n",
    "    \n",
    "#### Part 2: Feature selection\n",
    "- The user can turn on/off the option to filter out the lowest scoring features in the data (i.e. to conduct not just feature importance evaluation but feature selection)\n",
    "- Feature importance evaluation and feature selection are conducted within each respective CV training partition\n",
    "- The pipeline reports feature importance estimates via two feature selection algorithms:\n",
    "    - Mutual Information: Proficient at detecting univariate associations\n",
    "    - MultiSURF: Proficient at detecting univariate associations, 2-way epistatic interactions, and heterogeneous associations\n",
    "    \n",
    "- When selected by the user, feature selection conservatively keeps any feature identified as 'potentially relevant' (i.e. score > 0) by either algorithm\n",
    "- Since MultiSURF scales quadratically with the number of training instances, there is an option to utilize a random subset of instances when running this algorithm to save computational time\n",
    "    \n",
    "#### Part 3: Machine learning modeling\n",
    "- Seven ML modeling algorithms have been implemented in this pipeline:\n",
    "    - Logistic Regression (scikit learn)\n",
    "    - Decision Tree (scikit learn)\n",
    "    - Random Forest (scikit learn)\n",
    "    - Naïve Bayes (scikit learn)\n",
    "    - XGBoost (separate python package)\n",
    "    - LightGBM (separate python package)\n",
    "    - SVM (scikit learn)\n",
    "    - ANN (scikit learn)\n",
    "    - k-Neighbors Classifier (scikit learn)\n",
    "    - Gradient Boosting Classifier (scikit learn)\n",
    "    - eLCS - a basic Learning Classifier System (LCS) algorithm (scikit learn compatible)\n",
    "    - XCS - our own Python implementation of this 'best-studied' LCS algorithm (scikit learn compatible)\n",
    "    - ExSTraCS (v2.0.2.1) - our own LCS algorithm designed to tackle the unique challenges of biomedical data (scikit learn compatible)\n",
    "- User can select any subset of these methods to run\n",
    "- ML modeling is conducted within each respective CV training partition on the respective feature subset selected within the given CV partition\n",
    "- ML modeling begins with a hyperparameter sweep conducted with a grid search of hard coded run parameter options (user can edit as needed)\n",
    "- Balanced accuracy is applied as the evaluation metric for the hyperparameter sweep\n",
    "\n",
    "#### Part 4: ML feature importance vizualization\n",
    "\n",
    "***\n",
    "## Schematic of ML Analysis Pipeline\n",
    "\n",
    "<img src=\"ML pipeline schematic3.png\" />"
   ],
   "metadata": {}
  },
  {
   "cell_type": "markdown",
   "source": [
    "---\n",
    "# Import Necessary Python Packages "
   ],
   "metadata": {}
  },
  {
   "cell_type": "code",
   "execution_count": 1,
   "source": [
    "import pandas as pd\n",
    "import numpy as np\n",
    "import os\n",
    "import random\n",
    "import copy\n",
    "import sys\n",
    "import pickle\n",
    "import time\n",
    "\n",
    "from data_processing_methods import cv_partitioner\n",
    "from data_processing_methods import identifyCategoricalFeatures\n",
    "from data_processing_methods import imputeCVData\n",
    "from data_processing_methods import dataScaling\n",
    "\n",
    "from feature_selection_methods import reportAllFS\n",
    "from feature_selection_methods import reportTopFS\n",
    "from feature_selection_methods import sort_save_fi_scores\n",
    "from feature_selection_methods import sort_save_fs_fi_scores\n",
    "from feature_selection_methods import run_mi\n",
    "from feature_selection_methods import run_multisurf\n",
    "from feature_selection_methods import selectFeatures\n",
    "from feature_selection_methods import genFilteredDatasets\n",
    "\n",
    "from modeling_methods import classEval\n",
    "from modeling_methods import roc_plot_single\n",
    "from modeling_methods import save_performance\n",
    "from modeling_methods import save_FI\n",
    "from modeling_methods import eval_Algorithm_FI\n",
    "\n",
    "#Statistics packages\n",
    "from scipy import stats\n",
    "\n",
    "#Visualization Packages:\n",
    "#This code ensures that the output of plotting commands is displayed inline directly below the code cell that produced it.\n",
    "%matplotlib inline\n",
    "import matplotlib.pyplot as plt\n",
    "pd.set_option('display.max_columns', None) # display all the columns\n",
    "import scipy.stats as scs\n",
    "from scipy.stats import randint\n",
    "from matplotlib import rc\n",
    "import seaborn as sns\n",
    "\n",
    "import warnings\n",
    "warnings.filterwarnings('ignore')\n",
    "\n",
    "# Jupyter Notebook Hack: This code ensures that the results of multiple commands within a given cell are all displayed, rather than just the last. \n",
    "from IPython.core.interactiveshell import InteractiveShell\n",
    "InteractiveShell.ast_node_interactivity = \"all\"\n",
    "\n",
    "#Import Progress bar:\n",
    "from tqdm import tnrange, tqdm_notebook"
   ],
   "outputs": [],
   "metadata": {}
  },
  {
   "cell_type": "markdown",
   "source": [
    "---\n",
    "# Set Dataset Pipeline Variables (Mandatory)\n",
    "These variables values will have to be respecified to run this pipeline on a given dataset or computer"
   ],
   "metadata": {}
  },
  {
   "cell_type": "code",
   "execution_count": 2,
   "source": [
    "#Unique dataset name (include dataset extension) (must be updated for a given dataset analysis)\n",
    "#target_data = 'hcc-data_example.txt' \n",
    "target_data = 'histo_feature.csv' \n",
    "\n",
    "#Dataset specific constants (Must be updated for a given dataset)\n",
    "outcomeLabel = 'conclusion' #i.e. class outcome column label\n",
    "categoricalOutcome = True  #Is outcome nominal (i.e. discrete/classification) This script will not function correctly if False!\n",
    "instLabel = None #If data includes instance labels, given respective column name here, otherwise put None\n",
    "ignore_columns = [] #list of column names to exclude from the analysis (only insert column names if needed, otherwise leave empty)\n",
    "categorical_variables = [] #Leave empty for 'auto-detect' otherwise list feature names to be treated as categorical."
   ],
   "outputs": [],
   "metadata": {}
  },
  {
   "cell_type": "markdown",
   "source": [
    "---\n",
    "# Set Other Pipeline Variables (Optional) \n",
    "These variables can be left as is, or modified to update key aspects of how the ML pipeline will be run and what methods will be included"
   ],
   "metadata": {}
  },
  {
   "cell_type": "code",
   "execution_count": 3,
   "source": [
    "#Descriptive Analysis options ------------------------------------------------------------------------------------\n",
    "doCorrelation = True #Generate visualization of feature correlations (Not recommended for feature sets > 100)\n",
    "doUA = True #Perform a univariate analysis of features in the dataset \n",
    "\n",
    "#Cross Validation run parameters (change as needed) --------------------------------------------------------------\n",
    "cv_partitions = 5 #number of CV partitions (3-10 recommended)\n",
    "partition_method = 'S' #Options: random (R), stratified (S), matched (M)\n",
    "matchName = None #Name of column used for matched CV partitioning. Put None otherwise.\n",
    "\n",
    "#Data cleaning options--------------------------------------------------------------------------------------------\n",
    "scaleData = False  #Prescale original dataset values (important for ML and feature importance interpretation of some algorithms)\n",
    "imputeData = False  #Impute missing values (separate methods used for categorical vs ordinal variables)\n",
    "autoDetectCategorical = True #keep in mind that this can incorectly identify some ordinal values as being categorical (e.g. tumor state/grade)\n",
    "categoricalCutoff = 5 #If the number of unique values is greater than this value, the feature is assumed to be ordinal/continuous-valued\n",
    "\n",
    "#Feature Selection----------------------------------------------------------------------------------------------\n",
    "algorithms = ['mutual_information','multisurf']\n",
    "instanceSubset = 2000 #Sample subset size to use with MultiSURF (since they scale quandratically with n)\n",
    "maxFeaturesToKeep = 63 #Maximum number of features to keep during feature selection - pute None if no max desired)\n",
    "filterPoorFeatures = True\n",
    "topResults = 20 #Top features to illustrate in feature selection results figures\n",
    "\n",
    "#ML Modeling -----------------------------------------------------------------------------------------------------\n",
    "#Algorithms available: logistic_regression,decision_tree, random_forest, naive_bayes, xg_boost, lg_boost, SVM, ANN\n",
    "algorithmsToRun = ['logistic_regression','decision_tree', 'random_forest', 'naive_bayes', 'XGB', 'LGB','SVM','ANN','ExSTraCS','ExSTraCS_QRF','eLCS','XCS','gradient_boosting','k_neighbors'] \n",
    "methodsKey = ('Logistic Regression', 'Decision Tree', 'Random Forest', 'Naïve Bayes','XGB','LGB', 'SVM', 'ANN','ExSTraCS 2.0','ExSTraCS 2.0 QRF','eLCS','XCS','GB','KN')\n",
    "algColors = ['black','yellow','orange','grey','purple', 'aqua', 'red', 'blue','lightcoral','firebrick','deepskyblue','slategrey','bisque','seagreen']\n",
    "\n",
    "#algorithmsToRun = ['gradient_boosting','k_neighbors'] \n",
    "#methodsKey = ('GB','KN')\n",
    "#algColors = ['bisque','seagreen']\n",
    "\n",
    "#Notebook run parameters (i.e. set random seed for notebook replication consistency)\n",
    "randomSeed = 42\n",
    "random.seed(randomSeed)"
   ],
   "outputs": [],
   "metadata": {}
  },
  {
   "cell_type": "markdown",
   "source": [
    "## ML Modeling Hyperparamters"
   ],
   "metadata": {}
  },
  {
   "cell_type": "code",
   "execution_count": 4,
   "source": [
    "#Optima Hyperparameter sweep run parameters\n",
    "n_trials = 100 #number of bayesian hyperparameter optimization trials (using optuna)\n",
    "scoring_metric = 'balanced_accuracy' #metric used to pick best hyperparamters\n",
    "hype_cv = 3 #Internal cv partitions for hyperparamter sweep evaluations\n",
    "timeout = 300 #Seconds until hyperparameter sweep stopped - 3600 sec = 1 hour, 300 sec = 5 min\n",
    "lcs_timeout = 300\n",
    "\n",
    "#Logistic Regression\n",
    "param_grid_LR = {'penalty' : ['l2','l1'],\n",
    "                'C' : [1e-5, 1e5], \n",
    "                'dual' : [True, False],\n",
    "                'solver' : ['newton-cg','lbfgs', 'liblinear', 'sag','saga'],\n",
    "                'class_weight' : [None, 'balanced'],\n",
    "                'max_iter' : [10, 1000],\n",
    "                'n_jobs' : [-1]}\n",
    "\n",
    "#Decision Tree\n",
    "param_grid_DT = {'criterion' : ['gini', 'entropy'],\n",
    "                'splitter' : ['best', 'random'],\n",
    "                'max_depth' : [1, 30],\n",
    "                'min_samples_split' : [2, 50], \n",
    "                'min_samples_leaf' : [1, 50],\n",
    "                'max_features' : [None, 'auto','log2'],\n",
    "                'class_weight' : [None, 'balanced']}\n",
    "\n",
    "#Random Forest\n",
    "param_grid_RF = {'n_estimators': [10,1000],\n",
    "                'criterion' : ['gini', 'entropy'],\n",
    "                'max_depth' : [1, 30],\n",
    "                'min_samples_split' : [2, 50], \n",
    "                'min_samples_leaf' : [1, 50],\n",
    "                'max_features' : [None, 'auto','log2'],\n",
    "                'bootstrap' : [True],\n",
    "                'oob_score' : [False, True],\n",
    "                'n_jobs' : [-1],\n",
    "                'class_weight' : [None, 'balanced']}\n",
    "\n",
    "#XG Boost - note: class weight balance is included as option internally\n",
    "param_grid_XGB = {'booster': ['gbtree'],\n",
    "                'objective' : ['binary:logistic'],\n",
    "                'verbosity' : [0],\n",
    "                'reg_lambda' : [1e-8, 1.0],\n",
    "                'alpha' : [1e-8, 1.0],\n",
    "                'eta' : [1e-8, 1.0],\n",
    "                'gamma' : [1e-8, 1.0],\n",
    "                'max_depth' : [1, 30],\n",
    "                'grow_policy' : ['depthwise', 'lossguide'],\n",
    "                'n_estimators': [10,1000],\n",
    "                'min_samples_split' : [2, 50], \n",
    "                'min_samples_leaf' : [1, 50],\n",
    "                'subsample' : [0.5, 1.0],\n",
    "                'min_child_weight': [0.1, 10],\n",
    "                'colsample_bytree': [0.1, 1.0]}\n",
    "\n",
    "#LG Boost - note: class weight balance is included as option internally\n",
    "param_grid_LGB = {'objective' : ['binary'],\n",
    "                'metric': ['binary_logloss'],\n",
    "                'verbosity' : [-1],\n",
    "                'boosting_type': ['gbdt'],\n",
    "                'num_leaves': [2,256],\n",
    "                'max_depth' : [1, 30],\n",
    "                'lambda_l1': [1e-8, 10.0],\n",
    "                'lambda_l2': [1e-8, 10.0],\n",
    "                'feature_fraction': [0.4, 1.0],\n",
    "                'bagging_fraction': [0.4, 1.0],\n",
    "                'bagging_freq': [1,7],\n",
    "                'min_child_samples': [5,100],\n",
    "                'n_estimators': [10,1000]}\n",
    "\n",
    "#SVM\n",
    "param_grid_SVM = {'kernel' : ['linear','poly','rbf'],\n",
    "                'C': [0.1, 1000],\n",
    "                'gamma': ['scale'],\n",
    "                'degree': [1,6],\n",
    "                'probability' : [True],\n",
    "                'class_weight' : [None, 'balanced']}\n",
    "        \n",
    "#ANN\n",
    "param_grid_ANN = {'n_layers' : [1,3],\n",
    "                'layer_size' : [1,100],\n",
    "                'activation': ['identity','logistic', 'tanh', 'relu'],\n",
    "                'learning_rate': ['constant', 'invscaling', 'adaptive'],\n",
    "                'momentum': [.1,.9],\n",
    "                'solver': ['sgd', 'adam'],\n",
    "                'batch_size': ['auto'],\n",
    "                'alpha': [0.0001, 0.05],\n",
    "                'max_iter' : [200]}\n",
    "\n",
    "#ExSTraCS\n",
    "# param_grid_ExSTraCS = {'learning_iterations':[20000,50000,100000,200000],\n",
    "#                       'N':[500,1000,2000],\n",
    "#                       'nu':[1,5,10]}\n",
    "\n",
    "# param_grid_ExSTraCS = {'learning_iterations':[1000,5000],\n",
    "#                       'N':[500,1000],\n",
    "#                       'nu':[1,5]}\n",
    "\n",
    "param_grid_ExSTraCS = {'learning_iterations':[200000],\n",
    "                      'N':[1000],\n",
    "                      'nu':[1]}\n",
    "\n",
    "#eLCS\n",
    "# param_grid_eLCS = {'learning_iterations':[20000,50000,100000,200000],\n",
    "#                       'N':[500,1000,2000],\n",
    "#                       'nu':[1,5,10]}\n",
    "\n",
    "param_grid_eLCS = {'learning_iterations':[200000],\n",
    "                      'N':[1000],\n",
    "                      'nu':[1]}\n",
    "\n",
    "#XCS\n",
    "# param_grid_XCS = {'learning_iterations':[20000,50000,100000,200000],\n",
    "#                       'N':[500,1000,2000],\n",
    "#                       'nu':[1,5,10]}\n",
    "\n",
    "param_grid_XCS = {'learning_iterations':[200000],\n",
    "                      'N':[1000],\n",
    "                      'nu':[1]}\n",
    "\n",
    "param_grid_GB = {'loss':['deviance', 'exponential'],'learning_rate': [1e-2, 1],'min_samples_leaf':[1,200],\n",
    "                'max_depth':[1,10],'max_leaf_nodes':[None],'tol':[1e-7],'n_iter_no_change':[1,20],\n",
    "                'validation_fraction':[0.01, 0.31, 0.01]}\n",
    "\n",
    "param_grid_KN = {'n_neighbors':[1,100],'weights':['uniform', 'distance'],'p':[1,5],'metric':['euclidean', 'minkowski']}\n",
    "\n",
    "param_grid = {} #stores all user selected algorithm hyperparameters\n",
    "\n",
    "for algorithm in algorithmsToRun: #['logistic_regression','decision_tree', 'random_forest', 'naive_bayes', 'xg_boost','SVM','ANN'] \n",
    "    if algorithm == 'logistic_regression':\n",
    "        param_grid['logistic_regression'] = param_grid_LR\n",
    "    elif algorithm == 'decision_tree':\n",
    "        param_grid['decision_tree'] = param_grid_DT\n",
    "    elif algorithm == 'random_forest':\n",
    "        param_grid['random_forest'] = param_grid_RF\n",
    "    elif algorithm == 'naive_bayes':\n",
    "        pass #no hyperparameters\n",
    "    elif algorithm == 'XGB':\n",
    "        param_grid['XGB'] = param_grid_XGB\n",
    "    elif algorithm == 'LGB':\n",
    "        param_grid['LGB'] = param_grid_LGB\n",
    "    elif algorithm == 'SVM':\n",
    "        param_grid['SVM'] = param_grid_SVM\n",
    "    elif algorithm == 'ANN':\n",
    "        param_grid['ANN'] = param_grid_ANN\n",
    "    elif algorithm == 'ExSTraCS':\n",
    "        param_grid['ExSTraCS'] = param_grid_ExSTraCS\n",
    "    elif algorithm == 'ExSTraCS_QRF':\n",
    "        param_grid['ExSTraCS_QRF'] = param_grid_ExSTraCS\n",
    "    elif algorithm == 'eLCS':\n",
    "        param_grid['eLCS'] = param_grid_eLCS\n",
    "    elif algorithm == 'XCS':\n",
    "        param_grid['XCS'] = param_grid_XCS\n",
    "    elif algorithm == 'gradient_boosting':\n",
    "        param_grid['gradient_boosting'] = param_grid_GB\n",
    "    elif algorithm == 'k_neighbors':\n",
    "        param_grid['k_neighbors'] = param_grid_KN\n",
    "    else:\n",
    "        print(\"Error: Algorithm not found!\")\n",
    "\n",
    "#Visualization ---------------------------------------------------------------------------------------------------\n",
    "focus_metric = 'Balanced Accuracy'\n",
    "\n",
    "#Statistical Significance-----------------------------------------------------------------------------------------\n",
    "sig_cutoff = 0.05"
   ],
   "outputs": [],
   "metadata": {}
  },
  {
   "cell_type": "markdown",
   "source": [
    "---\n",
    "# Notebook/Folder Initialization\n",
    "For simplicity it is recommended that this not be altered."
   ],
   "metadata": {}
  },
  {
   "cell_type": "code",
   "execution_count": 5,
   "source": [
    "#Standard Names (no need to change)\n",
    "output_folder = 'results'\n",
    "cv_data_folder = 'cv_datasets'\n",
    "ua_folder = 'univariate'\n",
    "model_folder = 'models'\n",
    "\n",
    "#Working directory path automatically detected\n",
    "wd_path = os.getcwd()\n",
    "wd_path = wd_path.replace('\\\\','/')\n",
    "wd_path = wd_path+'/'\n",
    "print(\"Working Directory: \"+wd_path)\n",
    "\n",
    "#Save data name without extension for later file labeling\n",
    "data_name = target_data.split('.')[0] \n",
    "\n",
    "#Create output folder if it doesn't already exist\n",
    "if not os.path.exists(wd_path+(output_folder)):\n",
    "    os.mkdir(wd_path+(output_folder))\n",
    "\n",
    "#Create CV dataset folder if it doesn't already exist\n",
    "if not os.path.exists(wd_path+(cv_data_folder)):\n",
    "    os.mkdir(wd_path+(cv_data_folder))\n",
    "\n",
    "#Create univariate analysis folder if it doesn't already exist\n",
    "if not os.path.exists(wd_path+(ua_folder)):\n",
    "    os.mkdir(wd_path+(ua_folder))\n",
    "    \n",
    "#Create model pickle folder if it doesn't already exist\n",
    "if not os.path.exists(wd_path+(model_folder)):\n",
    "    os.mkdir(wd_path+(model_folder))\n",
    "\n",
    "data_changed = False #Keeps track of whether cleaning changed original dataset (leave this set to False)\n",
    "\n",
    "run_time_dict = {}\n",
    "notebook_start_time = time.time()"
   ],
   "outputs": [
    {
     "output_type": "stream",
     "name": "stdout",
     "text": [
      "Working Directory: /home/corentin/scikit_ML_Pipeline_Binary_Notebook/\n"
     ]
    }
   ],
   "metadata": {}
  },
  {
   "cell_type": "markdown",
   "source": [
    "---\n",
    "# Load Dataset\n",
    "This code assumes that the data is being loaded as a tab delimited '.txt' file with columns as features/outcome, and rows as instances. It is also assumed that the target file includes a header and that missing values are indicated with 'NA' or an empty cell. This command can be updated depending on users dataset format. "
   ],
   "metadata": {}
  },
  {
   "cell_type": "code",
   "execution_count": 6,
   "source": [
    "td = pd.read_csv(target_data, na_values='NA', sep = \",\") #Data loaded so that blank excell cells are 'NA'\n",
    "#td = pd.read_csv(target_data, na_values='NA', sep = \"\\t\") #Data loaded so that blank excell cells are 'NA'\n",
    "td = td.iloc[:,9:]\n",
    "# Drop les OTHER pour l'instant (que 3 classes)\n",
    "td = td.drop(td[td[\"conclusion\"]==\"OTHER\"].index)\n",
    "td = td.drop(td[td[\"conclusion\"]==\"UNCLEAR\"].index)\n",
    "del td[\"datetime\"]\n",
    "# Enlever les col remplis de NaN ou avec moins de 5 valeur (annotations)\n",
    "td = td.dropna(axis=1, thresh=5)\n",
    "td.fillna(0, inplace=True)\n",
    "td = td.replace({0.25:1, 0.5:1, 0.75:1})\n",
    "td = td.replace({\"COM\":0,\"NM\":1,\"CNM\":2})\n",
    "td.shape"
   ],
   "outputs": [
    {
     "output_type": "execute_result",
     "data": {
      "text/plain": [
       "(63, 63)"
      ]
     },
     "metadata": {},
     "execution_count": 6
    }
   ],
   "metadata": {}
  },
  {
   "cell_type": "markdown",
   "source": [
    "### Debugging data simplification (This code should be commented out during normal run)"
   ],
   "metadata": {}
  },
  {
   "cell_type": "code",
   "execution_count": 7,
   "source": [
    "#td = td.sample(frac=0.5, replace=False, random_state=randomSeed)"
   ],
   "outputs": [],
   "metadata": {}
  },
  {
   "cell_type": "markdown",
   "source": [
    "---\n",
    "# Initial Exploratory Analysis"
   ],
   "metadata": {}
  },
  {
   "cell_type": "code",
   "execution_count": 8,
   "source": [
    "# Count the number of rows and columns\n",
    "num_rows = td.shape[0]\n",
    "print('Dataset contains '+str(num_rows)+' rows.')\n",
    "num_cols = td.shape[1]\n",
    "print('Dataset contains '+str(num_cols)+' columns.')"
   ],
   "outputs": [
    {
     "output_type": "stream",
     "name": "stdout",
     "text": [
      "Dataset contains 63 rows.\n",
      "Dataset contains 63 columns.\n"
     ]
    }
   ],
   "metadata": {}
  },
  {
   "cell_type": "code",
   "execution_count": 9,
   "source": [
    "td.info()"
   ],
   "outputs": [
    {
     "output_type": "stream",
     "name": "stdout",
     "text": [
      "<class 'pandas.core.frame.DataFrame'>\n",
      "Int64Index: 63 entries, 0 to 88\n",
      "Data columns (total 63 columns):\n",
      " #   Column                                                Non-Null Count  Dtype  \n",
      "---  ------                                                --------------  -----  \n",
      " 0   conclusion                                            63 non-null     int64  \n",
      " 1   Prélèvement Anormal                                   63 non-null     float64\n",
      " 2   Type 1 Hypertrophiques (grandes)                      63 non-null     float64\n",
      " 3   Type 1 Atrophiées (petites)                           63 non-null     float64\n",
      " 4   Type  1 Taille hétérogène                             63 non-null     float64\n",
      " 5   Type 2 Hypertrophiques (grandes)                      63 non-null     float64\n",
      " 6   Type 2 Atrophiées (petites)                           63 non-null     float64\n",
      " 7   Type 2  Taille hétérogène                             63 non-null     float64\n",
      " 8   Taille Inégale                                        63 non-null     float64\n",
      " 9   Sans Topographie                                      63 non-null     float64\n",
      " 10  HETG: Anguleuse                                       63 non-null     float64\n",
      " 11  HETG: Bord arrondis                                   63 non-null     float64\n",
      " 12  HETG: Segmentation de fibre                           63 non-null     float64\n",
      " 13  Noyaux Centralisé                                     63 non-null     float64\n",
      " 14  Noyaux Internalisé                                    63 non-null     float64\n",
      " 15  Noyaux Sous-Sarcolemmique                             63 non-null     float64\n",
      " 16  Noyaux à Aspects Myotubulaire                         63 non-null     float64\n",
      " 17  Augmentation du Nombre de Noyaux                      63 non-null     float64\n",
      " 18  Matériel Fuscinophile: Amas/Aggrégat sombre           63 non-null     float64\n",
      " 19  Matériel Fuscinophile: Granuleux                      63 non-null     float64\n",
      " 20  Matériel Fuscinophile: Périphériques                  63 non-null     float64\n",
      " 21  Aspect violine (contour imprécis)                     63 non-null     float64\n",
      " 22  Bâtonnets - Rods                                      63 non-null     float64\n",
      " 23  Fuseau Neuromusculaire Anormal                        63 non-null     float64\n",
      " 24  Altérations Interstitielles                           63 non-null     float64\n",
      " 25  Augmentation Tissu Conjonctif                         63 non-null     float64\n",
      " 26  Augmentation Tissu Adipeux                            63 non-null     float64\n",
      " 27  Inflammation                                          63 non-null     float64\n",
      " 28  Augmentation du Collagène Endosymial                  63 non-null     float64\n",
      " 29  Signe de Nécrose                                      63 non-null     float64\n",
      " 30  Signe de Régénération                                 63 non-null     float64\n",
      " 31  Différenciation Anormale                              63 non-null     float64\n",
      " 32  Zone sans activité ATPase                             63 non-null     float64\n",
      " 33  Uniformité de Type                                    63 non-null     float64\n",
      " 34  Prédominance Fibre Type 1                             63 non-null     float64\n",
      " 35  Prédominance Fibre Type 2                             63 non-null     float64\n",
      " 36  Regroupement des Fibres                               63 non-null     float64\n",
      " 37  Fibres 1 Groupées                                     63 non-null     float64\n",
      " 38  Fibres 2 Groupées                                     63 non-null     float64\n",
      " 39  Activité ATPasique Anormale Localement (Zone Claire)  63 non-null     float64\n",
      " 40  Activité Oxy: En rayon de roue                        63 non-null     float64\n",
      " 41  Activité Oxy: Aspect targétoide                       63 non-null     float64\n",
      " 42  Activité Oxy: Alvéole Core-like                       63 non-null     float64\n",
      " 43  Désorganisation structurelle                          63 non-null     float64\n",
      " 44  Réseau Intermyofibrillaire Irrégulier                 63 non-null     float64\n",
      " 45  Activité Oxy: Zone Claire (pâle)                      63 non-null     float64\n",
      " 46  Activité Oxy: Centrale                                63 non-null     float64\n",
      " 47  Activité Oxy: Périphérique                            63 non-null     float64\n",
      " 48  Activité Oxy: Limites floues                          63 non-null     float64\n",
      " 49  Activité Oxy: Zone Inclusion Non Colorée              63 non-null     float64\n",
      " 50  Core                                                  63 non-null     float64\n",
      " 51  Core Périphériques                                    63 non-null     float64\n",
      " 52  Core Centraux Uniques                                 63 non-null     float64\n",
      " 53  Core à Limites Nettes                                 63 non-null     float64\n",
      " 54  Minicores                                             63 non-null     float64\n",
      " 55  Activité COX Anormale                                 63 non-null     float64\n",
      " 56  Activité COX Anormale Localement                      63 non-null     float64\n",
      " 57  Activité Phospholipases+AMP Anormale                  63 non-null     float64\n",
      " 58  Activité Phospholipases Anormale                      63 non-null     float64\n",
      " 59  Activité Phospholipases Anormale Localement           63 non-null     float64\n",
      " 60  Coloration PAS Anormale (Surcharge)                   63 non-null     float64\n",
      " 61  Coloration PAS Anormale Localement (Surcharge)        63 non-null     float64\n",
      " 62  Coloration Soudan: Anormale (Surchage en Lipides)     63 non-null     float64\n",
      "dtypes: float64(62), int64(1)\n",
      "memory usage: 31.5 KB\n"
     ]
    }
   ],
   "metadata": {}
  },
  {
   "cell_type": "code",
   "execution_count": 10,
   "source": [
    "td.describe()"
   ],
   "outputs": [
    {
     "output_type": "execute_result",
     "data": {
      "text/plain": [
       "       conclusion  Prélèvement Anormal  Type 1 Hypertrophiques (grandes)  \\\n",
       "count   63.000000            63.000000                         63.000000   \n",
       "mean     0.714286             0.126984                          0.142857   \n",
       "std      0.727979             0.335630                          0.352738   \n",
       "min      0.000000             0.000000                          0.000000   \n",
       "25%      0.000000             0.000000                          0.000000   \n",
       "50%      1.000000             0.000000                          0.000000   \n",
       "75%      1.000000             0.000000                          0.000000   \n",
       "max      2.000000             1.000000                          1.000000   \n",
       "\n",
       "       Type 1 Atrophiées (petites)  Type  1 Taille hétérogène  \\\n",
       "count                    63.000000                  63.000000   \n",
       "mean                      0.428571                   0.063492   \n",
       "std                       0.498847                   0.245805   \n",
       "min                       0.000000                   0.000000   \n",
       "25%                       0.000000                   0.000000   \n",
       "50%                       0.000000                   0.000000   \n",
       "75%                       1.000000                   0.000000   \n",
       "max                       1.000000                   1.000000   \n",
       "\n",
       "       Type 2 Hypertrophiques (grandes)  Type 2 Atrophiées (petites)  \\\n",
       "count                         63.000000                    63.000000   \n",
       "mean                           0.190476                     0.269841   \n",
       "std                            0.395831                     0.447443   \n",
       "min                            0.000000                     0.000000   \n",
       "25%                            0.000000                     0.000000   \n",
       "50%                            0.000000                     0.000000   \n",
       "75%                            0.000000                     1.000000   \n",
       "max                            1.000000                     1.000000   \n",
       "\n",
       "       Type 2  Taille hétérogène  Taille Inégale  Sans Topographie  \\\n",
       "count                  63.000000       63.000000         63.000000   \n",
       "mean                    0.047619        0.920635          0.301587   \n",
       "std                     0.214669        0.272479          0.462633   \n",
       "min                     0.000000        0.000000          0.000000   \n",
       "25%                     0.000000        1.000000          0.000000   \n",
       "50%                     0.000000        1.000000          0.000000   \n",
       "75%                     0.000000        1.000000          1.000000   \n",
       "max                     1.000000        1.000000          1.000000   \n",
       "\n",
       "       HETG: Anguleuse  HETG: Bord arrondis  HETG: Segmentation de fibre  \\\n",
       "count        63.000000            63.000000                    63.000000   \n",
       "mean          0.079365             0.190476                     0.079365   \n",
       "std           0.272479             0.395831                     0.272479   \n",
       "min           0.000000             0.000000                     0.000000   \n",
       "25%           0.000000             0.000000                     0.000000   \n",
       "50%           0.000000             0.000000                     0.000000   \n",
       "75%           0.000000             0.000000                     0.000000   \n",
       "max           1.000000             1.000000                     1.000000   \n",
       "\n",
       "       Noyaux Centralisé  Noyaux Internalisé  Noyaux Sous-Sarcolemmique  \\\n",
       "count          63.000000           63.000000                  63.000000   \n",
       "mean            0.492063            0.253968                   0.047619   \n",
       "std             0.503953            0.438776                   0.214669   \n",
       "min             0.000000            0.000000                   0.000000   \n",
       "25%             0.000000            0.000000                   0.000000   \n",
       "50%             0.000000            0.000000                   0.000000   \n",
       "75%             1.000000            0.500000                   0.000000   \n",
       "max             1.000000            1.000000                   1.000000   \n",
       "\n",
       "       Noyaux à Aspects Myotubulaire  Augmentation du Nombre de Noyaux  \\\n",
       "count                      63.000000                         63.000000   \n",
       "mean                        0.047619                          0.031746   \n",
       "std                         0.214669                          0.176731   \n",
       "min                         0.000000                          0.000000   \n",
       "25%                         0.000000                          0.000000   \n",
       "50%                         0.000000                          0.000000   \n",
       "75%                         0.000000                          0.000000   \n",
       "max                         1.000000                          1.000000   \n",
       "\n",
       "       Matériel Fuscinophile: Amas/Aggrégat sombre  \\\n",
       "count                                    63.000000   \n",
       "mean                                      0.460317   \n",
       "std                                       0.502426   \n",
       "min                                       0.000000   \n",
       "25%                                       0.000000   \n",
       "50%                                       0.000000   \n",
       "75%                                       1.000000   \n",
       "max                                       1.000000   \n",
       "\n",
       "       Matériel Fuscinophile: Granuleux  Matériel Fuscinophile: Périphériques  \\\n",
       "count                         63.000000                             63.000000   \n",
       "mean                           0.095238                              0.190476   \n",
       "std                            0.295901                              0.395831   \n",
       "min                            0.000000                              0.000000   \n",
       "25%                            0.000000                              0.000000   \n",
       "50%                            0.000000                              0.000000   \n",
       "75%                            0.000000                              0.000000   \n",
       "max                            1.000000                              1.000000   \n",
       "\n",
       "       Aspect violine (contour imprécis)  Bâtonnets - Rods  \\\n",
       "count                          63.000000         63.000000   \n",
       "mean                            0.079365          0.317460   \n",
       "std                             0.272479          0.469227   \n",
       "min                             0.000000          0.000000   \n",
       "25%                             0.000000          0.000000   \n",
       "50%                             0.000000          0.000000   \n",
       "75%                             0.000000          1.000000   \n",
       "max                             1.000000          1.000000   \n",
       "\n",
       "       Fuseau Neuromusculaire Anormal  Altérations Interstitielles  \\\n",
       "count                            63.0                    63.000000   \n",
       "mean                              0.0                     0.015873   \n",
       "std                               0.0                     0.125988   \n",
       "min                               0.0                     0.000000   \n",
       "25%                               0.0                     0.000000   \n",
       "50%                               0.0                     0.000000   \n",
       "75%                               0.0                     0.000000   \n",
       "max                               0.0                     1.000000   \n",
       "\n",
       "       Augmentation Tissu Conjonctif  Augmentation Tissu Adipeux  \\\n",
       "count                      63.000000                   63.000000   \n",
       "mean                        0.158730                    0.079365   \n",
       "std                         0.368359                    0.272479   \n",
       "min                         0.000000                    0.000000   \n",
       "25%                         0.000000                    0.000000   \n",
       "50%                         0.000000                    0.000000   \n",
       "75%                         0.000000                    0.000000   \n",
       "max                         1.000000                    1.000000   \n",
       "\n",
       "       Inflammation  Augmentation du Collagène Endosymial  Signe de Nécrose  \\\n",
       "count     63.000000                             63.000000         63.000000   \n",
       "mean       0.015873                              0.126984          0.031746   \n",
       "std        0.125988                              0.335630          0.176731   \n",
       "min        0.000000                              0.000000          0.000000   \n",
       "25%        0.000000                              0.000000          0.000000   \n",
       "50%        0.000000                              0.000000          0.000000   \n",
       "75%        0.000000                              0.000000          0.000000   \n",
       "max        1.000000                              1.000000          1.000000   \n",
       "\n",
       "       Signe de Régénération  Différenciation Anormale  \\\n",
       "count              63.000000                 63.000000   \n",
       "mean                0.015873                  0.015873   \n",
       "std                 0.125988                  0.125988   \n",
       "min                 0.000000                  0.000000   \n",
       "25%                 0.000000                  0.000000   \n",
       "50%                 0.000000                  0.000000   \n",
       "75%                 0.000000                  0.000000   \n",
       "max                 1.000000                  1.000000   \n",
       "\n",
       "       Zone sans activité ATPase  Uniformité de Type  \\\n",
       "count                  63.000000           63.000000   \n",
       "mean                    0.126984            0.253968   \n",
       "std                     0.335630            0.438776   \n",
       "min                     0.000000            0.000000   \n",
       "25%                     0.000000            0.000000   \n",
       "50%                     0.000000            0.000000   \n",
       "75%                     0.000000            0.500000   \n",
       "max                     1.000000            1.000000   \n",
       "\n",
       "       Prédominance Fibre Type 1  Prédominance Fibre Type 2  \\\n",
       "count                  63.000000                  63.000000   \n",
       "mean                    0.809524                   0.031746   \n",
       "std                     0.395831                   0.176731   \n",
       "min                     0.000000                   0.000000   \n",
       "25%                     1.000000                   0.000000   \n",
       "50%                     1.000000                   0.000000   \n",
       "75%                     1.000000                   0.000000   \n",
       "max                     1.000000                   1.000000   \n",
       "\n",
       "       Regroupement des Fibres  Fibres 1 Groupées  Fibres 2 Groupées  \\\n",
       "count                63.000000          63.000000          63.000000   \n",
       "mean                  0.015873           0.031746           0.015873   \n",
       "std                   0.125988           0.176731           0.125988   \n",
       "min                   0.000000           0.000000           0.000000   \n",
       "25%                   0.000000           0.000000           0.000000   \n",
       "50%                   0.000000           0.000000           0.000000   \n",
       "75%                   0.000000           0.000000           0.000000   \n",
       "max                   1.000000           1.000000           1.000000   \n",
       "\n",
       "       Activité ATPasique Anormale Localement (Zone Claire)  \\\n",
       "count                                          63.000000      \n",
       "mean                                            0.269841      \n",
       "std                                             0.447443      \n",
       "min                                             0.000000      \n",
       "25%                                             0.000000      \n",
       "50%                                             0.000000      \n",
       "75%                                             1.000000      \n",
       "max                                             1.000000      \n",
       "\n",
       "       Activité Oxy: En rayon de roue  Activité Oxy: Aspect targétoide  \\\n",
       "count                       63.000000                        63.000000   \n",
       "mean                         0.031746                         0.079365   \n",
       "std                          0.176731                         0.272479   \n",
       "min                          0.000000                         0.000000   \n",
       "25%                          0.000000                         0.000000   \n",
       "50%                          0.000000                         0.000000   \n",
       "75%                          0.000000                         0.000000   \n",
       "max                          1.000000                         1.000000   \n",
       "\n",
       "       Activité Oxy: Alvéole Core-like  Désorganisation structurelle  \\\n",
       "count                        63.000000                     63.000000   \n",
       "mean                          0.174603                      0.476190   \n",
       "std                           0.382677                      0.503444   \n",
       "min                           0.000000                      0.000000   \n",
       "25%                           0.000000                      0.000000   \n",
       "50%                           0.000000                      0.000000   \n",
       "75%                           0.000000                      1.000000   \n",
       "max                           1.000000                      1.000000   \n",
       "\n",
       "       Réseau Intermyofibrillaire Irrégulier  \\\n",
       "count                              63.000000   \n",
       "mean                                0.158730   \n",
       "std                                 0.368359   \n",
       "min                                 0.000000   \n",
       "25%                                 0.000000   \n",
       "50%                                 0.000000   \n",
       "75%                                 0.000000   \n",
       "max                                 1.000000   \n",
       "\n",
       "       Activité Oxy: Zone Claire (pâle)  Activité Oxy: Centrale  \\\n",
       "count                         63.000000               63.000000   \n",
       "mean                           0.285714                0.111111   \n",
       "std                            0.455383                0.316794   \n",
       "min                            0.000000                0.000000   \n",
       "25%                            0.000000                0.000000   \n",
       "50%                            0.000000                0.000000   \n",
       "75%                            1.000000                0.000000   \n",
       "max                            1.000000                1.000000   \n",
       "\n",
       "       Activité Oxy: Périphérique  Activité Oxy: Limites floues  \\\n",
       "count                   63.000000                     63.000000   \n",
       "mean                     0.079365                      0.158730   \n",
       "std                      0.272479                      0.368359   \n",
       "min                      0.000000                      0.000000   \n",
       "25%                      0.000000                      0.000000   \n",
       "50%                      0.000000                      0.000000   \n",
       "75%                      0.000000                      0.000000   \n",
       "max                      1.000000                      1.000000   \n",
       "\n",
       "       Activité Oxy: Zone Inclusion Non Colorée       Core  \\\n",
       "count                                 63.000000  63.000000   \n",
       "mean                                   0.079365   0.063492   \n",
       "std                                    0.272479   0.245805   \n",
       "min                                    0.000000   0.000000   \n",
       "25%                                    0.000000   0.000000   \n",
       "50%                                    0.000000   0.000000   \n",
       "75%                                    0.000000   0.000000   \n",
       "max                                    1.000000   1.000000   \n",
       "\n",
       "       Core Périphériques  Core Centraux Uniques  Core à Limites Nettes  \\\n",
       "count           63.000000              63.000000              63.000000   \n",
       "mean             0.158730               0.111111               0.079365   \n",
       "std              0.368359               0.316794               0.272479   \n",
       "min              0.000000               0.000000               0.000000   \n",
       "25%              0.000000               0.000000               0.000000   \n",
       "50%              0.000000               0.000000               0.000000   \n",
       "75%              0.000000               0.000000               0.000000   \n",
       "max              1.000000               1.000000               1.000000   \n",
       "\n",
       "       Minicores  Activité COX Anormale  Activité COX Anormale Localement  \\\n",
       "count  63.000000              63.000000                         63.000000   \n",
       "mean    0.063492               0.031746                          0.158730   \n",
       "std     0.245805               0.176731                          0.368359   \n",
       "min     0.000000               0.000000                          0.000000   \n",
       "25%     0.000000               0.000000                          0.000000   \n",
       "50%     0.000000               0.000000                          0.000000   \n",
       "75%     0.000000               0.000000                          0.000000   \n",
       "max     1.000000               1.000000                          1.000000   \n",
       "\n",
       "       Activité Phospholipases+AMP Anormale  Activité Phospholipases Anormale  \\\n",
       "count                             63.000000                         63.000000   \n",
       "mean                               0.015873                          0.031746   \n",
       "std                                0.125988                          0.176731   \n",
       "min                                0.000000                          0.000000   \n",
       "25%                                0.000000                          0.000000   \n",
       "50%                                0.000000                          0.000000   \n",
       "75%                                0.000000                          0.000000   \n",
       "max                                1.000000                          1.000000   \n",
       "\n",
       "       Activité Phospholipases Anormale Localement  \\\n",
       "count                                    63.000000   \n",
       "mean                                      0.063492   \n",
       "std                                       0.245805   \n",
       "min                                       0.000000   \n",
       "25%                                       0.000000   \n",
       "50%                                       0.000000   \n",
       "75%                                       0.000000   \n",
       "max                                       1.000000   \n",
       "\n",
       "       Coloration PAS Anormale (Surcharge)  \\\n",
       "count                            63.000000   \n",
       "mean                              0.031746   \n",
       "std                               0.176731   \n",
       "min                               0.000000   \n",
       "25%                               0.000000   \n",
       "50%                               0.000000   \n",
       "75%                               0.000000   \n",
       "max                               1.000000   \n",
       "\n",
       "       Coloration PAS Anormale Localement (Surcharge)  \\\n",
       "count                                       63.000000   \n",
       "mean                                         0.111111   \n",
       "std                                          0.316794   \n",
       "min                                          0.000000   \n",
       "25%                                          0.000000   \n",
       "50%                                          0.000000   \n",
       "75%                                          0.000000   \n",
       "max                                          1.000000   \n",
       "\n",
       "       Coloration Soudan: Anormale (Surchage en Lipides)  \n",
       "count                                          63.000000  \n",
       "mean                                            0.047619  \n",
       "std                                             0.214669  \n",
       "min                                             0.000000  \n",
       "25%                                             0.000000  \n",
       "50%                                             0.000000  \n",
       "75%                                             0.000000  \n",
       "max                                             1.000000  "
      ],
      "text/html": [
       "<div>\n",
       "<style scoped>\n",
       "    .dataframe tbody tr th:only-of-type {\n",
       "        vertical-align: middle;\n",
       "    }\n",
       "\n",
       "    .dataframe tbody tr th {\n",
       "        vertical-align: top;\n",
       "    }\n",
       "\n",
       "    .dataframe thead th {\n",
       "        text-align: right;\n",
       "    }\n",
       "</style>\n",
       "<table border=\"1\" class=\"dataframe\">\n",
       "  <thead>\n",
       "    <tr style=\"text-align: right;\">\n",
       "      <th></th>\n",
       "      <th>conclusion</th>\n",
       "      <th>Prélèvement Anormal</th>\n",
       "      <th>Type 1 Hypertrophiques (grandes)</th>\n",
       "      <th>Type 1 Atrophiées (petites)</th>\n",
       "      <th>Type  1 Taille hétérogène</th>\n",
       "      <th>Type 2 Hypertrophiques (grandes)</th>\n",
       "      <th>Type 2 Atrophiées (petites)</th>\n",
       "      <th>Type 2  Taille hétérogène</th>\n",
       "      <th>Taille Inégale</th>\n",
       "      <th>Sans Topographie</th>\n",
       "      <th>HETG: Anguleuse</th>\n",
       "      <th>HETG: Bord arrondis</th>\n",
       "      <th>HETG: Segmentation de fibre</th>\n",
       "      <th>Noyaux Centralisé</th>\n",
       "      <th>Noyaux Internalisé</th>\n",
       "      <th>Noyaux Sous-Sarcolemmique</th>\n",
       "      <th>Noyaux à Aspects Myotubulaire</th>\n",
       "      <th>Augmentation du Nombre de Noyaux</th>\n",
       "      <th>Matériel Fuscinophile: Amas/Aggrégat sombre</th>\n",
       "      <th>Matériel Fuscinophile: Granuleux</th>\n",
       "      <th>Matériel Fuscinophile: Périphériques</th>\n",
       "      <th>Aspect violine (contour imprécis)</th>\n",
       "      <th>Bâtonnets - Rods</th>\n",
       "      <th>Fuseau Neuromusculaire Anormal</th>\n",
       "      <th>Altérations Interstitielles</th>\n",
       "      <th>Augmentation Tissu Conjonctif</th>\n",
       "      <th>Augmentation Tissu Adipeux</th>\n",
       "      <th>Inflammation</th>\n",
       "      <th>Augmentation du Collagène Endosymial</th>\n",
       "      <th>Signe de Nécrose</th>\n",
       "      <th>Signe de Régénération</th>\n",
       "      <th>Différenciation Anormale</th>\n",
       "      <th>Zone sans activité ATPase</th>\n",
       "      <th>Uniformité de Type</th>\n",
       "      <th>Prédominance Fibre Type 1</th>\n",
       "      <th>Prédominance Fibre Type 2</th>\n",
       "      <th>Regroupement des Fibres</th>\n",
       "      <th>Fibres 1 Groupées</th>\n",
       "      <th>Fibres 2 Groupées</th>\n",
       "      <th>Activité ATPasique Anormale Localement (Zone Claire)</th>\n",
       "      <th>Activité Oxy: En rayon de roue</th>\n",
       "      <th>Activité Oxy: Aspect targétoide</th>\n",
       "      <th>Activité Oxy: Alvéole Core-like</th>\n",
       "      <th>Désorganisation structurelle</th>\n",
       "      <th>Réseau Intermyofibrillaire Irrégulier</th>\n",
       "      <th>Activité Oxy: Zone Claire (pâle)</th>\n",
       "      <th>Activité Oxy: Centrale</th>\n",
       "      <th>Activité Oxy: Périphérique</th>\n",
       "      <th>Activité Oxy: Limites floues</th>\n",
       "      <th>Activité Oxy: Zone Inclusion Non Colorée</th>\n",
       "      <th>Core</th>\n",
       "      <th>Core Périphériques</th>\n",
       "      <th>Core Centraux Uniques</th>\n",
       "      <th>Core à Limites Nettes</th>\n",
       "      <th>Minicores</th>\n",
       "      <th>Activité COX Anormale</th>\n",
       "      <th>Activité COX Anormale Localement</th>\n",
       "      <th>Activité Phospholipases+AMP Anormale</th>\n",
       "      <th>Activité Phospholipases Anormale</th>\n",
       "      <th>Activité Phospholipases Anormale Localement</th>\n",
       "      <th>Coloration PAS Anormale (Surcharge)</th>\n",
       "      <th>Coloration PAS Anormale Localement (Surcharge)</th>\n",
       "      <th>Coloration Soudan: Anormale (Surchage en Lipides)</th>\n",
       "    </tr>\n",
       "  </thead>\n",
       "  <tbody>\n",
       "    <tr>\n",
       "      <th>count</th>\n",
       "      <td>63.000000</td>\n",
       "      <td>63.000000</td>\n",
       "      <td>63.000000</td>\n",
       "      <td>63.000000</td>\n",
       "      <td>63.000000</td>\n",
       "      <td>63.000000</td>\n",
       "      <td>63.000000</td>\n",
       "      <td>63.000000</td>\n",
       "      <td>63.000000</td>\n",
       "      <td>63.000000</td>\n",
       "      <td>63.000000</td>\n",
       "      <td>63.000000</td>\n",
       "      <td>63.000000</td>\n",
       "      <td>63.000000</td>\n",
       "      <td>63.000000</td>\n",
       "      <td>63.000000</td>\n",
       "      <td>63.000000</td>\n",
       "      <td>63.000000</td>\n",
       "      <td>63.000000</td>\n",
       "      <td>63.000000</td>\n",
       "      <td>63.000000</td>\n",
       "      <td>63.000000</td>\n",
       "      <td>63.000000</td>\n",
       "      <td>63.0</td>\n",
       "      <td>63.000000</td>\n",
       "      <td>63.000000</td>\n",
       "      <td>63.000000</td>\n",
       "      <td>63.000000</td>\n",
       "      <td>63.000000</td>\n",
       "      <td>63.000000</td>\n",
       "      <td>63.000000</td>\n",
       "      <td>63.000000</td>\n",
       "      <td>63.000000</td>\n",
       "      <td>63.000000</td>\n",
       "      <td>63.000000</td>\n",
       "      <td>63.000000</td>\n",
       "      <td>63.000000</td>\n",
       "      <td>63.000000</td>\n",
       "      <td>63.000000</td>\n",
       "      <td>63.000000</td>\n",
       "      <td>63.000000</td>\n",
       "      <td>63.000000</td>\n",
       "      <td>63.000000</td>\n",
       "      <td>63.000000</td>\n",
       "      <td>63.000000</td>\n",
       "      <td>63.000000</td>\n",
       "      <td>63.000000</td>\n",
       "      <td>63.000000</td>\n",
       "      <td>63.000000</td>\n",
       "      <td>63.000000</td>\n",
       "      <td>63.000000</td>\n",
       "      <td>63.000000</td>\n",
       "      <td>63.000000</td>\n",
       "      <td>63.000000</td>\n",
       "      <td>63.000000</td>\n",
       "      <td>63.000000</td>\n",
       "      <td>63.000000</td>\n",
       "      <td>63.000000</td>\n",
       "      <td>63.000000</td>\n",
       "      <td>63.000000</td>\n",
       "      <td>63.000000</td>\n",
       "      <td>63.000000</td>\n",
       "      <td>63.000000</td>\n",
       "    </tr>\n",
       "    <tr>\n",
       "      <th>mean</th>\n",
       "      <td>0.714286</td>\n",
       "      <td>0.126984</td>\n",
       "      <td>0.142857</td>\n",
       "      <td>0.428571</td>\n",
       "      <td>0.063492</td>\n",
       "      <td>0.190476</td>\n",
       "      <td>0.269841</td>\n",
       "      <td>0.047619</td>\n",
       "      <td>0.920635</td>\n",
       "      <td>0.301587</td>\n",
       "      <td>0.079365</td>\n",
       "      <td>0.190476</td>\n",
       "      <td>0.079365</td>\n",
       "      <td>0.492063</td>\n",
       "      <td>0.253968</td>\n",
       "      <td>0.047619</td>\n",
       "      <td>0.047619</td>\n",
       "      <td>0.031746</td>\n",
       "      <td>0.460317</td>\n",
       "      <td>0.095238</td>\n",
       "      <td>0.190476</td>\n",
       "      <td>0.079365</td>\n",
       "      <td>0.317460</td>\n",
       "      <td>0.0</td>\n",
       "      <td>0.015873</td>\n",
       "      <td>0.158730</td>\n",
       "      <td>0.079365</td>\n",
       "      <td>0.015873</td>\n",
       "      <td>0.126984</td>\n",
       "      <td>0.031746</td>\n",
       "      <td>0.015873</td>\n",
       "      <td>0.015873</td>\n",
       "      <td>0.126984</td>\n",
       "      <td>0.253968</td>\n",
       "      <td>0.809524</td>\n",
       "      <td>0.031746</td>\n",
       "      <td>0.015873</td>\n",
       "      <td>0.031746</td>\n",
       "      <td>0.015873</td>\n",
       "      <td>0.269841</td>\n",
       "      <td>0.031746</td>\n",
       "      <td>0.079365</td>\n",
       "      <td>0.174603</td>\n",
       "      <td>0.476190</td>\n",
       "      <td>0.158730</td>\n",
       "      <td>0.285714</td>\n",
       "      <td>0.111111</td>\n",
       "      <td>0.079365</td>\n",
       "      <td>0.158730</td>\n",
       "      <td>0.079365</td>\n",
       "      <td>0.063492</td>\n",
       "      <td>0.158730</td>\n",
       "      <td>0.111111</td>\n",
       "      <td>0.079365</td>\n",
       "      <td>0.063492</td>\n",
       "      <td>0.031746</td>\n",
       "      <td>0.158730</td>\n",
       "      <td>0.015873</td>\n",
       "      <td>0.031746</td>\n",
       "      <td>0.063492</td>\n",
       "      <td>0.031746</td>\n",
       "      <td>0.111111</td>\n",
       "      <td>0.047619</td>\n",
       "    </tr>\n",
       "    <tr>\n",
       "      <th>std</th>\n",
       "      <td>0.727979</td>\n",
       "      <td>0.335630</td>\n",
       "      <td>0.352738</td>\n",
       "      <td>0.498847</td>\n",
       "      <td>0.245805</td>\n",
       "      <td>0.395831</td>\n",
       "      <td>0.447443</td>\n",
       "      <td>0.214669</td>\n",
       "      <td>0.272479</td>\n",
       "      <td>0.462633</td>\n",
       "      <td>0.272479</td>\n",
       "      <td>0.395831</td>\n",
       "      <td>0.272479</td>\n",
       "      <td>0.503953</td>\n",
       "      <td>0.438776</td>\n",
       "      <td>0.214669</td>\n",
       "      <td>0.214669</td>\n",
       "      <td>0.176731</td>\n",
       "      <td>0.502426</td>\n",
       "      <td>0.295901</td>\n",
       "      <td>0.395831</td>\n",
       "      <td>0.272479</td>\n",
       "      <td>0.469227</td>\n",
       "      <td>0.0</td>\n",
       "      <td>0.125988</td>\n",
       "      <td>0.368359</td>\n",
       "      <td>0.272479</td>\n",
       "      <td>0.125988</td>\n",
       "      <td>0.335630</td>\n",
       "      <td>0.176731</td>\n",
       "      <td>0.125988</td>\n",
       "      <td>0.125988</td>\n",
       "      <td>0.335630</td>\n",
       "      <td>0.438776</td>\n",
       "      <td>0.395831</td>\n",
       "      <td>0.176731</td>\n",
       "      <td>0.125988</td>\n",
       "      <td>0.176731</td>\n",
       "      <td>0.125988</td>\n",
       "      <td>0.447443</td>\n",
       "      <td>0.176731</td>\n",
       "      <td>0.272479</td>\n",
       "      <td>0.382677</td>\n",
       "      <td>0.503444</td>\n",
       "      <td>0.368359</td>\n",
       "      <td>0.455383</td>\n",
       "      <td>0.316794</td>\n",
       "      <td>0.272479</td>\n",
       "      <td>0.368359</td>\n",
       "      <td>0.272479</td>\n",
       "      <td>0.245805</td>\n",
       "      <td>0.368359</td>\n",
       "      <td>0.316794</td>\n",
       "      <td>0.272479</td>\n",
       "      <td>0.245805</td>\n",
       "      <td>0.176731</td>\n",
       "      <td>0.368359</td>\n",
       "      <td>0.125988</td>\n",
       "      <td>0.176731</td>\n",
       "      <td>0.245805</td>\n",
       "      <td>0.176731</td>\n",
       "      <td>0.316794</td>\n",
       "      <td>0.214669</td>\n",
       "    </tr>\n",
       "    <tr>\n",
       "      <th>min</th>\n",
       "      <td>0.000000</td>\n",
       "      <td>0.000000</td>\n",
       "      <td>0.000000</td>\n",
       "      <td>0.000000</td>\n",
       "      <td>0.000000</td>\n",
       "      <td>0.000000</td>\n",
       "      <td>0.000000</td>\n",
       "      <td>0.000000</td>\n",
       "      <td>0.000000</td>\n",
       "      <td>0.000000</td>\n",
       "      <td>0.000000</td>\n",
       "      <td>0.000000</td>\n",
       "      <td>0.000000</td>\n",
       "      <td>0.000000</td>\n",
       "      <td>0.000000</td>\n",
       "      <td>0.000000</td>\n",
       "      <td>0.000000</td>\n",
       "      <td>0.000000</td>\n",
       "      <td>0.000000</td>\n",
       "      <td>0.000000</td>\n",
       "      <td>0.000000</td>\n",
       "      <td>0.000000</td>\n",
       "      <td>0.000000</td>\n",
       "      <td>0.0</td>\n",
       "      <td>0.000000</td>\n",
       "      <td>0.000000</td>\n",
       "      <td>0.000000</td>\n",
       "      <td>0.000000</td>\n",
       "      <td>0.000000</td>\n",
       "      <td>0.000000</td>\n",
       "      <td>0.000000</td>\n",
       "      <td>0.000000</td>\n",
       "      <td>0.000000</td>\n",
       "      <td>0.000000</td>\n",
       "      <td>0.000000</td>\n",
       "      <td>0.000000</td>\n",
       "      <td>0.000000</td>\n",
       "      <td>0.000000</td>\n",
       "      <td>0.000000</td>\n",
       "      <td>0.000000</td>\n",
       "      <td>0.000000</td>\n",
       "      <td>0.000000</td>\n",
       "      <td>0.000000</td>\n",
       "      <td>0.000000</td>\n",
       "      <td>0.000000</td>\n",
       "      <td>0.000000</td>\n",
       "      <td>0.000000</td>\n",
       "      <td>0.000000</td>\n",
       "      <td>0.000000</td>\n",
       "      <td>0.000000</td>\n",
       "      <td>0.000000</td>\n",
       "      <td>0.000000</td>\n",
       "      <td>0.000000</td>\n",
       "      <td>0.000000</td>\n",
       "      <td>0.000000</td>\n",
       "      <td>0.000000</td>\n",
       "      <td>0.000000</td>\n",
       "      <td>0.000000</td>\n",
       "      <td>0.000000</td>\n",
       "      <td>0.000000</td>\n",
       "      <td>0.000000</td>\n",
       "      <td>0.000000</td>\n",
       "      <td>0.000000</td>\n",
       "    </tr>\n",
       "    <tr>\n",
       "      <th>25%</th>\n",
       "      <td>0.000000</td>\n",
       "      <td>0.000000</td>\n",
       "      <td>0.000000</td>\n",
       "      <td>0.000000</td>\n",
       "      <td>0.000000</td>\n",
       "      <td>0.000000</td>\n",
       "      <td>0.000000</td>\n",
       "      <td>0.000000</td>\n",
       "      <td>1.000000</td>\n",
       "      <td>0.000000</td>\n",
       "      <td>0.000000</td>\n",
       "      <td>0.000000</td>\n",
       "      <td>0.000000</td>\n",
       "      <td>0.000000</td>\n",
       "      <td>0.000000</td>\n",
       "      <td>0.000000</td>\n",
       "      <td>0.000000</td>\n",
       "      <td>0.000000</td>\n",
       "      <td>0.000000</td>\n",
       "      <td>0.000000</td>\n",
       "      <td>0.000000</td>\n",
       "      <td>0.000000</td>\n",
       "      <td>0.000000</td>\n",
       "      <td>0.0</td>\n",
       "      <td>0.000000</td>\n",
       "      <td>0.000000</td>\n",
       "      <td>0.000000</td>\n",
       "      <td>0.000000</td>\n",
       "      <td>0.000000</td>\n",
       "      <td>0.000000</td>\n",
       "      <td>0.000000</td>\n",
       "      <td>0.000000</td>\n",
       "      <td>0.000000</td>\n",
       "      <td>0.000000</td>\n",
       "      <td>1.000000</td>\n",
       "      <td>0.000000</td>\n",
       "      <td>0.000000</td>\n",
       "      <td>0.000000</td>\n",
       "      <td>0.000000</td>\n",
       "      <td>0.000000</td>\n",
       "      <td>0.000000</td>\n",
       "      <td>0.000000</td>\n",
       "      <td>0.000000</td>\n",
       "      <td>0.000000</td>\n",
       "      <td>0.000000</td>\n",
       "      <td>0.000000</td>\n",
       "      <td>0.000000</td>\n",
       "      <td>0.000000</td>\n",
       "      <td>0.000000</td>\n",
       "      <td>0.000000</td>\n",
       "      <td>0.000000</td>\n",
       "      <td>0.000000</td>\n",
       "      <td>0.000000</td>\n",
       "      <td>0.000000</td>\n",
       "      <td>0.000000</td>\n",
       "      <td>0.000000</td>\n",
       "      <td>0.000000</td>\n",
       "      <td>0.000000</td>\n",
       "      <td>0.000000</td>\n",
       "      <td>0.000000</td>\n",
       "      <td>0.000000</td>\n",
       "      <td>0.000000</td>\n",
       "      <td>0.000000</td>\n",
       "    </tr>\n",
       "    <tr>\n",
       "      <th>50%</th>\n",
       "      <td>1.000000</td>\n",
       "      <td>0.000000</td>\n",
       "      <td>0.000000</td>\n",
       "      <td>0.000000</td>\n",
       "      <td>0.000000</td>\n",
       "      <td>0.000000</td>\n",
       "      <td>0.000000</td>\n",
       "      <td>0.000000</td>\n",
       "      <td>1.000000</td>\n",
       "      <td>0.000000</td>\n",
       "      <td>0.000000</td>\n",
       "      <td>0.000000</td>\n",
       "      <td>0.000000</td>\n",
       "      <td>0.000000</td>\n",
       "      <td>0.000000</td>\n",
       "      <td>0.000000</td>\n",
       "      <td>0.000000</td>\n",
       "      <td>0.000000</td>\n",
       "      <td>0.000000</td>\n",
       "      <td>0.000000</td>\n",
       "      <td>0.000000</td>\n",
       "      <td>0.000000</td>\n",
       "      <td>0.000000</td>\n",
       "      <td>0.0</td>\n",
       "      <td>0.000000</td>\n",
       "      <td>0.000000</td>\n",
       "      <td>0.000000</td>\n",
       "      <td>0.000000</td>\n",
       "      <td>0.000000</td>\n",
       "      <td>0.000000</td>\n",
       "      <td>0.000000</td>\n",
       "      <td>0.000000</td>\n",
       "      <td>0.000000</td>\n",
       "      <td>0.000000</td>\n",
       "      <td>1.000000</td>\n",
       "      <td>0.000000</td>\n",
       "      <td>0.000000</td>\n",
       "      <td>0.000000</td>\n",
       "      <td>0.000000</td>\n",
       "      <td>0.000000</td>\n",
       "      <td>0.000000</td>\n",
       "      <td>0.000000</td>\n",
       "      <td>0.000000</td>\n",
       "      <td>0.000000</td>\n",
       "      <td>0.000000</td>\n",
       "      <td>0.000000</td>\n",
       "      <td>0.000000</td>\n",
       "      <td>0.000000</td>\n",
       "      <td>0.000000</td>\n",
       "      <td>0.000000</td>\n",
       "      <td>0.000000</td>\n",
       "      <td>0.000000</td>\n",
       "      <td>0.000000</td>\n",
       "      <td>0.000000</td>\n",
       "      <td>0.000000</td>\n",
       "      <td>0.000000</td>\n",
       "      <td>0.000000</td>\n",
       "      <td>0.000000</td>\n",
       "      <td>0.000000</td>\n",
       "      <td>0.000000</td>\n",
       "      <td>0.000000</td>\n",
       "      <td>0.000000</td>\n",
       "      <td>0.000000</td>\n",
       "    </tr>\n",
       "    <tr>\n",
       "      <th>75%</th>\n",
       "      <td>1.000000</td>\n",
       "      <td>0.000000</td>\n",
       "      <td>0.000000</td>\n",
       "      <td>1.000000</td>\n",
       "      <td>0.000000</td>\n",
       "      <td>0.000000</td>\n",
       "      <td>1.000000</td>\n",
       "      <td>0.000000</td>\n",
       "      <td>1.000000</td>\n",
       "      <td>1.000000</td>\n",
       "      <td>0.000000</td>\n",
       "      <td>0.000000</td>\n",
       "      <td>0.000000</td>\n",
       "      <td>1.000000</td>\n",
       "      <td>0.500000</td>\n",
       "      <td>0.000000</td>\n",
       "      <td>0.000000</td>\n",
       "      <td>0.000000</td>\n",
       "      <td>1.000000</td>\n",
       "      <td>0.000000</td>\n",
       "      <td>0.000000</td>\n",
       "      <td>0.000000</td>\n",
       "      <td>1.000000</td>\n",
       "      <td>0.0</td>\n",
       "      <td>0.000000</td>\n",
       "      <td>0.000000</td>\n",
       "      <td>0.000000</td>\n",
       "      <td>0.000000</td>\n",
       "      <td>0.000000</td>\n",
       "      <td>0.000000</td>\n",
       "      <td>0.000000</td>\n",
       "      <td>0.000000</td>\n",
       "      <td>0.000000</td>\n",
       "      <td>0.500000</td>\n",
       "      <td>1.000000</td>\n",
       "      <td>0.000000</td>\n",
       "      <td>0.000000</td>\n",
       "      <td>0.000000</td>\n",
       "      <td>0.000000</td>\n",
       "      <td>1.000000</td>\n",
       "      <td>0.000000</td>\n",
       "      <td>0.000000</td>\n",
       "      <td>0.000000</td>\n",
       "      <td>1.000000</td>\n",
       "      <td>0.000000</td>\n",
       "      <td>1.000000</td>\n",
       "      <td>0.000000</td>\n",
       "      <td>0.000000</td>\n",
       "      <td>0.000000</td>\n",
       "      <td>0.000000</td>\n",
       "      <td>0.000000</td>\n",
       "      <td>0.000000</td>\n",
       "      <td>0.000000</td>\n",
       "      <td>0.000000</td>\n",
       "      <td>0.000000</td>\n",
       "      <td>0.000000</td>\n",
       "      <td>0.000000</td>\n",
       "      <td>0.000000</td>\n",
       "      <td>0.000000</td>\n",
       "      <td>0.000000</td>\n",
       "      <td>0.000000</td>\n",
       "      <td>0.000000</td>\n",
       "      <td>0.000000</td>\n",
       "    </tr>\n",
       "    <tr>\n",
       "      <th>max</th>\n",
       "      <td>2.000000</td>\n",
       "      <td>1.000000</td>\n",
       "      <td>1.000000</td>\n",
       "      <td>1.000000</td>\n",
       "      <td>1.000000</td>\n",
       "      <td>1.000000</td>\n",
       "      <td>1.000000</td>\n",
       "      <td>1.000000</td>\n",
       "      <td>1.000000</td>\n",
       "      <td>1.000000</td>\n",
       "      <td>1.000000</td>\n",
       "      <td>1.000000</td>\n",
       "      <td>1.000000</td>\n",
       "      <td>1.000000</td>\n",
       "      <td>1.000000</td>\n",
       "      <td>1.000000</td>\n",
       "      <td>1.000000</td>\n",
       "      <td>1.000000</td>\n",
       "      <td>1.000000</td>\n",
       "      <td>1.000000</td>\n",
       "      <td>1.000000</td>\n",
       "      <td>1.000000</td>\n",
       "      <td>1.000000</td>\n",
       "      <td>0.0</td>\n",
       "      <td>1.000000</td>\n",
       "      <td>1.000000</td>\n",
       "      <td>1.000000</td>\n",
       "      <td>1.000000</td>\n",
       "      <td>1.000000</td>\n",
       "      <td>1.000000</td>\n",
       "      <td>1.000000</td>\n",
       "      <td>1.000000</td>\n",
       "      <td>1.000000</td>\n",
       "      <td>1.000000</td>\n",
       "      <td>1.000000</td>\n",
       "      <td>1.000000</td>\n",
       "      <td>1.000000</td>\n",
       "      <td>1.000000</td>\n",
       "      <td>1.000000</td>\n",
       "      <td>1.000000</td>\n",
       "      <td>1.000000</td>\n",
       "      <td>1.000000</td>\n",
       "      <td>1.000000</td>\n",
       "      <td>1.000000</td>\n",
       "      <td>1.000000</td>\n",
       "      <td>1.000000</td>\n",
       "      <td>1.000000</td>\n",
       "      <td>1.000000</td>\n",
       "      <td>1.000000</td>\n",
       "      <td>1.000000</td>\n",
       "      <td>1.000000</td>\n",
       "      <td>1.000000</td>\n",
       "      <td>1.000000</td>\n",
       "      <td>1.000000</td>\n",
       "      <td>1.000000</td>\n",
       "      <td>1.000000</td>\n",
       "      <td>1.000000</td>\n",
       "      <td>1.000000</td>\n",
       "      <td>1.000000</td>\n",
       "      <td>1.000000</td>\n",
       "      <td>1.000000</td>\n",
       "      <td>1.000000</td>\n",
       "      <td>1.000000</td>\n",
       "    </tr>\n",
       "  </tbody>\n",
       "</table>\n",
       "</div>"
      ]
     },
     "metadata": {},
     "execution_count": 10
    }
   ],
   "metadata": {}
  },
  {
   "cell_type": "code",
   "execution_count": 11,
   "source": [
    "td.dtypes"
   ],
   "outputs": [
    {
     "output_type": "execute_result",
     "data": {
      "text/plain": [
       "conclusion                                             int64\n",
       "Prélèvement Anormal                                  float64\n",
       "Type 1 Hypertrophiques (grandes)                     float64\n",
       "Type 1 Atrophiées (petites)                          float64\n",
       "Type  1 Taille hétérogène                            float64\n",
       "                                                      ...   \n",
       "Activité Phospholipases Anormale                     float64\n",
       "Activité Phospholipases Anormale Localement          float64\n",
       "Coloration PAS Anormale (Surcharge)                  float64\n",
       "Coloration PAS Anormale Localement (Surcharge)       float64\n",
       "Coloration Soudan: Anormale (Surchage en Lipides)    float64\n",
       "Length: 63, dtype: object"
      ]
     },
     "metadata": {},
     "execution_count": 11
    }
   ],
   "metadata": {}
  },
  {
   "cell_type": "code",
   "execution_count": 12,
   "source": [
    "td.nunique()"
   ],
   "outputs": [
    {
     "output_type": "execute_result",
     "data": {
      "text/plain": [
       "conclusion                                           3\n",
       "Prélèvement Anormal                                  2\n",
       "Type 1 Hypertrophiques (grandes)                     2\n",
       "Type 1 Atrophiées (petites)                          2\n",
       "Type  1 Taille hétérogène                            2\n",
       "                                                    ..\n",
       "Activité Phospholipases Anormale                     2\n",
       "Activité Phospholipases Anormale Localement          2\n",
       "Coloration PAS Anormale (Surcharge)                  2\n",
       "Coloration PAS Anormale Localement (Surcharge)       2\n",
       "Coloration Soudan: Anormale (Surchage en Lipides)    2\n",
       "Length: 63, dtype: int64"
      ]
     },
     "metadata": {},
     "execution_count": 12
    }
   ],
   "metadata": {}
  },
  {
   "cell_type": "markdown",
   "source": [
    "### Assess Missingness in Columns"
   ],
   "metadata": {}
  },
  {
   "cell_type": "code",
   "execution_count": 13,
   "source": [
    "for i,c in enumerate(td.columns):\n",
    "    na_percent = np.sum(td[c].isnull())/len(td)*100\n",
    "    if na_percent > 0:\n",
    "        print(c,'\\t\\t% Missing(N/A) = ',np.sum(td[c].isnull())/len(td)*100)"
   ],
   "outputs": [],
   "metadata": {}
  },
  {
   "cell_type": "code",
   "execution_count": 14,
   "source": [
    "missing_count = td.isnull().sum()\n",
    "print(type(missing_count))\n",
    "#Plot a histogram of the missingness observed over all features in the dataset\n",
    "ax = missing_count.hist(bins=num_rows,figsize=(12,4))\n",
    "ax.set_xlabel(\"Missing Value Counts\")\n",
    "ax.set_ylabel(\"Frequency\")\n",
    "ax.set_title(\"Histogram of Missing Value Counts In Feature Set\")"
   ],
   "outputs": [
    {
     "output_type": "stream",
     "name": "stdout",
     "text": [
      "<class 'pandas.core.series.Series'>\n"
     ]
    },
    {
     "output_type": "execute_result",
     "data": {
      "text/plain": [
       "Text(0.5, 0, 'Missing Value Counts')"
      ]
     },
     "metadata": {},
     "execution_count": 14
    },
    {
     "output_type": "execute_result",
     "data": {
      "text/plain": [
       "Text(0, 0.5, 'Frequency')"
      ]
     },
     "metadata": {},
     "execution_count": 14
    },
    {
     "output_type": "execute_result",
     "data": {
      "text/plain": [
       "Text(0.5, 1.0, 'Histogram of Missing Value Counts In Feature Set')"
      ]
     },
     "metadata": {},
     "execution_count": 14
    },
    {
     "output_type": "display_data",
     "data": {
      "text/plain": [
       "<Figure size 864x288 with 1 Axes>"
      ],
      "image/png": "[encoded data removed]"
     },
     "metadata": {
      "needs_background": "light"
     }
    }
   ],
   "metadata": {}
  },
  {
   "cell_type": "markdown",
   "source": [
    "---\n",
    "# Data Cleaning"
   ],
   "metadata": {}
  },
  {
   "cell_type": "markdown",
   "source": [
    "### Remove instances (rows) with missing outcome values"
   ],
   "metadata": {}
  },
  {
   "cell_type": "code",
   "execution_count": 15,
   "source": [
    "print(\"Number of training instances in original dataset = \",num_rows)\n",
    "td = td.dropna(axis=0,how='any',subset=[outcomeLabel])\n",
    "print(\"Number of training instances after removing instances with missing endpoint = \",len(td))\n",
    "diff = num_rows-len(td)\n",
    "print(\"Number of instances removed = \", diff)\n",
    "num_rows = len(td) #reassign value (if changed)\n",
    "if diff > 0:\n",
    "    data_changed = True\n",
    "td.shape"
   ],
   "outputs": [
    {
     "output_type": "stream",
     "name": "stdout",
     "text": [
      "Number of training instances in original dataset =  63\n",
      "Number of training instances after removing instances with missing endpoint =  63\n",
      "Number of instances removed =  0\n"
     ]
    },
    {
     "output_type": "execute_result",
     "data": {
      "text/plain": [
       "(63, 63)"
      ]
     },
     "metadata": {},
     "execution_count": 15
    }
   ],
   "metadata": {}
  },
  {
   "cell_type": "code",
   "execution_count": 16,
   "source": [
    "#It's critical to reset the index after dropping rows to work with data frame later with pd.concat of separate columns\n",
    "td = td.reset_index(drop=True)\n",
    "td.shape\n",
    "#Ensure Class variable is cast as an int\n",
    "td[outcomeLabel] = td[outcomeLabel].astype(dtype='int64')\n",
    "td.info()"
   ],
   "outputs": [
    {
     "output_type": "execute_result",
     "data": {
      "text/plain": [
       "(63, 63)"
      ]
     },
     "metadata": {},
     "execution_count": 16
    },
    {
     "output_type": "stream",
     "name": "stdout",
     "text": [
      "<class 'pandas.core.frame.DataFrame'>\n",
      "RangeIndex: 63 entries, 0 to 62\n",
      "Data columns (total 63 columns):\n",
      " #   Column                                                Non-Null Count  Dtype  \n",
      "---  ------                                                --------------  -----  \n",
      " 0   conclusion                                            63 non-null     int64  \n",
      " 1   Prélèvement Anormal                                   63 non-null     float64\n",
      " 2   Type 1 Hypertrophiques (grandes)                      63 non-null     float64\n",
      " 3   Type 1 Atrophiées (petites)                           63 non-null     float64\n",
      " 4   Type  1 Taille hétérogène                             63 non-null     float64\n",
      " 5   Type 2 Hypertrophiques (grandes)                      63 non-null     float64\n",
      " 6   Type 2 Atrophiées (petites)                           63 non-null     float64\n",
      " 7   Type 2  Taille hétérogène                             63 non-null     float64\n",
      " 8   Taille Inégale                                        63 non-null     float64\n",
      " 9   Sans Topographie                                      63 non-null     float64\n",
      " 10  HETG: Anguleuse                                       63 non-null     float64\n",
      " 11  HETG: Bord arrondis                                   63 non-null     float64\n",
      " 12  HETG: Segmentation de fibre                           63 non-null     float64\n",
      " 13  Noyaux Centralisé                                     63 non-null     float64\n",
      " 14  Noyaux Internalisé                                    63 non-null     float64\n",
      " 15  Noyaux Sous-Sarcolemmique                             63 non-null     float64\n",
      " 16  Noyaux à Aspects Myotubulaire                         63 non-null     float64\n",
      " 17  Augmentation du Nombre de Noyaux                      63 non-null     float64\n",
      " 18  Matériel Fuscinophile: Amas/Aggrégat sombre           63 non-null     float64\n",
      " 19  Matériel Fuscinophile: Granuleux                      63 non-null     float64\n",
      " 20  Matériel Fuscinophile: Périphériques                  63 non-null     float64\n",
      " 21  Aspect violine (contour imprécis)                     63 non-null     float64\n",
      " 22  Bâtonnets - Rods                                      63 non-null     float64\n",
      " 23  Fuseau Neuromusculaire Anormal                        63 non-null     float64\n",
      " 24  Altérations Interstitielles                           63 non-null     float64\n",
      " 25  Augmentation Tissu Conjonctif                         63 non-null     float64\n",
      " 26  Augmentation Tissu Adipeux                            63 non-null     float64\n",
      " 27  Inflammation                                          63 non-null     float64\n",
      " 28  Augmentation du Collagène Endosymial                  63 non-null     float64\n",
      " 29  Signe de Nécrose                                      63 non-null     float64\n",
      " 30  Signe de Régénération                                 63 non-null     float64\n",
      " 31  Différenciation Anormale                              63 non-null     float64\n",
      " 32  Zone sans activité ATPase                             63 non-null     float64\n",
      " 33  Uniformité de Type                                    63 non-null     float64\n",
      " 34  Prédominance Fibre Type 1                             63 non-null     float64\n",
      " 35  Prédominance Fibre Type 2                             63 non-null     float64\n",
      " 36  Regroupement des Fibres                               63 non-null     float64\n",
      " 37  Fibres 1 Groupées                                     63 non-null     float64\n",
      " 38  Fibres 2 Groupées                                     63 non-null     float64\n",
      " 39  Activité ATPasique Anormale Localement (Zone Claire)  63 non-null     float64\n",
      " 40  Activité Oxy: En rayon de roue                        63 non-null     float64\n",
      " 41  Activité Oxy: Aspect targétoide                       63 non-null     float64\n",
      " 42  Activité Oxy: Alvéole Core-like                       63 non-null     float64\n",
      " 43  Désorganisation structurelle                          63 non-null     float64\n",
      " 44  Réseau Intermyofibrillaire Irrégulier                 63 non-null     float64\n",
      " 45  Activité Oxy: Zone Claire (pâle)                      63 non-null     float64\n",
      " 46  Activité Oxy: Centrale                                63 non-null     float64\n",
      " 47  Activité Oxy: Périphérique                            63 non-null     float64\n",
      " 48  Activité Oxy: Limites floues                          63 non-null     float64\n",
      " 49  Activité Oxy: Zone Inclusion Non Colorée              63 non-null     float64\n",
      " 50  Core                                                  63 non-null     float64\n",
      " 51  Core Périphériques                                    63 non-null     float64\n",
      " 52  Core Centraux Uniques                                 63 non-null     float64\n",
      " 53  Core à Limites Nettes                                 63 non-null     float64\n",
      " 54  Minicores                                             63 non-null     float64\n",
      " 55  Activité COX Anormale                                 63 non-null     float64\n",
      " 56  Activité COX Anormale Localement                      63 non-null     float64\n",
      " 57  Activité Phospholipases+AMP Anormale                  63 non-null     float64\n",
      " 58  Activité Phospholipases Anormale                      63 non-null     float64\n",
      " 59  Activité Phospholipases Anormale Localement           63 non-null     float64\n",
      " 60  Coloration PAS Anormale (Surcharge)                   63 non-null     float64\n",
      " 61  Coloration PAS Anormale Localement (Surcharge)        63 non-null     float64\n",
      " 62  Coloration Soudan: Anormale (Surchage en Lipides)     63 non-null     float64\n",
      "dtypes: float64(62), int64(1)\n",
      "memory usage: 31.1 KB\n"
     ]
    }
   ],
   "metadata": {
    "scrolled": true
   }
  },
  {
   "cell_type": "code",
   "execution_count": 17,
   "source": [
    "#Swap class labels (so 0 is majority class)(0's to 1's and 1's to 0's) \n",
    "#td[outcomeLabel]=td[outcomeLabel].replace(to_replace=0, value=2)\n",
    "#td[outcomeLabel]=td[outcomeLabel].replace(to_replace=1, value=0)\n",
    "#td[outcomeLabel]=td[outcomeLabel].replace(to_replace=2, value=1)"
   ],
   "outputs": [],
   "metadata": {}
  },
  {
   "cell_type": "code",
   "execution_count": 18,
   "source": [
    "#Confirm no missing values in outcome variable\n",
    "na_percent = np.sum(td[outcomeLabel].isnull())/len(td[outcomeLabel])*100\n",
    "if na_percent > 0:\n",
    "    print(c,'\\t\\t% Missing(N/A) = ',np.sum(td[outcomeLabel].isnull())/len(td)*100)\n",
    "else:\n",
    "    print('No missing values found in: '+ str(outcomeLabel))"
   ],
   "outputs": [
    {
     "output_type": "stream",
     "name": "stdout",
     "text": [
      "No missing values found in: conclusion\n"
     ]
    }
   ],
   "metadata": {}
  },
  {
   "cell_type": "markdown",
   "source": [
    "### Remove columns to be ignored in analysis"
   ],
   "metadata": {}
  },
  {
   "cell_type": "code",
   "execution_count": 19,
   "source": [
    "print(\"Number of columns in original dataset = \", num_cols)\n",
    "td = td.drop(ignore_columns, axis=1)\n",
    "print(\"Number of columns after removing ignored columns = \", len(td.columns))\n",
    "diff = num_cols-len(td.columns)\n",
    "print(\"Number of columns removed = \", diff)\n",
    "num_cols = len(td.columns)\n",
    "if diff > 0:\n",
    "    data_changed = True\n",
    "td.shape"
   ],
   "outputs": [
    {
     "output_type": "stream",
     "name": "stdout",
     "text": [
      "Number of columns in original dataset =  63\n",
      "Number of columns after removing ignored columns =  63\n",
      "Number of columns removed =  0\n"
     ]
    },
    {
     "output_type": "execute_result",
     "data": {
      "text/plain": [
       "(63, 63)"
      ]
     },
     "metadata": {},
     "execution_count": 19
    }
   ],
   "metadata": {}
  },
  {
   "cell_type": "markdown",
   "source": [
    "### Assess class imbalance (assuming discrete outcome)"
   ],
   "metadata": {}
  },
  {
   "cell_type": "code",
   "execution_count": 20,
   "source": [
    "print(\"Counts of each class\")\n",
    "print(td[outcomeLabel].value_counts())\n",
    "td[outcomeLabel].value_counts().plot(kind='bar')\n",
    "plt.ylabel('Count')\n",
    "plt.title('Class Counts (Checking for Imbalance)')\n",
    "td.shape"
   ],
   "outputs": [
    {
     "output_type": "stream",
     "name": "stdout",
     "text": [
      "Counts of each class\n",
      "0    28\n",
      "1    25\n",
      "2    10\n",
      "Name: conclusion, dtype: int64\n"
     ]
    },
    {
     "output_type": "execute_result",
     "data": {
      "text/plain": [
       "<AxesSubplot:>"
      ]
     },
     "metadata": {},
     "execution_count": 20
    },
    {
     "output_type": "execute_result",
     "data": {
      "text/plain": [
       "Text(0, 0.5, 'Count')"
      ]
     },
     "metadata": {},
     "execution_count": 20
    },
    {
     "output_type": "execute_result",
     "data": {
      "text/plain": [
       "Text(0.5, 1.0, 'Class Counts (Checking for Imbalance)')"
      ]
     },
     "metadata": {},
     "execution_count": 20
    },
    {
     "output_type": "execute_result",
     "data": {
      "text/plain": [
       "(63, 63)"
      ]
     },
     "metadata": {},
     "execution_count": 20
    },
    {
     "output_type": "display_data",
     "data": {
      "text/plain": [
       "<Figure size 432x288 with 1 Axes>"
      ],
      "image/png": "[encoded data removed]"
     },
     "metadata": {
      "needs_background": "light"
     }
    }
   ],
   "metadata": {}
  },
  {
   "cell_type": "markdown",
   "source": [
    "### Identify categorical variables in dataset"
   ],
   "metadata": {}
  },
  {
   "cell_type": "code",
   "execution_count": 21,
   "source": [
    "if autoDetectCategorical:\n",
    "    #Separate independent variables from the rest\n",
    "    if instLabel == None or instLabel == 'None':\n",
    "        x_data = td.drop([outcomeLabel], axis=1)\n",
    "    else:\n",
    "        x_data = td.drop([outcomeLabel,instLabel], axis=1)\n",
    "\n",
    "    categorical_variables = identifyCategoricalFeatures(x_data,categoricalCutoff)\n",
    "    #print(categorical_variables)\n",
    "    td.shape"
   ],
   "outputs": [
    {
     "output_type": "execute_result",
     "data": {
      "text/plain": [
       "(63, 63)"
      ]
     },
     "metadata": {},
     "execution_count": 21
    }
   ],
   "metadata": {}
  },
  {
   "cell_type": "markdown",
   "source": [
    "---\n",
    "# Example Code for other potential data cleaning/processing\n",
    "- Not applied in this example script, but available here as an example"
   ],
   "metadata": {}
  },
  {
   "cell_type": "markdown",
   "source": [
    "### Delete Rows/Instances with any missing values\n",
    "- An extreme alternative to imputation when missing values must be eliminated from the dataset prior to machine learning"
   ],
   "metadata": {}
  },
  {
   "cell_type": "code",
   "execution_count": 22,
   "source": [
    "#num_rows = td.shape[0]\n",
    "#print(\"Number of training instances in original dataset = \",num_rows)\n",
    "#td = td.dropna()\n",
    "#print(\"Number of training instances after removing instances with any missing values = \",td.shape[0])\n",
    "#diff = num_rows-td.shape[0]\n",
    "#if diff > 0:\n",
    "#    data_changed = True"
   ],
   "outputs": [],
   "metadata": {}
  },
  {
   "cell_type": "markdown",
   "source": [
    "### Delete Columns with any missing values\n",
    "- An extreme alternative to imputation when missing values must be eliminated from the dataset prior to machine learning"
   ],
   "metadata": {}
  },
  {
   "cell_type": "code",
   "execution_count": 23,
   "source": [
    "#num_cols = td.shape[1]\n",
    "#print(\"Number of training instances in original dataset = \",num_cols)\n",
    "#td = df.dropna(axis='columns')\n",
    "#print(\"Number of training instances after removing instances with any missing values = \",td.shape[1])\n",
    "#diff = num_cols-td.shape[1]\n",
    "#if diff > 0:\n",
    "#    data_changed = True"
   ],
   "outputs": [],
   "metadata": {}
  },
  {
   "cell_type": "markdown",
   "source": [
    "### One hot encoding of categorical variables\n",
    "- Ensures that categorical variables are not treated in an ordinal manner by ML algorithms\n",
    "- The code below is an example of how to convert a single column to one hot encoding, and is not meant to be run as is. "
   ],
   "metadata": {}
  },
  {
   "cell_type": "code",
   "execution_count": 24,
   "source": [
    "## Example below assumes a data frame 'df' with a column called 'B'\n",
    "#one_hot = pd.get_dummies(df['B'])\n",
    "#df = df.drop('B',axis = 1)\n",
    "#df = df.join(one_hot)"
   ],
   "outputs": [],
   "metadata": {}
  },
  {
   "cell_type": "markdown",
   "source": [
    "### Other possible cleaning steps:\n",
    "- encode text values as numerics\n",
    "- oversample or undersample to reduce class imbalance\n",
    "- drop additional rows based on assigned cutoffs, etc\n",
    "- cast variable types as nominal or ordinal\n",
    "- construct missingness features with MissingIndicator: https://scikit-learn.org/stable/modules/impute.html"
   ],
   "metadata": {}
  },
  {
   "cell_type": "code",
   "execution_count": 25,
   "source": [
    "#Saved for later, determines if imputation attempted.\n",
    "isMissingData = False\n",
    "if td.isnull().values.any():\n",
    "    isMissingData = True"
   ],
   "outputs": [],
   "metadata": {}
  },
  {
   "cell_type": "markdown",
   "source": [
    "## Save cleaned dataset if it has been modified"
   ],
   "metadata": {}
  },
  {
   "cell_type": "code",
   "execution_count": 26,
   "source": [
    "if data_changed:\n",
    "    print('Saving cleaned data.')\n",
    "    td.shape\n",
    "    data_name = data_name +'_clean'\n",
    "    td.to_csv(data_name+'.txt', index=None, sep='\\t')"
   ],
   "outputs": [],
   "metadata": {}
  },
  {
   "cell_type": "markdown",
   "source": [
    "---\n",
    "# Further Exploratory/Descriptive Analysis\n",
    "- Visualize feature correlations in data\n",
    "- Appropriate univariate analyses"
   ],
   "metadata": {}
  },
  {
   "cell_type": "markdown",
   "source": [
    "## Feature Correlations"
   ],
   "metadata": {}
  },
  {
   "cell_type": "code",
   "execution_count": 27,
   "source": [
    "if doCorrelation:\n",
    "    #Drop outcome column for correlation analysis\n",
    "    td_cor = td.drop([outcomeLabel], axis=1)\n",
    "    \n",
    "    #Compute correlation between the outcome and each feature , excluding NA/null values.\n",
    "    corrmat = td_cor.corr(method='pearson') \n",
    "    f, ax = plt.subplots(figsize = (40,20)) # Note: need large size\n",
    "    sns.heatmap(corrmat, vmax =1.0,square = True) # Set max value and square-shaped\n"
   ],
   "outputs": [
    {
     "output_type": "execute_result",
     "data": {
      "text/plain": [
       "<AxesSubplot:>"
      ]
     },
     "metadata": {},
     "execution_count": 27
    },
    {
     "output_type": "display_data",
     "data": {
      "text/plain": [
       "<Figure size 2880x1440 with 2 Axes>"
      ],
      "image/png": "[encoded data removed]"
     },
     "metadata": {
      "needs_background": "light"
     }
    }
   ],
   "metadata": {}
  },
  {
   "cell_type": "markdown",
   "source": [
    "## Univariate Analysis and Plots\n",
    "Below we have encoded a method to automatically select an appropriate plot and univariate association test between a single feature and the target outcome in the dataset."
   ],
   "metadata": {}
  },
  {
   "cell_type": "code",
   "execution_count": 28,
   "source": [
    "# Code to analyze the univariate relationship between the outcome and each feature\n",
    "def test_selector(featureName, outcomeLabel, td, categorical_variables):\n",
    "    p_val = 0\n",
    "    #Feature and Outcome are discrete/categorical/binary\n",
    "    if featureName in categorical_variables:  \n",
    "        #Calculate Contingency Table - Counts\n",
    "        table = pd.crosstab(td[featureName], td[outcomeLabel])\n",
    "        \n",
    "        #Univariate association test (Chi Square Test of Independence - Non-parametric)\n",
    "        c, p, dof, expected = scs.chi2_contingency(table)\n",
    "        p_val = p\n",
    "        \n",
    "    #Feature is continuous and Outcome is discrete/categorical/binary\n",
    "    else: \n",
    "        #Univariate association test (Mann-Whitney Test - Non-parametric)\n",
    "        c, p = scs.mannwhitneyu(x=td[featureName].loc[td[outcomeLabel] == 0],y=td[featureName].loc[td[outcomeLabel] == 1])\n",
    "        p_val = p\n",
    "        \n",
    "    return p_val"
   ],
   "outputs": [],
   "metadata": {}
  },
  {
   "cell_type": "code",
   "execution_count": 29,
   "source": [
    "# Function select appropriate visualizations to examine univariate relationships between each feature and outcome\n",
    "\n",
    "def graph_selector(featureName, outcomeLabel, td, categorical_variables):\n",
    "    #Feature and Outcome are discrete/categorical/binary\n",
    "    if featureName in categorical_variables:  \n",
    "        #Generate contingency table count bar plot. ------------------------------------------------------------------------\n",
    "        #Calculate Contingency Table - Counts\n",
    "        table = pd.crosstab(td[featureName], td[outcomeLabel])\n",
    "        geom_bar_data = pd.DataFrame(table)\n",
    "        mygraph = geom_bar_data.plot(kind='bar')\n",
    "        plt.ylabel('Count')\n",
    "        new_feature_name = featureName.replace(\" \",\"\") #Deal with the dataset specific characters causing problems in this dataset.\n",
    "        new_feature_name = new_feature_name.replace(\"*\",\"\") #Deal with the dataset specific characters causing problems in this dataset.\n",
    "        new_feature_name = new_feature_name.replace(\"/\",\"\") #Deal with the dataset specific characters causing problems in this dataset.\n",
    "        plt.savefig((wd_path+ua_folder+'/'+'UA_Barplot_' + str(new_feature_name)+'_'+outcomeLabel+'_'+data_name), bbox_inches = \"tight\",format='png')\n",
    "        plt.show()\n",
    "        \n",
    "    #Feature is continuous and Outcome is discrete/categorical/binary    \n",
    "    else: \n",
    "        #Generate boxplot-----------------------------------------------------------------------------------------------------\n",
    "        mygraph = td.boxplot(column=featureName,by=outcomeLabel)\n",
    "        plt.ylabel(featureName)\n",
    "        plt.title('')\n",
    "        new_feature_name = featureName.replace(\" \",\"\") #Deal with the dataset specific characters causing problems in this dataset.\n",
    "        new_feature_name = new_feature_name.replace(\"*\",\"\") #Deal with the dataset specific characters causing problems in this dataset.\n",
    "        new_feature_name = new_feature_name.replace(\"/\",\"\") #Deal with the dataset specific characters causing problems in this dataset.\n",
    "        plt.savefig((wd_path+ua_folder+'/'+'UA_Boxplot_' + str(new_feature_name)+'_'+outcomeLabel+'_'+data_name), bbox_inches = \"tight\",format='png')\n",
    "        plt.show()"
   ],
   "outputs": [],
   "metadata": {}
  },
  {
   "cell_type": "code",
   "execution_count": 30,
   "source": [
    "if doUA:\n",
    "    p_val_dict = {}\n",
    "    # run appropriate univariate association test for each independent variable\n",
    "    for each in td:\n",
    "        if each != outcomeLabel and each != instLabel: \n",
    "            p_val_dict[each] = test_selector(each, outcomeLabel, td, categorical_variables)\n",
    "    \n",
    "    num_features = td.shape[1] - 1\n",
    "    \n",
    "    sorted_p_list = sorted(p_val_dict.items(), key = lambda item:item[1])\n",
    "    \n",
    "    #Save all p-values to file\n",
    "    pval_df = pd.DataFrame.from_dict(p_val_dict, orient='index')\n",
    "    filepath = wd_path+ua_folder+'/'+'UA_Significance_'+data_name+'.csv'\n",
    "    pval_df.to_csv(filepath, header=['p-value'], index=True)  \n",
    "    \n",
    "    min_num = min(topResults,num_features)\n",
    "    sorted_p_list = sorted_p_list[: min_num]\n",
    "    print('Plotting top significant '+ str(min_num) + ' features.')\n",
    "    \n",
    "    # summarize significant values of selected number of features\n",
    "    print('###################################################')\n",
    "    print('Significant Univariate Associations:')\n",
    "    for each in sorted_p_list[:min_num]:\n",
    "        print(each[0]+\": (p-val = \"+str(each[1]) +\")\")\n",
    "\n",
    "    #generate appropriate descriptive plot for selected number of features\n",
    "    for i in sorted_p_list:\n",
    "        for j in td:\n",
    "            if j == i[0]:# if the feature name is within the selected feature list\n",
    "                graph_selector(j, outcomeLabel, td, categorical_variables) #plot appropriate figure for each feature"
   ],
   "outputs": [
    {
     "output_type": "stream",
     "name": "stdout",
     "text": [
      "Plotting top significant 20 features.\n",
      "###################################################\n",
      "Significant Univariate Associations:\n",
      "Bâtonnets - Rods: (p-val = 2.1299180143818299e-10)\n",
      "Matériel Fuscinophile: Amas/Aggrégat sombre: (p-val = 3.42571654859202e-07)\n",
      "Core Périphériques: (p-val = 0.0005936353695772547)\n",
      "Type 2 Hypertrophiques (grandes): (p-val = 0.004227364750079024)\n",
      "Noyaux Centralisé: (p-val = 0.00812120928090267)\n",
      "Sans Topographie: (p-val = 0.00847216750293609)\n",
      "Type 1 Hypertrophiques (grandes): (p-val = 0.011201958312146326)\n",
      "Activité Oxy: Zone Inclusion Non Colorée: (p-val = 0.016121746454913898)\n",
      "Activité Oxy: Alvéole Core-like: (p-val = 0.019680280943253303)\n",
      "Core à Limites Nettes: (p-val = 0.03356080026985728)\n",
      "Noyaux Sous-Sarcolemmique: (p-val = 0.03777907126222914)\n",
      "Activité Oxy: Limites floues: (p-val = 0.04018792589889347)\n",
      "Activité Oxy: Centrale: (p-val = 0.04606607171435404)\n",
      "Type 2 Atrophiées (petites): (p-val = 0.05230792358110617)\n",
      "Core Centraux Uniques: (p-val = 0.062416315500524136)\n",
      "Différenciation Anormale: (p-val = 0.06769506915394324)\n",
      "Core: (p-val = 0.0692874472592401)\n",
      "Minicores: (p-val = 0.0692874472592401)\n",
      "Type 1 Atrophiées (petites): (p-val = 0.08259963643320005)\n",
      "Taille Inégale: (p-val = 0.0833054438744443)\n"
     ]
    },
    {
     "output_type": "display_data",
     "data": {
      "text/plain": [
       "<Figure size 432x288 with 1 Axes>"
      ],
      "image/png": "[encoded data removed]"
     },
     "metadata": {
      "needs_background": "light"
     }
    },
    {
     "output_type": "display_data",
     "data": {
      "text/plain": [
       "<Figure size 432x288 with 1 Axes>"
      ],
      "image/png": "[encoded data removed]"
     },
     "metadata": {
      "needs_background": "light"
     }
    },
    {
     "output_type": "display_data",
     "data": {
      "text/plain": [
       "<Figure size 432x288 with 1 Axes>"
      ],
      "image/png": "[encoded data removed]"
     },
     "metadata": {
      "needs_background": "light"
     }
    },
    {
     "output_type": "display_data",
     "data": {
      "text/plain": [
       "<Figure size 432x288 with 1 Axes>"
      ],
      "image/png": "[encoded data removed]"
     },
     "metadata": {
      "needs_background": "light"
     }
    },
    {
     "output_type": "display_data",
     "data": {
      "text/plain": [
       "<Figure size 432x288 with 1 Axes>"
      ],
      "image/png": "[encoded data removed]"
     },
     "metadata": {
      "needs_background": "light"
     }
    },
    {
     "output_type": "display_data",
     "data": {
      "text/plain": [
       "<Figure size 432x288 with 1 Axes>"
      ],
      "image/png": "[encoded data removed]"
     },
     "metadata": {
      "needs_background": "light"
     }
    },
    {
     "output_type": "display_data",
     "data": {
      "text/plain": [
       "<Figure size 432x288 with 1 Axes>"
      ],
      "image/png": "[encoded data removed]"
     },
     "metadata": {
      "needs_background": "light"
     }
    },
    {
     "output_type": "display_data",
     "data": {
      "text/plain": [
       "<Figure size 432x288 with 1 Axes>"
      ],
      "image/png": "[encoded data removed]"
     },
     "metadata": {
      "needs_background": "light"
     }
    },
    {
     "output_type": "display_data",
     "data": {
      "text/plain": [
       "<Figure size 432x288 with 1 Axes>"
      ],
      "image/png": "[encoded data removed]"
     },
     "metadata": {
      "needs_background": "light"
     }
    },
    {
     "output_type": "display_data",
     "data": {
      "text/plain": [
       "<Figure size 432x288 with 1 Axes>"
      ],
      "image/png": "[encoded data removed]"
     },
     "metadata": {
      "needs_background": "light"
     }
    },
    {
     "output_type": "display_data",
     "data": {
      "text/plain": [
       "<Figure size 432x288 with 1 Axes>"
      ],
      "image/png": "[encoded data removed]"
     },
     "metadata": {
      "needs_background": "light"
     }
    },
    {
     "output_type": "display_data",
     "data": {
      "text/plain": [
       "<Figure size 432x288 with 1 Axes>"
      ],
      "image/png": "[encoded data removed]"
     },
     "metadata": {
      "needs_background": "light"
     }
    },
    {
     "output_type": "display_data",
     "data": {
      "text/plain": [
       "<Figure size 432x288 with 1 Axes>"
      ],
      "image/png": "[encoded data removed]"
     },
     "metadata": {
      "needs_background": "light"
     }
    },
    {
     "output_type": "display_data",
     "data": {
      "text/plain": [
       "<Figure size 432x288 with 1 Axes>"
      ],
      "image/png": "[encoded data removed]"
     },
     "metadata": {
      "needs_background": "light"
     }
    },
    {
     "output_type": "display_data",
     "data": {
      "text/plain": [
       "<Figure size 432x288 with 1 Axes>"
      ],
      "image/png": "[encoded data removed]"
     },
     "metadata": {
      "needs_background": "light"
     }
    },
    {
     "output_type": "display_data",
     "data": {
      "text/plain": [
       "<Figure size 432x288 with 1 Axes>"
      ],
      "image/png": "[encoded data removed]"
     },
     "metadata": {
      "needs_background": "light"
     }
    },
    {
     "output_type": "display_data",
     "data": {
      "text/plain": [
       "<Figure size 432x288 with 1 Axes>"
      ],
      "image/png": "[encoded data removed]"
     },
     "metadata": {
      "needs_background": "light"
     }
    },
    {
     "output_type": "display_data",
     "data": {
      "text/plain": [
       "<Figure size 432x288 with 1 Axes>"
      ],
      "image/png": "[encoded data removed]"
     },
     "metadata": {
      "needs_background": "light"
     }
    },
    {
     "output_type": "display_data",
     "data": {
      "text/plain": [
       "<Figure size 432x288 with 1 Axes>"
      ],
      "image/png": "[encoded data removed]"
     },
     "metadata": {
      "needs_background": "light"
     }
    },
    {
     "output_type": "display_data",
     "data": {
      "text/plain": [
       "<Figure size 432x288 with 1 Axes>"
      ],
      "image/png": "[encoded data removed]"
     },
     "metadata": {
      "needs_background": "light"
     }
    }
   ],
   "metadata": {}
  },
  {
   "cell_type": "markdown",
   "source": [
    "---\n",
    "# Create n-fold Cross Validation (CV) Datasets \n",
    "- i.e. Training and Testing Datasets"
   ],
   "metadata": {}
  },
  {
   "cell_type": "code",
   "execution_count": 31,
   "source": [
    "#Create a header list of independant feature names\n",
    "header = td.columns.values.tolist()\n",
    "header.remove(outcomeLabel)\n",
    "if instLabel != None and instLabel != 'None':\n",
    "    header.remove(instLabel)\n",
    "\n",
    "#Perform CV partitioning (get back list of training and testing partition dataframes)\n",
    "train_dfs, test_dfs = cv_partitioner(td, cv_partitions, partition_method, outcomeLabel, categoricalOutcome, matchName, randomSeed)\n",
    "\n",
    "if partition_method == 'M':\n",
    "    header.remove(matchName)"
   ],
   "outputs": [
    {
     "output_type": "stream",
     "name": "stdout",
     "text": [
      "Nominal Stratitifed Partitioning\n"
     ]
    }
   ],
   "metadata": {}
  },
  {
   "cell_type": "markdown",
   "source": [
    "---\n",
    "# Transform data - Standard Scaling\n",
    "- Features are independently scaled to allow them to be more comparable in downstream logistic regression modeling, etc\n",
    "- Scaling is learned on the training data and saved with pickel so that the same scaling may be applied to any future testing data\n",
    "- Completed within each training and testing partition independently"
   ],
   "metadata": {}
  },
  {
   "cell_type": "code",
   "execution_count": 32,
   "source": [
    "if scaleData:\n",
    "    print('Scaling Data')\n",
    "    data_name = data_name +'_scale'\n",
    "    name_path = wd_path+model_folder+'/'+'Scalar_' + data_name+'_'\n",
    "    train_dfs, test_dfs = dataScaling(train_dfs, test_dfs, outcomeLabel, instLabel, name_path, header)"
   ],
   "outputs": [],
   "metadata": {}
  },
  {
   "cell_type": "markdown",
   "source": [
    "---\n",
    "# Impute Missing Data Values\n",
    "- Missing data values in categorical features are imputed with simple 'mode' imputation\n",
    "- Remaining missing data values are imputed using Iterative Imputer (i.e. MICE) \n",
    "- Completed within each training and testing partition independently"
   ],
   "metadata": {}
  },
  {
   "cell_type": "code",
   "execution_count": 33,
   "source": [
    "if imputeData and isMissingData:\n",
    "    print('Imputing Data')\n",
    "    data_name = data_name + '_imp'\n",
    "    train_dfs, test_dfs = imputeCVData(outcomeLabel, instLabel, categorical_variables, header, train_dfs, test_dfs, randomSeed)"
   ],
   "outputs": [],
   "metadata": {}
  },
  {
   "cell_type": "markdown",
   "source": [
    "### Confirm Missing Data Imputation"
   ],
   "metadata": {}
  },
  {
   "cell_type": "code",
   "execution_count": 34,
   "source": [
    "print(\"Training Datasets\")\n",
    "for each in train_dfs:\n",
    "    each.isnull().sum().sum()\n",
    "\n",
    "print(\"Testing Datasets\")\n",
    "for each in test_dfs:\n",
    "    each.isnull().sum().sum()"
   ],
   "outputs": [
    {
     "output_type": "stream",
     "name": "stdout",
     "text": [
      "Training Datasets\n"
     ]
    },
    {
     "output_type": "execute_result",
     "data": {
      "text/plain": [
       "0"
      ]
     },
     "metadata": {},
     "execution_count": 34
    },
    {
     "output_type": "execute_result",
     "data": {
      "text/plain": [
       "0"
      ]
     },
     "metadata": {},
     "execution_count": 34
    },
    {
     "output_type": "execute_result",
     "data": {
      "text/plain": [
       "0"
      ]
     },
     "metadata": {},
     "execution_count": 34
    },
    {
     "output_type": "execute_result",
     "data": {
      "text/plain": [
       "0"
      ]
     },
     "metadata": {},
     "execution_count": 34
    },
    {
     "output_type": "execute_result",
     "data": {
      "text/plain": [
       "0"
      ]
     },
     "metadata": {},
     "execution_count": 34
    },
    {
     "output_type": "stream",
     "name": "stdout",
     "text": [
      "Testing Datasets\n"
     ]
    },
    {
     "output_type": "execute_result",
     "data": {
      "text/plain": [
       "0"
      ]
     },
     "metadata": {},
     "execution_count": 34
    },
    {
     "output_type": "execute_result",
     "data": {
      "text/plain": [
       "0"
      ]
     },
     "metadata": {},
     "execution_count": 34
    },
    {
     "output_type": "execute_result",
     "data": {
      "text/plain": [
       "0"
      ]
     },
     "metadata": {},
     "execution_count": 34
    },
    {
     "output_type": "execute_result",
     "data": {
      "text/plain": [
       "0"
      ]
     },
     "metadata": {},
     "execution_count": 34
    },
    {
     "output_type": "execute_result",
     "data": {
      "text/plain": [
       "0"
      ]
     },
     "metadata": {},
     "execution_count": 34
    }
   ],
   "metadata": {}
  },
  {
   "cell_type": "markdown",
   "source": [
    "## Save Training and Testing Datasets as .txt Files"
   ],
   "metadata": {}
  },
  {
   "cell_type": "code",
   "execution_count": 35,
   "source": [
    "data_name = data_name+'_CV_'+str(partition_method)\n",
    "\n",
    "counter = 0\n",
    "for each in train_dfs:\n",
    "    each.to_csv(cv_data_folder+'/'+data_name+'_'+str(counter)+'_Train.txt', index=None, sep='\\t')\n",
    "    counter += 1\n",
    "    \n",
    "counter = 0\n",
    "for each in test_dfs:\n",
    "    each.to_csv(cv_data_folder+'/'+data_name+'_'+str(counter)+'_Test.txt', index=None, sep='\\t')\n",
    "    counter += 1"
   ],
   "outputs": [],
   "metadata": {}
  },
  {
   "cell_type": "markdown",
   "source": [
    "---\n",
    "# Load, Check, and Prepare Saved CV Datasets for ML"
   ],
   "metadata": {}
  },
  {
   "cell_type": "markdown",
   "source": [
    "## Load CV Partition Datasets\n",
    "Re-loads training and testing datasets from saved .txt files"
   ],
   "metadata": {}
  },
  {
   "cell_type": "code",
   "execution_count": 36,
   "source": [
    "#create lists to hold training and testing set dataframes.\n",
    "trainList = []\n",
    "testList = []\n",
    "\n",
    "for i in range(cv_partitions):\n",
    "    #Load training partition\n",
    "    trainSet = pd.read_csv(cv_data_folder+'/'+data_name+'_'+str(i)+'_Train.txt', na_values='NA', sep = \"\\t\")\n",
    "    trainList.append(trainSet)\n",
    "    \n",
    "    #Load testing partition\n",
    "    testSet = pd.read_csv(cv_data_folder+'/'+data_name+'_'+str(i)+'_Test.txt', na_values='NA', sep = \"\\t\")\n",
    "    testList.append(testSet)\n",
    "    \n",
    "print('Number of Training Partitions: '+ str(len(trainList)))\n",
    "print('Number of Testing Partitions: '+ str(len(testList)))"
   ],
   "outputs": [
    {
     "output_type": "stream",
     "name": "stdout",
     "text": [
      "Number of Training Partitions: 5\n",
      "Number of Testing Partitions: 5\n"
     ]
    }
   ],
   "metadata": {}
  },
  {
   "cell_type": "markdown",
   "source": [
    "#### Quality Control Check (Checking one of the partitions)\n",
    "Merge the first training/testing datasets to confirm original dataset is reconstituted"
   ],
   "metadata": {}
  },
  {
   "cell_type": "code",
   "execution_count": 37,
   "source": [
    "#Confirm case/control counts when merging one training and testing dataset\n",
    "classesTrain = trainList[0].apply(lambda x: True if x[outcomeLabel] == 1 else False , axis=1)\n",
    "casesTrain = len(classesTrain[classesTrain == True].index)\n",
    "controlsTrain = len(classesTrain[classesTrain == False].index)\n",
    "\n",
    "classesTest = testList[0].apply(lambda x: True if x[outcomeLabel] == 1 else False , axis=1)\n",
    "casesTest = len(classesTest[classesTest == True].index)\n",
    "controlsTest = len(classesTest[classesTest == False].index)\n",
    "\n",
    "print(\"Number of Cases in Original Dataset: \"+str(casesTrain+casesTest))\n",
    "print(\"Number of Controls in Original Dataset: \"+str(controlsTrain+controlsTest))"
   ],
   "outputs": [
    {
     "output_type": "stream",
     "name": "stdout",
     "text": [
      "Number of Cases in Original Dataset: 25\n",
      "Number of Controls in Original Dataset: 38\n"
     ]
    }
   ],
   "metadata": {}
  },
  {
   "cell_type": "code",
   "execution_count": 38,
   "source": [
    "#Confirm training and testing set dimensions\n",
    "print(\"Training Set Dimensions: \" + str(trainList[0].shape))\n",
    "print(\"Testing Set Dimensions: \" + str(testList[0].shape))\n",
    "numColumns = trainList[0].shape[1]"
   ],
   "outputs": [
    {
     "output_type": "stream",
     "name": "stdout",
     "text": [
      "Training Set Dimensions: (50, 63)\n",
      "Testing Set Dimensions: (13, 63)\n"
     ]
    }
   ],
   "metadata": {}
  },
  {
   "cell_type": "markdown",
   "source": [
    "## Partition Data Preprocessing\n",
    "If present, remove instance id's from datasets prior to analysis. Also confirm that training and testing sets have same set of columns."
   ],
   "metadata": {}
  },
  {
   "cell_type": "code",
   "execution_count": 39,
   "source": [
    "# Drop Instance ID from all training and test sets\n",
    "if instLabel != None and instLabel != 'None':\n",
    "    for i in range(cv_partitions):\n",
    "        trainList[i] = trainList[i].drop([instLabel] , axis = 1)\n",
    "        testList[i] = testList[i].drop([instLabel] , axis = 1)"
   ],
   "outputs": [],
   "metadata": {}
  },
  {
   "cell_type": "code",
   "execution_count": 40,
   "source": [
    "trainColumnNames = list(trainList[0])\n",
    "testColumnNames = list(testList[0])\n",
    "\n",
    "if not trainColumnNames == testColumnNames:\n",
    "    print('Error: Training columns do not match testing columns!')\n",
    "\n",
    "# As we can see, instLabel is no longer a column name for any of the sets\n",
    "#print(trainColumnNames)\n",
    "#print(testColumnNames)\n",
    "\n",
    "#Create master list of feature names (excluding outcome column)\n",
    "ordered_feature_names = copy.deepcopy(trainColumnNames) #Stores original ordered feature list \n",
    "ordered_feature_names.remove(outcomeLabel)\n",
    "#ordered_feature_names"
   ],
   "outputs": [],
   "metadata": {
    "scrolled": true
   }
  },
  {
   "cell_type": "markdown",
   "source": [
    "## Format data for Scikit learn (separate features from outcome)"
   ],
   "metadata": {}
  },
  {
   "cell_type": "code",
   "execution_count": 41,
   "source": [
    "# Separate data into training and test features and outcomes\n",
    "xTrainList = []\n",
    "yTrainList = []\n",
    "xTestList = []\n",
    "yTestList = []\n",
    "\n",
    "for i in range(cv_partitions):\n",
    "    xTrainList.append(trainList[i].iloc[:, 1:].values)\n",
    "    yTrainList.append(trainList[i].iloc[:, 0].values)\n",
    " \n",
    "    xTestList.append(testList[i].iloc[:, 1:].values)\n",
    "    yTestList.append(testList[i].iloc[:, 0].values)"
   ],
   "outputs": [],
   "metadata": {}
  },
  {
   "cell_type": "markdown",
   "source": [
    "---\n",
    "# Feature Importance Evaluation\n",
    "- Completed independently within each training dataset"
   ],
   "metadata": {}
  },
  {
   "cell_type": "code",
   "execution_count": 42,
   "source": [
    "#Store indexes of 'interesting' features identified by each algorithm in algorithm labeled dictionary\n",
    "selectedFeatureLists = {}\n",
    "metaScoreDict = {}\n",
    "metaFeatureRanks = {}"
   ],
   "outputs": [],
   "metadata": {}
  },
  {
   "cell_type": "markdown",
   "source": [
    "## Mutual information"
   ],
   "metadata": {}
  },
  {
   "cell_type": "code",
   "execution_count": 43,
   "source": [
    "#Run Mutual Information for each CV------------------------------------------------------------------------------\n",
    "algorithm = 'mutual_information'\n",
    "if algorithm in algorithms:\n",
    "    start_time = time.time()\n",
    "    scoreSet = [] #Used to save excel filel with data-ordered scores for each CV partition\n",
    "    featureNameRanks = [] #list of feature name ranks for each CV partition\n",
    "    scoreDictSet = [] #list of feature/score dictionaries (one for each cv partition)\n",
    "    cvKeepList = [] #Used for initial feature selection attempt to keep only features with 'informative' support\n",
    "    \n",
    "    for i in tqdm_notebook(range(cv_partitions), desc='1st loop'):\n",
    "        #Run algorithm and return scores and sorted score dictionary\n",
    "        scores, scoreDict, score_sorted_features = run_mi(xTrainList[i],yTrainList[i], i, data_name, output_folder,randomSeed,ordered_feature_names,algorithm)\n",
    "        scoreSet.append(scores) #store data-ordered scores for this cv partition\n",
    "        scoreDictSet.append(scoreDict)\n",
    "        featureNameRanks.append(score_sorted_features)\n",
    "        \n",
    "        #Add list of feature names that meet the 'informative' cutoff\n",
    "        keepList = []\n",
    "        for each in scoreDict:\n",
    "            if scoreDict[each] > 0:\n",
    "                keepList.append(each)\n",
    "                #keepList.append(ordered_feature_names.index(each))\n",
    "        cvKeepList.append(keepList)\n",
    "        \n",
    "        #Create dictionary of average scores\n",
    "        if i == 0:\n",
    "            scoreSum = copy.deepcopy(scoreDict)\n",
    "        else:\n",
    "            for each in scoreDict:\n",
    "                scoreSum[each] += scoreDict[each]\n",
    "    \n",
    "    #Save/report analysis results\n",
    "    #cv_output_name = data_name+'_clean_imp_CV_'+partition_method\n",
    "    reportAllFS(scoreSet, algorithm, ordered_feature_names,output_folder,data_name) #Save CV scores file for algorithm\n",
    "    reportTopFS(scoreSum, algorithm, cv_partitions,topResults,wd_path,output_folder,data_name)\n",
    "    \n",
    "    #Store info for downstream feature selection\n",
    "    selectedFeatureLists[algorithm] = cvKeepList\n",
    "    metaScoreDict[algorithm] = scoreDictSet\n",
    "    metaFeatureRanks[algorithm] = featureNameRanks\n",
    "\n",
    "    elapsed_time = time.time() - start_time\n",
    "    print('Mutual Information Run Time: '+ str(elapsed_time))\n",
    "    run_time_dict[algorithm] = elapsed_time"
   ],
   "outputs": [
    {
     "output_type": "display_data",
     "data": {
      "text/plain": [
       "1st loop:   0%|          | 0/5 [00:00<?, ?it/s]"
      ],
      "application/vnd.jupyter.widget-view+json": {
       "version_major": 2,
       "version_minor": 0,
       "model_id": "84ce041a7a784498b4d2048d3a773f9a"
      }
     },
     "metadata": {}
    },
    {
     "output_type": "stream",
     "name": "stdout",
     "text": [
      "Mutual Information Run Time: 0.9249682426452637\n"
     ]
    },
    {
     "output_type": "display_data",
     "data": {
      "text/plain": [
       "<Figure size 432x864 with 1 Axes>"
      ],
      "image/png": "[encoded data removed]"
     },
     "metadata": {
      "needs_background": "light"
     }
    }
   ],
   "metadata": {}
  },
  {
   "cell_type": "markdown",
   "source": [
    "## MultiSURF"
   ],
   "metadata": {}
  },
  {
   "cell_type": "code",
   "execution_count": 44,
   "source": [
    "\n",
    "#Run MultiSURF for each CV------------------------------------------------------------------------------\n",
    "algorithm = 'multisurf'\n",
    "if algorithm in algorithms:\n",
    "    start_time = time.time()\n",
    "    featureNameRanks = [] ##ADD???\n",
    "    scoreSet = [] #Used to save excel filel with data-ordered scores for each CV partition\n",
    "    scoreDictSet = [] #list of feature/score dictionaries (one for each cv partition)\n",
    "    cvKeepList = [] #Used for initial feature selection attempt to keep only features with 'informative' support\n",
    "    \n",
    "    for i in tqdm_notebook(range(cv_partitions), desc='1st loop'):\n",
    "        #If training set is large MultiSURF will run very slowly - quadradic time complexity with # instances (so use subset)\n",
    "        tempData = pd.concat([pd.DataFrame(yTrainList[i]),pd.DataFrame(xTrainList[i])], axis=1, sort=False)\n",
    "        if len(tempData) < instanceSubset:\n",
    "            dataSample = tempData.sample(n=len(tempData), axis = 0)\n",
    "        else:\n",
    "            dataSample = tempData.sample(n=instanceSubset, axis = 0)\n",
    "\n",
    "        xTrain = dataSample.iloc[:, 1:].values\n",
    "        yTrain = dataSample.iloc[:, 0].values\n",
    "        #Run algorithm and return scores and sorted score dictionary\n",
    "        scores, scoreDict, score_sorted_features = run_multisurf(xTrain,yTrain, i, data_name, output_folder,randomSeed,ordered_feature_names,algorithm)\n",
    "        scoreSet.append(scores) #store data-ordered scores for this cv partition\n",
    "        scoreDictSet.append(scoreDict)\n",
    "        featureNameRanks.append(score_sorted_features)\n",
    "        \n",
    "        #Add list of feature names that meet the 'informative' cutoff\n",
    "        keepList = []\n",
    "        for each in scoreDict:\n",
    "            if scoreDict[each] > 0:\n",
    "                keepList.append(each)\n",
    "                #keepList.append(ordered_feature_names.index(each))\n",
    "        cvKeepList.append(keepList)\n",
    "        \n",
    "        #Create dictionary of average scores\n",
    "        if i == 0:\n",
    "            scoreSum = copy.deepcopy(scoreDict)\n",
    "        else:\n",
    "            for each in scoreDict:\n",
    "                scoreSum[each] += scoreDict[each]\n",
    "    \n",
    "    #Save/report analysis results\n",
    "    reportAllFS(scoreSet, algorithm, ordered_feature_names,output_folder,data_name) #Save CV scores file for algorithm\n",
    "    reportTopFS(scoreSum, algorithm, cv_partitions,topResults,wd_path,output_folder,data_name)\n",
    "    \n",
    "    #Store info for downstream feature selection\n",
    "    selectedFeatureLists[algorithm] = cvKeepList\n",
    "    metaScoreDict[algorithm] = scoreDictSet\n",
    "    metaFeatureRanks[algorithm] = featureNameRanks\n",
    "\n",
    "    elapsed_time = time.time() - start_time\n",
    "    print('MultiSURF Run Time: '+ str(elapsed_time))\n",
    "    run_time_dict[algorithm] = elapsed_time"
   ],
   "outputs": [
    {
     "output_type": "display_data",
     "data": {
      "text/plain": [
       "1st loop:   0%|          | 0/5 [00:00<?, ?it/s]"
      ],
      "application/vnd.jupyter.widget-view+json": {
       "version_major": 2,
       "version_minor": 0,
       "model_id": "30c535954b7d4641a09343dec97b59e9"
      }
     },
     "metadata": {}
    },
    {
     "output_type": "stream",
     "name": "stdout",
     "text": [
      "MultiSURF Run Time: 0.6174418926239014\n"
     ]
    },
    {
     "output_type": "display_data",
     "data": {
      "text/plain": [
       "<Figure size 432x864 with 1 Axes>"
      ],
      "image/png": "[encoded data removed]"
     },
     "metadata": {
      "needs_background": "light"
     }
    }
   ],
   "metadata": {}
  },
  {
   "cell_type": "markdown",
   "source": [
    "---\n",
    "# Feature Selection"
   ],
   "metadata": {}
  },
  {
   "cell_type": "markdown",
   "source": [
    "## Identify union of 'interesting' features from different algorithms\n",
    "- Operates no matter how many feature selection methods are being applied\n",
    "- But assumes that all methods have larger scores as being more informative"
   ],
   "metadata": {}
  },
  {
   "cell_type": "code",
   "execution_count": 45,
   "source": [
    "cv_Selected_List = selectFeatures(algorithms, cv_partitions, selectedFeatureLists, maxFeaturesToKeep,metaFeatureRanks)"
   ],
   "outputs": [],
   "metadata": {}
  },
  {
   "cell_type": "markdown",
   "source": [
    "### Report counts of 'interesting' features identified by each algorithm"
   ],
   "metadata": {}
  },
  {
   "cell_type": "code",
   "execution_count": 46,
   "source": [
    "print('Original feature count: '+str(len(ordered_feature_names)))\n",
    "\n",
    "for each in algorithms:\n",
    "    print(each)\n",
    "    for cv in selectedFeatureLists[each]:\n",
    "        print(len(cv))\n",
    "    \n",
    "print(\"Selected Counts\")\n",
    "for each in cv_Selected_List:\n",
    "    print(len(each))"
   ],
   "outputs": [
    {
     "output_type": "stream",
     "name": "stdout",
     "text": [
      "Original feature count: 62\n",
      "mutual_information\n",
      "35\n",
      "35\n",
      "34\n",
      "34\n",
      "33\n",
      "multisurf\n",
      "40\n",
      "44\n",
      "34\n",
      "41\n",
      "38\n",
      "Selected Counts\n",
      "51\n",
      "52\n",
      "42\n",
      "48\n",
      "49\n"
     ]
    }
   ],
   "metadata": {}
  },
  {
   "cell_type": "markdown",
   "source": [
    "## Generate Filtered Datasets (Save as new .txt files)\n",
    "- These datasets included only the selected features for each respective partition\n",
    "- Note that the feature order from the original datasets is no longer preserved in these datasets"
   ],
   "metadata": {}
  },
  {
   "cell_type": "code",
   "execution_count": 47,
   "source": [
    "if filterPoorFeatures:\n",
    "    genFilteredDatasets(cv_Selected_List, outcomeLabel, instLabel,cv_partitions,cv_data_folder,data_name)\n",
    "    data_name = data_name +'_FS'"
   ],
   "outputs": [],
   "metadata": {}
  },
  {
   "cell_type": "markdown",
   "source": [
    "## Generate Filtered MultiSURF Files (Save as new .txt files)"
   ],
   "metadata": {}
  },
  {
   "cell_type": "code",
   "execution_count": 48,
   "source": [
    "if 'multisurf' in algorithms: #This method is only meant for working with MultiSURF scores\n",
    "    if filterPoorFeatures:\n",
    "        for i in range(cv_partitions):\n",
    "            tempDict = scoreDictSet[i]\n",
    "\n",
    "            #create new dictionary with only selected features\n",
    "            scoreDict = {}\n",
    "            for j in cv_Selected_List[i]:\n",
    "                scoreDict[j] = tempDict[j]\n",
    "            \n",
    "            filename = output_folder+'/'+'multisurf'+'_'+data_name+'_'+str(i)+'_Train.txt'\n",
    "            sort_save_fs_fi_scores(scoreDict, 'multisurf', filename)"
   ],
   "outputs": [],
   "metadata": {}
  },
  {
   "cell_type": "markdown",
   "source": [
    "---\n",
    "# Load, Check, and Prepare Filtered CV Datasets for ML\n",
    "- If user opted not to filter datasets then the code below will simply reload the original CV datasets again."
   ],
   "metadata": {}
  },
  {
   "cell_type": "markdown",
   "source": [
    "## Load CV Partition Datasets (Filtered Datasets)"
   ],
   "metadata": {}
  },
  {
   "cell_type": "code",
   "execution_count": 49,
   "source": [
    "#create lists to hold training and testing set dataframes.\n",
    "trainList = []\n",
    "testList = []\n",
    "\n",
    "for i in range(cv_partitions):\n",
    "    #Load training partition\n",
    "    trainset_name = cv_data_folder+'/'+data_name+'_'+str(i)+'_Train.txt'\n",
    "    trainSet = pd.read_csv(trainset_name, na_values='NA', sep = \"\\t\")\n",
    "    trainList.append(trainSet)\n",
    "\n",
    "    #Load testing partition\n",
    "    testset_name = cv_data_folder+'/'+data_name+'_'+str(i)+'_Test.txt'\n",
    "    testSet = pd.read_csv(testset_name, na_values='NA', sep = \"\\t\")\n",
    "    testList.append(testSet)\n",
    "    \n",
    "print('Number of Training Partitions: '+ str(len(trainList)))\n",
    "print('Number of Testing Partitions: '+ str(len(testList)))"
   ],
   "outputs": [
    {
     "output_type": "stream",
     "name": "stdout",
     "text": [
      "Number of Training Partitions: 5\n",
      "Number of Testing Partitions: 5\n"
     ]
    }
   ],
   "metadata": {}
  },
  {
   "cell_type": "markdown",
   "source": [
    "## CV partition data cleaning (Filtered Datasets)"
   ],
   "metadata": {}
  },
  {
   "cell_type": "code",
   "execution_count": 50,
   "source": [
    "# Drop Instance ID from all training and test sets\n",
    "if instLabel != None and instLabel != 'None':\n",
    "    for i in range(cv_partitions):\n",
    "        trainList[i] = trainList[i].drop([instLabel] , axis = 1)\n",
    "        testList[i] = testList[i].drop([instLabel] , axis = 1)"
   ],
   "outputs": [],
   "metadata": {}
  },
  {
   "cell_type": "code",
   "execution_count": 51,
   "source": [
    "global_ordered_features = [] #Holds the new order of features in the FS CV datasets\n",
    "for i in range(cv_partitions):\n",
    "    cv_ordered_features = list(trainList[i])\n",
    "    cv_ordered_features.remove(outcomeLabel)\n",
    "    #print(cv_ordered_features)\n",
    "    global_ordered_features.append(cv_ordered_features)"
   ],
   "outputs": [],
   "metadata": {
    "scrolled": true
   }
  },
  {
   "cell_type": "markdown",
   "source": [
    "## Format data for Scikit learn (filtered datasets)"
   ],
   "metadata": {}
  },
  {
   "cell_type": "code",
   "execution_count": 52,
   "source": [
    "# Separate data into training and test features and outcomes\n",
    "xTrainList = []\n",
    "yTrainList = []\n",
    "xTestList = []\n",
    "yTestList = []\n",
    "\n",
    "for i in range(cv_partitions):\n",
    "    xTrainList.append(trainList[i].iloc[:, 1:].values)\n",
    "    yTrainList.append(trainList[i].iloc[:, 0].values)\n",
    " \n",
    "    xTestList.append(testList[i].iloc[:, 1:].values)\n",
    "    yTestList.append(testList[i].iloc[:, 0].values)\n"
   ],
   "outputs": [],
   "metadata": {}
  },
  {
   "cell_type": "markdown",
   "source": [
    "---\n",
    "# Machine Learning Modeling\n",
    "ML algorithms are run one after the other below. Within each we conduct a hyperparameter sweep, train a best model and evaluate it indendently within each CV training/testing partition. \n",
    "- All standard classification metrics are computed for the resulting models as well as an ROC curve and precision/recall curve"
   ],
   "metadata": {}
  },
  {
   "cell_type": "markdown",
   "source": [
    "## Run Logistic Regression"
   ],
   "metadata": {}
  },
  {
   "cell_type": "code",
   "execution_count": 54,
   "source": [
    "import importlib\n",
    "import modeling_methods\n",
    "from modeling_methods import classEval\n",
    "from modeling_methods import roc_plot_single\n",
    "from modeling_methods import save_performance\n",
    "from modeling_methods import save_FI\n",
    "from modeling_methods import eval_Algorithm_FI\n",
    "importlib.reload(modeling_methods)\n",
    "\n",
    "algorithm = 'logistic_regression'\n",
    "if algorithm in algorithmsToRun:\n",
    "    start_time = time.time()\n",
    "    algColor = algColors[algorithmsToRun.index(algorithm)]\n",
    "    mean_fpr, mean_tpr, mean_auc, mean_prec, mean_pr_auc, mean_ave_prec, FI_ave = eval_Algorithm_FI(algorithm,ordered_feature_names,\n",
    "        xTrainList,yTrainList,xTestList,yTestList,n_classes,cv_partitions,global_ordered_features,wd_path,output_folder,\n",
    "        data_name,randomSeed,param_grid,model_folder,algColor,hype_cv,n_trials,scoring_metric,timeout)\n",
    "    \n",
    "    result_dict = {'algorithm':algorithm,'fpr':mean_fpr, 'tpr':mean_tpr, 'auc':mean_auc, 'prec':mean_prec, 'pr_auc':mean_pr_auc, 'ave_prec':mean_ave_prec}\n",
    "    pickle.dump(result_dict, open(wd_path+model_folder+'/Results_'+algorithm+'.sav', 'wb'))\n",
    "\n",
    "    #Sort averages (decreasing order and print top 'n' and plot top 'n'\n",
    "    names_scores = {'Names':ordered_feature_names, 'Scores':FI_ave} \n",
    "    ns = pd.DataFrame(names_scores)\n",
    "    ns = ns.sort_values(by='Scores',ascending = False)\n",
    "\n",
    "    #Select top 'n' to report and plot\n",
    "    print(\"\\n---Feature Importances---\\n\")\n",
    "    ns.head(topResults)\n",
    "    \n",
    "    elapsed_time = time.time() - start_time\n",
    "    print('Logistic Regression Run Time: '+ str(elapsed_time))\n",
    "    run_time_dict[algorithm] = elapsed_time"
   ],
   "outputs": [
    {
     "output_type": "execute_result",
     "data": {
      "text/plain": [
       "<module 'modeling_methods' from '/home/corentin/scikit_ML_Pipeline_Binary_Notebook/modeling_methods.py'>"
      ]
     },
     "metadata": {},
     "execution_count": 54
    },
    {
     "output_type": "display_data",
     "data": {
      "text/plain": [
       "1st loop:   0%|          | 0/5 [00:00<?, ?it/s]"
      ],
      "application/vnd.jupyter.widget-view+json": {
       "version_major": 2,
       "version_minor": 0,
       "model_id": "558888f2842847f2befac37c28b66c62"
      }
     },
     "metadata": {}
    },
    {
     "output_type": "stream",
     "name": "stdout",
     "text": [
      "Running logistic_regression\n"
     ]
    },
    {
     "output_type": "error",
     "ename": "TypeError",
     "evalue": "run_LR_full() missing 1 required positional argument: 'data_name'",
     "traceback": [
      "\u001b[0;31m---------------------------------------------------------------------------\u001b[0m",
      "\u001b[0;31mTypeError\u001b[0m                                 Traceback (most recent call last)",
      "\u001b[0;32m<ipython-input-54-43476735a230>\u001b[0m in \u001b[0;36m<module>\u001b[0;34m\u001b[0m\n\u001b[1;32m     12\u001b[0m     \u001b[0mstart_time\u001b[0m \u001b[0;34m=\u001b[0m \u001b[0mtime\u001b[0m\u001b[0;34m.\u001b[0m\u001b[0mtime\u001b[0m\u001b[0;34m(\u001b[0m\u001b[0;34m)\u001b[0m\u001b[0;34m\u001b[0m\u001b[0;34m\u001b[0m\u001b[0m\n\u001b[1;32m     13\u001b[0m     \u001b[0malgColor\u001b[0m \u001b[0;34m=\u001b[0m \u001b[0malgColors\u001b[0m\u001b[0;34m[\u001b[0m\u001b[0malgorithmsToRun\u001b[0m\u001b[0;34m.\u001b[0m\u001b[0mindex\u001b[0m\u001b[0;34m(\u001b[0m\u001b[0malgorithm\u001b[0m\u001b[0;34m)\u001b[0m\u001b[0;34m]\u001b[0m\u001b[0;34m\u001b[0m\u001b[0;34m\u001b[0m\u001b[0m\n\u001b[0;32m---> 14\u001b[0;31m     mean_fpr, mean_tpr, mean_auc, mean_prec, mean_pr_auc, mean_ave_prec, FI_ave = eval_Algorithm_FI(algorithm,ordered_feature_names,\n\u001b[0m\u001b[1;32m     15\u001b[0m         \u001b[0mxTrainList\u001b[0m\u001b[0;34m,\u001b[0m\u001b[0myTrainList\u001b[0m\u001b[0;34m,\u001b[0m\u001b[0mxTestList\u001b[0m\u001b[0;34m,\u001b[0m\u001b[0myTestList\u001b[0m\u001b[0;34m,\u001b[0m\u001b[0mcv_partitions\u001b[0m\u001b[0;34m,\u001b[0m\u001b[0mglobal_ordered_features\u001b[0m\u001b[0;34m,\u001b[0m\u001b[0mwd_path\u001b[0m\u001b[0;34m,\u001b[0m\u001b[0moutput_folder\u001b[0m\u001b[0;34m,\u001b[0m\u001b[0;34m\u001b[0m\u001b[0;34m\u001b[0m\u001b[0m\n\u001b[1;32m     16\u001b[0m         data_name,randomSeed,param_grid,model_folder,algColor,hype_cv,n_trials,scoring_metric,timeout)\n",
      "\u001b[0;32m~/scikit_ML_Pipeline_Binary_Notebook/modeling_methods.py\u001b[0m in \u001b[0;36meval_Algorithm_FI\u001b[0;34m(algorithm, ordered_feature_names, xTrainList, yTrainList, xTestList, yTestList, cv_partitions, global_ordered_features, wd_path, output_folder, data_name, randSeed, param_grid, model_folder, algColor, hype_cv, n_trials, scoring_metric, timeout)\u001b[0m\n\u001b[1;32m    144\u001b[0m                 \u001b[0mprint\u001b[0m\u001b[0;34m(\u001b[0m\u001b[0;34m\"Running \"\u001b[0m\u001b[0;34m+\u001b[0m\u001b[0mstr\u001b[0m\u001b[0;34m(\u001b[0m\u001b[0malgorithm\u001b[0m\u001b[0;34m)\u001b[0m\u001b[0;34m)\u001b[0m\u001b[0;34m\u001b[0m\u001b[0;34m\u001b[0m\u001b[0m\n\u001b[1;32m    145\u001b[0m                 \u001b[0;32mif\u001b[0m \u001b[0malgorithm\u001b[0m \u001b[0;34m==\u001b[0m \u001b[0;34m'logistic_regression'\u001b[0m\u001b[0;34m:\u001b[0m\u001b[0;34m\u001b[0m\u001b[0;34m\u001b[0m\u001b[0m\n\u001b[0;32m--> 146\u001b[0;31m                         \u001b[0mmetricList\u001b[0m\u001b[0;34m,\u001b[0m \u001b[0mfpr\u001b[0m\u001b[0;34m,\u001b[0m \u001b[0mtpr\u001b[0m\u001b[0;34m,\u001b[0m \u001b[0mroc_auc\u001b[0m\u001b[0;34m,\u001b[0m \u001b[0mprec\u001b[0m\u001b[0;34m,\u001b[0m \u001b[0mrecall\u001b[0m\u001b[0;34m,\u001b[0m \u001b[0mprec_rec_auc\u001b[0m\u001b[0;34m,\u001b[0m \u001b[0mave_prec\u001b[0m\u001b[0;34m,\u001b[0m \u001b[0mfi\u001b[0m \u001b[0;34m=\u001b[0m \u001b[0mrun_LR_full\u001b[0m\u001b[0;34m(\u001b[0m\u001b[0mxTrainList\u001b[0m\u001b[0;34m[\u001b[0m\u001b[0mi\u001b[0m\u001b[0;34m]\u001b[0m\u001b[0;34m,\u001b[0m \u001b[0myTrainList\u001b[0m\u001b[0;34m[\u001b[0m\u001b[0mi\u001b[0m\u001b[0;34m]\u001b[0m\u001b[0;34m,\u001b[0m \u001b[0mxTestList\u001b[0m\u001b[0;34m[\u001b[0m\u001b[0mi\u001b[0m\u001b[0;34m]\u001b[0m\u001b[0;34m,\u001b[0m \u001b[0myTestList\u001b[0m\u001b[0;34m[\u001b[0m\u001b[0mi\u001b[0m\u001b[0;34m]\u001b[0m\u001b[0;34m,\u001b[0m\u001b[0mn_classes\u001b[0m\u001b[0;34m,\u001b[0m\u001b[0mrandSeed\u001b[0m\u001b[0;34m,\u001b[0m\u001b[0mi\u001b[0m\u001b[0;34m,\u001b[0m\u001b[0mparam_grid\u001b[0m\u001b[0;34m[\u001b[0m\u001b[0malgorithm\u001b[0m\u001b[0;34m]\u001b[0m\u001b[0;34m,\u001b[0m\u001b[0mname_path\u001b[0m\u001b[0;34m,\u001b[0m\u001b[0mhype_cv\u001b[0m\u001b[0;34m,\u001b[0m\u001b[0mn_trials\u001b[0m\u001b[0;34m,\u001b[0m\u001b[0mscoring_metric\u001b[0m\u001b[0;34m,\u001b[0m\u001b[0mtimeout\u001b[0m\u001b[0;34m,\u001b[0m\u001b[0mwd_path\u001b[0m\u001b[0;34m,\u001b[0m\u001b[0moutput_folder\u001b[0m\u001b[0;34m,\u001b[0m\u001b[0malgorithm\u001b[0m\u001b[0;34m,\u001b[0m\u001b[0mdata_name\u001b[0m\u001b[0;34m)\u001b[0m\u001b[0;34m\u001b[0m\u001b[0;34m\u001b[0m\u001b[0m\n\u001b[0m\u001b[1;32m    147\u001b[0m                 \u001b[0;32melif\u001b[0m \u001b[0malgorithm\u001b[0m \u001b[0;34m==\u001b[0m \u001b[0;34m'decision_tree'\u001b[0m\u001b[0;34m:\u001b[0m\u001b[0;34m\u001b[0m\u001b[0;34m\u001b[0m\u001b[0m\n\u001b[1;32m    148\u001b[0m                         \u001b[0mmetricList\u001b[0m\u001b[0;34m,\u001b[0m \u001b[0mfpr\u001b[0m\u001b[0;34m,\u001b[0m \u001b[0mtpr\u001b[0m\u001b[0;34m,\u001b[0m \u001b[0mroc_auc\u001b[0m\u001b[0;34m,\u001b[0m \u001b[0mprec\u001b[0m\u001b[0;34m,\u001b[0m \u001b[0mrecall\u001b[0m\u001b[0;34m,\u001b[0m \u001b[0mprec_rec_auc\u001b[0m\u001b[0;34m,\u001b[0m \u001b[0mave_prec\u001b[0m\u001b[0;34m,\u001b[0m \u001b[0mfi\u001b[0m \u001b[0;34m=\u001b[0m \u001b[0mrun_DT_full\u001b[0m\u001b[0;34m(\u001b[0m\u001b[0mxTrainList\u001b[0m\u001b[0;34m[\u001b[0m\u001b[0mi\u001b[0m\u001b[0;34m]\u001b[0m\u001b[0;34m,\u001b[0m \u001b[0myTrainList\u001b[0m\u001b[0;34m[\u001b[0m\u001b[0mi\u001b[0m\u001b[0;34m]\u001b[0m\u001b[0;34m,\u001b[0m \u001b[0mxTestList\u001b[0m\u001b[0;34m[\u001b[0m\u001b[0mi\u001b[0m\u001b[0;34m]\u001b[0m\u001b[0;34m,\u001b[0m \u001b[0myTestList\u001b[0m\u001b[0;34m[\u001b[0m\u001b[0mi\u001b[0m\u001b[0;34m]\u001b[0m\u001b[0;34m,\u001b[0m\u001b[0mrandSeed\u001b[0m\u001b[0;34m,\u001b[0m\u001b[0mi\u001b[0m\u001b[0;34m,\u001b[0m\u001b[0mparam_grid\u001b[0m\u001b[0;34m[\u001b[0m\u001b[0malgorithm\u001b[0m\u001b[0;34m]\u001b[0m\u001b[0;34m,\u001b[0m\u001b[0mname_path\u001b[0m\u001b[0;34m,\u001b[0m\u001b[0mhype_cv\u001b[0m\u001b[0;34m,\u001b[0m\u001b[0mn_trials\u001b[0m\u001b[0;34m,\u001b[0m\u001b[0mscoring_metric\u001b[0m\u001b[0;34m,\u001b[0m\u001b[0mtimeout\u001b[0m\u001b[0;34m,\u001b[0m\u001b[0mwd_path\u001b[0m\u001b[0;34m,\u001b[0m\u001b[0moutput_folder\u001b[0m\u001b[0;34m,\u001b[0m\u001b[0malgorithm\u001b[0m\u001b[0;34m,\u001b[0m\u001b[0mdata_name\u001b[0m\u001b[0;34m)\u001b[0m\u001b[0;34m\u001b[0m\u001b[0;34m\u001b[0m\u001b[0m\n",
      "\u001b[0;31mTypeError\u001b[0m: run_LR_full() missing 1 required positional argument: 'data_name'"
     ]
    }
   ],
   "metadata": {}
  },
  {
   "cell_type": "markdown",
   "source": [
    "## Run Decision Tree"
   ],
   "metadata": {}
  },
  {
   "cell_type": "code",
   "execution_count": null,
   "source": [
    "algorithm = 'decision_tree'\n",
    "if algorithm in algorithmsToRun:\n",
    "    start_time = time.time()\n",
    "    algColor = algColors[algorithmsToRun.index(algorithm)]\n",
    "    mean_fpr, mean_tpr, mean_auc, mean_prec, mean_pr_auc, mean_ave_prec, FI_ave = eval_Algorithm_FI(algorithm,ordered_feature_names,\n",
    "        xTrainList,yTrainList,xTestList,yTestList,cv_partitions,global_ordered_features,wd_path,output_folder,\n",
    "        data_name,randomSeed,param_grid,model_folder,algColor,hype_cv,n_trials,scoring_metric,timeout)\n",
    "    \n",
    "    result_dict = {'algorithm':algorithm,'fpr':mean_fpr, 'tpr':mean_tpr, 'auc':mean_auc, 'prec':mean_prec, 'pr_auc':mean_pr_auc, 'ave_prec':mean_ave_prec}\n",
    "    pickle.dump(result_dict, open(wd_path+model_folder+'/Results_'+algorithm+'.sav', 'wb'))\n",
    "    \n",
    "    #Sort averages (decreasing order and print top 'n' and plot top 'n'\n",
    "    names_scores = {'Names':ordered_feature_names, 'Scores':FI_ave} \n",
    "    ns = pd.DataFrame(names_scores)\n",
    "    ns = ns.sort_values(by='Scores',ascending = False)\n",
    "\n",
    "    #Select top 'n' to report and plot\n",
    "    print(\"\\n---Feature Importances---\\n\")\n",
    "    ns.head(topResults)\n",
    "    \n",
    "    elapsed_time = time.time() - start_time\n",
    "    print('Decision Tree Run Time: '+ str(elapsed_time))\n",
    "    run_time_dict[algorithm] = elapsed_time"
   ],
   "outputs": [],
   "metadata": {}
  },
  {
   "cell_type": "markdown",
   "source": [
    "## Run Random Forest"
   ],
   "metadata": {}
  },
  {
   "cell_type": "code",
   "execution_count": null,
   "source": [
    "algorithm = 'random_forest'\n",
    "if algorithm in algorithmsToRun:\n",
    "    start_time = time.time()\n",
    "    algColor = algColors[algorithmsToRun.index(algorithm)]\n",
    "    mean_fpr, mean_tpr, mean_auc, mean_prec, mean_pr_auc, mean_ave_prec, FI_ave = eval_Algorithm_FI(algorithm,ordered_feature_names,\n",
    "        xTrainList,yTrainList,xTestList,yTestList,cv_partitions,global_ordered_features,wd_path,output_folder,\n",
    "        data_name,randomSeed,param_grid,model_folder,algColor,hype_cv,n_trials,scoring_metric,timeout)\n",
    "    \n",
    "    result_dict = {'algorithm':algorithm,'fpr':mean_fpr, 'tpr':mean_tpr, 'auc':mean_auc, 'prec':mean_prec, 'pr_auc':mean_pr_auc, 'ave_prec':mean_ave_prec}\n",
    "    pickle.dump(result_dict, open(wd_path+model_folder+'/Results_'+algorithm+'.sav', 'wb'))\n",
    "\n",
    "    #Sort averages (decreasing order and print top 'n' and plot top 'n'\n",
    "    names_scores = {'Names':ordered_feature_names, 'Scores':FI_ave} \n",
    "    ns = pd.DataFrame(names_scores)\n",
    "    ns = ns.sort_values(by='Scores',ascending = False)\n",
    "\n",
    "    #Select top 'n' to report and plot\n",
    "    print(\"\\n---Feature Importances---\\n\")\n",
    "    ns.head(topResults)\n",
    "    \n",
    "    elapsed_time = time.time() - start_time\n",
    "    print('Random Forest Run Time: '+ str(elapsed_time))\n",
    "    run_time_dict[algorithm] = elapsed_time"
   ],
   "outputs": [],
   "metadata": {}
  },
  {
   "cell_type": "markdown",
   "source": [
    "## Run Naive Bayes"
   ],
   "metadata": {}
  },
  {
   "cell_type": "code",
   "execution_count": null,
   "source": [
    "algorithm = 'naive_bayes'\n",
    "if algorithm in algorithmsToRun:\n",
    "    start_time = time.time()\n",
    "    algColor = algColors[algorithmsToRun.index(algorithm)]\n",
    "    mean_fpr, mean_tpr, mean_auc, mean_prec, mean_pr_auc, mean_ave_prec, FI_ave = eval_Algorithm_FI(algorithm,ordered_feature_names,\n",
    "        xTrainList,yTrainList,xTestList,yTestList,cv_partitions,global_ordered_features,wd_path,output_folder,\n",
    "        data_name,randomSeed,param_grid,model_folder,algColor,hype_cv,n_trials,scoring_metric,timeout)\n",
    "    \n",
    "    result_dict = {'algorithm':algorithm,'fpr':mean_fpr, 'tpr':mean_tpr, 'auc':mean_auc, 'prec':mean_prec, 'pr_auc':mean_pr_auc, 'ave_prec':mean_ave_prec}\n",
    "    pickle.dump(result_dict, open(wd_path+model_folder+'/Results_'+algorithm+'.sav', 'wb'))\n",
    "        \n",
    "    #Sort averages (decreasing order and print top 'n' and plot top 'n'\n",
    "    names_scores = {'Names':ordered_feature_names, 'Scores':FI_ave} \n",
    "    ns = pd.DataFrame(names_scores)\n",
    "    ns = ns.sort_values(by='Scores',ascending = False)\n",
    "\n",
    "    #Select top 'n' to report and plot\n",
    "    print(\"\\n---Feature Importances---\\n\")\n",
    "    ns.head(topResults)\n",
    "    \n",
    "    elapsed_time = time.time() - start_time\n",
    "    print('Naive Bayes Run Time: '+ str(elapsed_time))\n",
    "    run_time_dict[algorithm] = elapsed_time"
   ],
   "outputs": [],
   "metadata": {}
  },
  {
   "cell_type": "markdown",
   "source": [
    "## Run XGBoost"
   ],
   "metadata": {}
  },
  {
   "cell_type": "code",
   "execution_count": null,
   "source": [
    "algorithm = 'XGB'\n",
    "if algorithm in algorithmsToRun:\n",
    "    start_time = time.time()\n",
    "    algColor = algColors[algorithmsToRun.index(algorithm)]\n",
    "    mean_fpr, mean_tpr, mean_auc, mean_prec, mean_pr_auc, mean_ave_prec, FI_ave = eval_Algorithm_FI(algorithm,ordered_feature_names,\n",
    "        xTrainList,yTrainList,xTestList,yTestList,cv_partitions,global_ordered_features,wd_path,output_folder,\n",
    "        data_name,randomSeed,param_grid,model_folder,algColor,hype_cv,n_trials,scoring_metric,timeout)\n",
    "    \n",
    "    result_dict = {'algorithm':algorithm,'fpr':mean_fpr, 'tpr':mean_tpr, 'auc':mean_auc, 'prec':mean_prec, 'pr_auc':mean_pr_auc, 'ave_prec':mean_ave_prec}\n",
    "    pickle.dump(result_dict, open(wd_path+model_folder+'/Results_'+algorithm+'.sav', 'wb'))\n",
    "\n",
    "    #Sort averages (decreasing order and print top 'n' and plot top 'n'\n",
    "    names_scores = {'Names':ordered_feature_names, 'Scores':FI_ave} \n",
    "    ns = pd.DataFrame(names_scores)\n",
    "    ns = ns.sort_values(by='Scores',ascending = False)\n",
    "\n",
    "    #Select top 'n' to report and plot\n",
    "    print(\"\\n---Feature Importances---\\n\")\n",
    "    ns.head(topResults)\n",
    "    \n",
    "    elapsed_time = time.time() - start_time\n",
    "    print('XGBoost Run Time: '+ str(elapsed_time))\n",
    "    run_time_dict[algorithm] = elapsed_time"
   ],
   "outputs": [],
   "metadata": {}
  },
  {
   "cell_type": "markdown",
   "source": [
    "## Run LGBoost"
   ],
   "metadata": {}
  },
  {
   "cell_type": "code",
   "execution_count": null,
   "source": [
    "algorithm = 'LGB'\n",
    "if algorithm in algorithmsToRun:\n",
    "    start_time = time.time()\n",
    "    algColor = algColors[algorithmsToRun.index(algorithm)]\n",
    "    mean_fpr, mean_tpr, mean_auc, mean_prec, mean_pr_auc, mean_ave_prec, FI_ave = eval_Algorithm_FI(algorithm,ordered_feature_names,\n",
    "        xTrainList,yTrainList,xTestList,yTestList,cv_partitions,global_ordered_features,wd_path,output_folder,\n",
    "        data_name,randomSeed,param_grid,model_folder,algColor,hype_cv,n_trials,scoring_metric,timeout)\n",
    "    \n",
    "    result_dict = {'algorithm':algorithm,'fpr':mean_fpr, 'tpr':mean_tpr, 'auc':mean_auc, 'prec':mean_prec, 'pr_auc':mean_pr_auc, 'ave_prec':mean_ave_prec}\n",
    "    pickle.dump(result_dict, open(wd_path+model_folder+'/Results_'+algorithm+'.sav', 'wb'))\n",
    "\n",
    "    #Sort averages (decreasing order and print top 'n' and plot top 'n'\n",
    "    names_scores = {'Names':ordered_feature_names, 'Scores':FI_ave} \n",
    "    ns = pd.DataFrame(names_scores)\n",
    "    ns = ns.sort_values(by='Scores',ascending = False)\n",
    "\n",
    "    #Select top 'n' to report and plot\n",
    "    print(\"\\n---Feature Importances---\\n\")\n",
    "    ns.head(topResults)\n",
    "        \n",
    "    elapsed_time = time.time() - start_time\n",
    "    print('LGBoost Run Time: '+ str(elapsed_time))\n",
    "    run_time_dict[algorithm] = elapsed_time"
   ],
   "outputs": [],
   "metadata": {}
  },
  {
   "cell_type": "markdown",
   "source": [
    "## Run SVM"
   ],
   "metadata": {}
  },
  {
   "cell_type": "code",
   "execution_count": null,
   "source": [
    "algorithm = 'SVM'\n",
    "if algorithm in algorithmsToRun:\n",
    "    start_time = time.time()\n",
    "    algColor = algColors[algorithmsToRun.index(algorithm)]\n",
    "    mean_fpr, mean_tpr, mean_auc, mean_prec, mean_pr_auc, mean_ave_prec, FI_ave = eval_Algorithm_FI(algorithm,ordered_feature_names,\n",
    "        xTrainList,yTrainList,xTestList,yTestList,cv_partitions,global_ordered_features,wd_path,output_folder,\n",
    "        data_name,randomSeed,param_grid,model_folder,algColor,hype_cv,n_trials,scoring_metric,timeout)\n",
    "    \n",
    "    result_dict = {'algorithm':algorithm,'fpr':mean_fpr, 'tpr':mean_tpr, 'auc':mean_auc, 'prec':mean_prec, 'pr_auc':mean_pr_auc, 'ave_prec':mean_ave_prec}\n",
    "    pickle.dump(result_dict, open(wd_path+model_folder+'/Results_'+algorithm+'.sav', 'wb'))\n",
    "\n",
    "    #Sort averages (decreasing order and print top 'n' and plot top 'n'\n",
    "    names_scores = {'Names':ordered_feature_names, 'Scores':FI_ave} \n",
    "    ns = pd.DataFrame(names_scores)\n",
    "    ns = ns.sort_values(by='Scores',ascending = False)\n",
    "\n",
    "    #Select top 'n' to report and plot\n",
    "    print(\"\\n---Feature Importances---\\n\")\n",
    "    ns.head(topResults)\n",
    "    \n",
    "    elapsed_time = time.time() - start_time\n",
    "    print('SVM Run Time: '+ str(elapsed_time))\n",
    "    run_time_dict[algorithm] = elapsed_time"
   ],
   "outputs": [],
   "metadata": {}
  },
  {
   "cell_type": "markdown",
   "source": [
    "## Run ANN"
   ],
   "metadata": {}
  },
  {
   "cell_type": "code",
   "execution_count": null,
   "source": [
    "algorithm = 'ANN'\n",
    "if algorithm in algorithmsToRun:\n",
    "    start_time = time.time()\n",
    "    algColor = algColors[algorithmsToRun.index(algorithm)]\n",
    "    mean_fpr, mean_tpr, mean_auc, mean_prec, mean_pr_auc, mean_ave_prec, FI_ave = eval_Algorithm_FI(algorithm,ordered_feature_names,\n",
    "        xTrainList,yTrainList,xTestList,yTestList,cv_partitions,global_ordered_features,wd_path,output_folder,\n",
    "        data_name,randomSeed,param_grid,model_folder,algColor,hype_cv,n_trials,scoring_metric,timeout)\n",
    "    \n",
    "    result_dict = {'algorithm':algorithm,'fpr':mean_fpr, 'tpr':mean_tpr, 'auc':mean_auc, 'prec':mean_prec, 'pr_auc':mean_pr_auc, 'ave_prec':mean_ave_prec}\n",
    "    pickle.dump(result_dict, open(wd_path+model_folder+'/Results_'+algorithm+'.sav', 'wb'))\n",
    "\n",
    "    #Sort averages (decreasing order and print top 'n' and plot top 'n'\n",
    "    names_scores = {'Names':ordered_feature_names, 'Scores':FI_ave} \n",
    "    ns = pd.DataFrame(names_scores)\n",
    "    ns = ns.sort_values(by='Scores',ascending = False)\n",
    "\n",
    "    #Select top 'n' to report and plot\n",
    "    print(\"\\n---Feature Importances---\\n\")\n",
    "    ns.head(topResults)\n",
    "\n",
    "    elapsed_time = time.time() - start_time\n",
    "    print('ANN Run Time: '+ str(elapsed_time))\n",
    "    run_time_dict[algorithm] = elapsed_time"
   ],
   "outputs": [],
   "metadata": {}
  },
  {
   "cell_type": "markdown",
   "source": [
    "## Run eLCS"
   ],
   "metadata": {}
  },
  {
   "cell_type": "code",
   "execution_count": null,
   "source": [
    "algorithm = 'eLCS'\n",
    "if algorithm in algorithmsToRun:\n",
    "    start_time = time.time()\n",
    "    algColor = algColors[algorithmsToRun.index(algorithm)]\n",
    "    mean_fpr, mean_tpr, mean_auc, mean_prec, mean_pr_auc, mean_ave_prec, FI_ave = eval_Algorithm_FI(algorithm,ordered_feature_names,\n",
    "        xTrainList,yTrainList,xTestList,yTestList,cv_partitions,global_ordered_features,wd_path,output_folder,\n",
    "        data_name,randomSeed,param_grid,model_folder,algColor,hype_cv,n_trials,scoring_metric,lcs_timeout)\n",
    "    \n",
    "    result_dict = {'algorithm':algorithm,'fpr':mean_fpr, 'tpr':mean_tpr, 'auc':mean_auc, 'prec':mean_prec, 'pr_auc':mean_pr_auc, 'ave_prec':mean_ave_prec}\n",
    "    pickle.dump(result_dict, open(wd_path+model_folder+'/Results_'+algorithm+'.sav', 'wb'))\n",
    "\n",
    "    #Sort averages (decreasing order and print top 'n' and plot top 'n'\n",
    "    names_scores = {'Names':ordered_feature_names, 'Scores':FI_ave} \n",
    "    ns = pd.DataFrame(names_scores)\n",
    "    ns = ns.sort_values(by='Scores',ascending = False)\n",
    "\n",
    "    #Select top 'n' to report and plot\n",
    "    print(\"\\n---Feature Importances---\\n\")\n",
    "    ns.head(topResults)\n",
    "\n",
    "    elapsed_time = time.time() - start_time\n",
    "    print('eLCS Run Time: '+ str(elapsed_time))\n",
    "    run_time_dict[algorithm] = elapsed_time"
   ],
   "outputs": [],
   "metadata": {
    "scrolled": false
   }
  },
  {
   "cell_type": "markdown",
   "source": [
    "## Run XCS"
   ],
   "metadata": {}
  },
  {
   "cell_type": "code",
   "execution_count": null,
   "source": [
    "algorithm = 'XCS'\n",
    "if algorithm in algorithmsToRun:\n",
    "    start_time = time.time()\n",
    "    algColor = algColors[algorithmsToRun.index(algorithm)]\n",
    "    mean_fpr, mean_tpr, mean_auc, mean_prec, mean_pr_auc, mean_ave_prec, FI_ave = eval_Algorithm_FI(algorithm,ordered_feature_names,\n",
    "        xTrainList,yTrainList,xTestList,yTestList,cv_partitions,global_ordered_features,wd_path,output_folder,\n",
    "        data_name,randomSeed,param_grid,model_folder,algColor,hype_cv,n_trials,scoring_metric,lcs_timeout)\n",
    "    \n",
    "    result_dict = {'algorithm':algorithm,'fpr':mean_fpr, 'tpr':mean_tpr, 'auc':mean_auc, 'prec':mean_prec, 'pr_auc':mean_pr_auc, 'ave_prec':mean_ave_prec}\n",
    "    pickle.dump(result_dict, open(wd_path+model_folder+'/Results_'+algorithm+'.sav', 'wb'))\n",
    "\n",
    "    #Sort averages (decreasing order and print top 'n' and plot top 'n'\n",
    "    names_scores = {'Names':ordered_feature_names, 'Scores':FI_ave} \n",
    "    ns = pd.DataFrame(names_scores)\n",
    "    ns = ns.sort_values(by='Scores',ascending = False)\n",
    "\n",
    "    #Select top 'n' to report and plot\n",
    "    print(\"\\n---Feature Importances---\\n\")\n",
    "    ns.head(topResults)\n",
    "\n",
    "    elapsed_time = time.time() - start_time\n",
    "    print('XCS Run Time: '+ str(elapsed_time))\n",
    "    run_time_dict[algorithm] = elapsed_time"
   ],
   "outputs": [],
   "metadata": {}
  },
  {
   "cell_type": "markdown",
   "source": [
    "## Run ExSTraCS 2.0"
   ],
   "metadata": {}
  },
  {
   "cell_type": "code",
   "execution_count": null,
   "source": [
    "algorithm = 'ExSTraCS'\n",
    "if algorithm in algorithmsToRun:\n",
    "    start_time = time.time()\n",
    "    algColor = algColors[algorithmsToRun.index(algorithm)]\n",
    "    mean_fpr, mean_tpr, mean_auc, mean_prec, mean_pr_auc, mean_ave_prec, FI_ave = eval_Algorithm_FI(algorithm,ordered_feature_names,\n",
    "        xTrainList,yTrainList,xTestList,yTestList,cv_partitions,global_ordered_features,wd_path,output_folder,\n",
    "        data_name,randomSeed,param_grid,model_folder,algColor,hype_cv,n_trials,scoring_metric,lcs_timeout)\n",
    "    \n",
    "    result_dict = {'algorithm':algorithm,'fpr':mean_fpr, 'tpr':mean_tpr, 'auc':mean_auc, 'prec':mean_prec, 'pr_auc':mean_pr_auc, 'ave_prec':mean_ave_prec}\n",
    "    pickle.dump(result_dict, open(wd_path+model_folder+'/Results_'+algorithm+'.sav', 'wb'))\n",
    "\n",
    "    #Sort averages (decreasing order and print top 'n' and plot top 'n'\n",
    "    names_scores = {'Names':ordered_feature_names, 'Scores':FI_ave} \n",
    "    ns = pd.DataFrame(names_scores)\n",
    "    ns = ns.sort_values(by='Scores',ascending = False)\n",
    "\n",
    "    #Select top 'n' to report and plot\n",
    "    print(\"\\n---Feature Importances---\\n\")\n",
    "    ns.head(topResults)\n",
    "\n",
    "    elapsed_time = time.time() - start_time\n",
    "    print('ExSTraCS 2.0 Run Time: '+ str(elapsed_time))\n",
    "    run_time_dict[algorithm] = elapsed_time"
   ],
   "outputs": [],
   "metadata": {
    "scrolled": true
   }
  },
  {
   "cell_type": "markdown",
   "source": [
    "## Run ExSTraCS 2.0 with QRF"
   ],
   "metadata": {}
  },
  {
   "cell_type": "code",
   "execution_count": null,
   "source": [
    "algorithm = 'ExSTraCS_QRF'\n",
    "if algorithm in algorithmsToRun:\n",
    "    start_time = time.time()\n",
    "    algColor = algColors[algorithmsToRun.index(algorithm)]\n",
    "    mean_fpr, mean_tpr, mean_auc, mean_prec, mean_pr_auc, mean_ave_prec, FI_ave = eval_Algorithm_FI(algorithm,ordered_feature_names,\n",
    "        xTrainList,yTrainList,xTestList,yTestList,cv_partitions,global_ordered_features,wd_path,output_folder,\n",
    "        data_name,randomSeed,param_grid,model_folder,algColor,hype_cv,n_trials,scoring_metric,lcs_timeout)\n",
    "    \n",
    "    result_dict = {'algorithm':algorithm,'fpr':mean_fpr, 'tpr':mean_tpr, 'auc':mean_auc, 'prec':mean_prec, 'pr_auc':mean_pr_auc, 'ave_prec':mean_ave_prec}\n",
    "    pickle.dump(result_dict, open(wd_path+model_folder+'/Results_'+algorithm+'.sav', 'wb'))\n",
    "\n",
    "    #Sort averages (decreasing order and print top 'n' and plot top 'n'\n",
    "    names_scores = {'Names':ordered_feature_names, 'Scores':FI_ave} \n",
    "    ns = pd.DataFrame(names_scores)\n",
    "    ns = ns.sort_values(by='Scores',ascending = False)\n",
    "\n",
    "    #Select top 'n' to report and plot\n",
    "    print(\"\\n---Feature Importances---\\n\")\n",
    "    ns.head(topResults)\n",
    "\n",
    "    elapsed_time = time.time() - start_time\n",
    "    print('ExSTraCS 2.0 with QRF Run Time: '+ str(elapsed_time))\n",
    "    run_time_dict[algorithm] = elapsed_time"
   ],
   "outputs": [],
   "metadata": {}
  },
  {
   "cell_type": "markdown",
   "source": [
    "## Run Gradient Boosting Classifier"
   ],
   "metadata": {}
  },
  {
   "cell_type": "code",
   "execution_count": null,
   "source": [
    "algorithm = 'gradient_boosting'\n",
    "if algorithm in algorithmsToRun:\n",
    "    start_time = time.time()\n",
    "    algColor = algColors[algorithmsToRun.index(algorithm)]\n",
    "    mean_fpr, mean_tpr, mean_auc, mean_prec, mean_pr_auc, mean_ave_prec, FI_ave = eval_Algorithm_FI(algorithm,ordered_feature_names,\n",
    "        xTrainList,yTrainList,xTestList,yTestList,cv_partitions,global_ordered_features,wd_path,output_folder,\n",
    "        data_name,randomSeed,param_grid,model_folder,algColor,hype_cv,n_trials,scoring_metric,timeout)\n",
    "    \n",
    "    result_dict = {'algorithm':algorithm,'fpr':mean_fpr, 'tpr':mean_tpr, 'auc':mean_auc, 'prec':mean_prec, 'pr_auc':mean_pr_auc, 'ave_prec':mean_ave_prec}\n",
    "    pickle.dump(result_dict, open(wd_path+model_folder+'/Results_'+algorithm+'.sav', 'wb'))\n",
    "\n",
    "    #Sort averages (decreasing order and print top 'n' and plot top 'n'\n",
    "    names_scores = {'Names':ordered_feature_names, 'Scores':FI_ave} \n",
    "    ns = pd.DataFrame(names_scores)\n",
    "    ns = ns.sort_values(by='Scores',ascending = False)\n",
    "\n",
    "    #Select top 'n' to report and plot\n",
    "    print(\"\\n---Feature Importances---\\n\")\n",
    "    ns.head(topResults)\n",
    "\n",
    "    elapsed_time = time.time() - start_time\n",
    "    print('Gradient Boosting Classifier Run Time: '+ str(elapsed_time))\n",
    "    run_time_dict[algorithm] = elapsed_time"
   ],
   "outputs": [],
   "metadata": {}
  },
  {
   "cell_type": "markdown",
   "source": [
    "## Run K-Neighbors Classifier"
   ],
   "metadata": {}
  },
  {
   "cell_type": "code",
   "execution_count": null,
   "source": [
    "algorithm = 'k_neighbors'\n",
    "if algorithm in algorithmsToRun:\n",
    "    start_time = time.time()\n",
    "    algColor = algColors[algorithmsToRun.index(algorithm)]\n",
    "    mean_fpr, mean_tpr, mean_auc, mean_prec, mean_pr_auc, mean_ave_prec, FI_ave = eval_Algorithm_FI(algorithm,ordered_feature_names,\n",
    "        xTrainList,yTrainList,xTestList,yTestList,cv_partitions,global_ordered_features,wd_path,output_folder,\n",
    "        data_name,randomSeed,param_grid,model_folder,algColor,hype_cv,n_trials,scoring_metric,timeout)\n",
    "    \n",
    "    result_dict = {'algorithm':algorithm,'fpr':mean_fpr, 'tpr':mean_tpr, 'auc':mean_auc, 'prec':mean_prec, 'pr_auc':mean_pr_auc, 'ave_prec':mean_ave_prec}\n",
    "    pickle.dump(result_dict, open(wd_path+model_folder+'/Results_'+algorithm+'.sav', 'wb'))\n",
    "\n",
    "    #Sort averages (decreasing order and print top 'n' and plot top 'n'\n",
    "    names_scores = {'Names':ordered_feature_names, 'Scores':FI_ave} \n",
    "    ns = pd.DataFrame(names_scores)\n",
    "    ns = ns.sort_values(by='Scores',ascending = False)\n",
    "\n",
    "    #Select top 'n' to report and plot\n",
    "    print(\"\\n---Feature Importances---\\n\")\n",
    "    ns.head(topResults)\n",
    "\n",
    "    elapsed_time = time.time() - start_time\n",
    "    print('K-Neighbors Run Time: '+ str(elapsed_time))\n",
    "    run_time_dict[algorithm] = elapsed_time"
   ],
   "outputs": [],
   "metadata": {}
  },
  {
   "cell_type": "markdown",
   "source": [
    "---\n",
    "# Review result table (for global ROC and PRC figure building)"
   ],
   "metadata": {}
  },
  {
   "cell_type": "code",
   "execution_count": null,
   "source": [
    "#Load pickle files of results\n",
    "result_table = []\n",
    "\n",
    "for algorithm in algorithmsToRun:\n",
    "    tempDict = pickle.load(open(wd_path+model_folder+'/Results_'+algorithm+'.sav', 'rb'))\n",
    "    result_table.append(tempDict)\n",
    "    \n",
    "result_table = pd.DataFrame.from_dict(result_table)"
   ],
   "outputs": [],
   "metadata": {}
  },
  {
   "cell_type": "code",
   "execution_count": null,
   "source": [
    "result_table\n",
    "result_table.set_index('algorithm', inplace=True)"
   ],
   "outputs": [],
   "metadata": {}
  },
  {
   "cell_type": "markdown",
   "source": [
    "---\n",
    "# ROC Plot Summarizing Analysis"
   ],
   "metadata": {}
  },
  {
   "cell_type": "code",
   "execution_count": null,
   "source": [
    "#Multi-algorithm ROC plot\n",
    "fig = plt.figure(figsize=(8,8))\n",
    "count = 0\n",
    "for i in result_table.index:\n",
    "    plt.plot(result_table.loc[i]['fpr'], \n",
    "             result_table.loc[i]['tpr'], color = algColors[count],\n",
    "             label=\"{}, AUC={:.3f}\".format(i, result_table.loc[i]['auc']))\n",
    "    count += 1\n",
    "    \n",
    "plt.plot([0,1], [0,1], color='orange', linestyle='--')\n",
    "\n",
    "plt.xticks(np.arange(0.0, 1.1, step=0.1))\n",
    "plt.xlabel(\"False Positive Rate\", fontsize=15)\n",
    "\n",
    "plt.yticks(np.arange(0.0, 1.1, step=0.1))\n",
    "plt.ylabel(\"True Positive Rate\", fontsize=15)\n",
    "\n",
    "plt.title('Comparing Algorithms: Testing Data with CV', fontweight='bold', fontsize=15)\n",
    "plt.legend(prop={'size':13}, loc='best')\n",
    "plt.savefig((wd_path+output_folder+'/'+'Compare_ROC_' + data_name), bbox_inches = \"tight\")\n",
    "plt.show()\n"
   ],
   "outputs": [],
   "metadata": {}
  },
  {
   "cell_type": "markdown",
   "source": [
    "---\n",
    "# PRC Plot Summarizing Analysis"
   ],
   "metadata": {}
  },
  {
   "cell_type": "code",
   "execution_count": null,
   "source": [
    "#Multi-algorithm PRC plot ['algorithm','fpr','tpr','auc','prec','pr_auc','ave_prec'])\n",
    "#result_table.set_index('algorithm', inplace=True)\n",
    "\n",
    "fig = plt.figure(figsize=(8,8))\n",
    "\n",
    "count = 0\n",
    "for i in result_table.index:\n",
    "    plt.plot(result_table.loc[i]['fpr'], \n",
    "             result_table.loc[i]['prec'], color = algColors[count],\n",
    "             label=\"{}, AUC={:.3f}, APS={:.3f}\".format(i, result_table.loc[i]['pr_auc'],result_table.loc[i]['ave_prec']))\n",
    "    count += 1\n",
    "noskill = len(yTestList[0][yTestList[0]==1]) / len(yTestList[0]) #Fraction of cases\n",
    "plt.plot([0,1], [noskill,noskill], color='orange', linestyle='--')\n",
    "\n",
    "plt.xticks(np.arange(0.0, 1.1, step=0.1))\n",
    "plt.xlabel(\"Recall\", fontsize=15)\n",
    "\n",
    "plt.yticks(np.arange(0.0, 1.1, step=0.1))\n",
    "plt.ylabel(\"Precision\", fontsize=15)\n",
    "\n",
    "plt.title('Comparing Algorithms: Testing Data with CV', fontweight='bold', fontsize=15)\n",
    "plt.legend(prop={'size':13}, loc='best')\n",
    "plt.savefig((wd_path+output_folder+'/'+'Compare_PRC_' + data_name), bbox_inches = \"tight\")\n",
    "plt.show()\n"
   ],
   "outputs": [],
   "metadata": {}
  },
  {
   "cell_type": "markdown",
   "source": [
    "---\n",
    "# Summarize Algorithm Metrics "
   ],
   "metadata": {}
  },
  {
   "cell_type": "code",
   "execution_count": null,
   "source": [
    "td = pd.read_csv(wd_path+output_folder+'/'+algorithmsToRun[0]+'_Metrics_'+data_name+'.csv')\n",
    "metrics = list(td.columns.values.tolist()) \n",
    "\n",
    "metric_summary = pd.DataFrame(index=metrics,columns=algorithmsToRun)\n",
    "master_list = []\n",
    "\n",
    "for algorithm in algorithmsToRun:\n",
    "    #Open file\n",
    "    td = pd.read_csv(wd_path+output_folder+'/'+algorithm+'_Metrics_'+data_name+'.csv')\n",
    "    master_list.append(td)\n",
    "    for metric in metrics:\n",
    "        ave = td[metric].mean()\n",
    "        sd = td[metric].std()\n",
    "        metric_summary.at[metric, algorithm] = str(round(ave,4))+' ('+str(round(sd,4))+')'\n",
    "    \n",
    "metric_summary.to_csv(wd_path+output_folder+'/'+'Summary_Algorithm_Metrics_'+data_name+'.csv')   "
   ],
   "outputs": [],
   "metadata": {}
  },
  {
   "cell_type": "code",
   "execution_count": null,
   "source": [
    "metric_summary"
   ],
   "outputs": [],
   "metadata": {}
  },
  {
   "cell_type": "markdown",
   "source": [
    "---\n",
    "# Performance Metric Boxplots Comparing Algorithms"
   ],
   "metadata": {}
  },
  {
   "cell_type": "code",
   "execution_count": null,
   "source": [
    "\n",
    "#For each metric\n",
    "for metric in metrics:\n",
    "    i = 0\n",
    "    tempList = []\n",
    "    for algorithm in algorithmsToRun:\n",
    "        temp_td = master_list[i]\n",
    "        tempList.append(temp_td[metric].tolist())\n",
    "        i += 1\n",
    "        \n",
    "    td = pd.DataFrame(tempList)\n",
    "    td = td.transpose()\n",
    "    td.columns = algorithmsToRun\n",
    "        \n",
    "    boxplot = td.boxplot(column=algorithmsToRun,rot=45)\n",
    "    plt.title('Comparing Algorithm '+ str(metric))\n",
    "    plt.ylabel(str(metric))\n",
    "    plt.xlabel('ML Algorithm')\n",
    "    plt.savefig((wd_path+output_folder+'/'+'Compare_'+str(metric)+'_Boxplot_'+data_name), bbox_inches = \"tight\")\n",
    "    plt.show()\n"
   ],
   "outputs": [],
   "metadata": {}
  },
  {
   "cell_type": "markdown",
   "source": [
    "---\n",
    "# Statistical Comparisons\n",
    "- Kruskal Wallis AOV comparing ML algorithms\n",
    "- Mann-Whitney U test - Pairwise algorithm differences  "
   ],
   "metadata": {}
  },
  {
   "cell_type": "markdown",
   "source": [
    "## Kruskal Wallis Test - Algorithm comparisons for each metric\n",
    "- Are any algorithms performing statistically better or worse? "
   ],
   "metadata": {}
  },
  {
   "cell_type": "markdown",
   "source": [
    "## Mann-Whiney Test - Pairwise Post-Hoc Analysis \n",
    "- For any metric where kruskal wallis test was significant."
   ],
   "metadata": {}
  },
  {
   "cell_type": "code",
   "execution_count": null,
   "source": [
    "if len(algorithmsToRun) > 1:\n",
    "    label = ['statistic','pvalue','sig']\n",
    "    kruskal_summary = pd.DataFrame(index=metrics,columns=label)\n",
    "    for metric in metrics:\n",
    "        tempArray = []\n",
    "        for i in range(len(algorithmsToRun)):\n",
    "            tempArray.append(master_list[i][metric])\n",
    "        try:\n",
    "            result = stats.kruskal(*tempArray)\n",
    "        except:\n",
    "            result = [tempArray[0],1]\n",
    "        #result = stats.kruskal(master_list[0][metric],master_list[1][metric],master_list[2][metric],master_list[3][metric],master_list[4][metric],master_list[5][metric],master_list[6][metric]) \n",
    "        kruskal_summary.at[metric, 'statistic'] = str(round(result[0],6))\n",
    "        kruskal_summary.at[metric, 'pvalue'] = str(round(result[1],6))\n",
    "        if result[1] < sig_cutoff:\n",
    "            kruskal_summary.at[metric, 'sig'] = str('*')\n",
    "        else:\n",
    "            kruskal_summary.at[metric, 'sig'] = str('')\n",
    "\n",
    "    kruskal_summary\n",
    "\n",
    "    kruskal_summary.to_csv(wd_path+output_folder+'/'+'Summary_Algorithm_KruskalWallis_'+data_name+'.csv')   "
   ],
   "outputs": [],
   "metadata": {}
  },
  {
   "cell_type": "code",
   "execution_count": null,
   "source": [
    "if len(algorithmsToRun) > 1:\n",
    "    algCount = len(algorithmsToRun)\n",
    "    for metric in metrics:\n",
    "        if kruskal_summary['sig'][metric] == '*':\n",
    "            mann_stats = []\n",
    "            #Balanced Accuracy\n",
    "            for i in range(0,algCount-1):\n",
    "                for j in range(i+1,algCount):\n",
    "                    set1 = master_list[i][metric]\n",
    "                    set2 = master_list[j][metric]\n",
    "\n",
    "                    #print('Mann-WhitneyU: '+str(algorithmsToRun[i])+' vs. '+str(algorithmsToRun[j]))\n",
    "                    try:\n",
    "                        report = stats.mannwhitneyu(set1,set2)\n",
    "                    except:\n",
    "                        report = [set1[0],1]\n",
    "                    #report\n",
    "                    tempstats = [algorithmsToRun[i], algorithmsToRun[j], report[0], report[1], '']\n",
    "                    if report[1] < sig_cutoff:\n",
    "                        tempstats[4] = '*'\n",
    "                    mann_stats.append(tempstats)\n",
    "\n",
    "            mann_stats_df = pd.DataFrame(mann_stats)\n",
    "            mann_stats_df.columns = ['Algorithm 1', 'Algorithm 2', 'statistic', 'p-value', 'sig']\n",
    "            filepath = wd_path+output_folder+'/'+'MannWhitney_'+str(metric)+'_'+data_name+'.csv'\n",
    "            mann_stats_df.to_csv(filepath, index = False) \n",
    "            mann_stats_df"
   ],
   "outputs": [],
   "metadata": {}
  },
  {
   "cell_type": "markdown",
   "source": [
    "---\n",
    "# Visualize Feature Importance Results Across Algorithms"
   ],
   "metadata": {}
  },
  {
   "cell_type": "markdown",
   "source": [
    "## Specify dataset specific paths/names"
   ],
   "metadata": {}
  },
  {
   "cell_type": "code",
   "execution_count": null,
   "source": [
    "figx = 24\n",
    "figy = 12\n",
    "    \n",
    "#Feature names to use in the final publication figures\n",
    "df = pd.read_csv(wd_path+output_folder+'/'+algorithmsToRun[0]+'_FI_'+data_name+'.csv')\n",
    "\n",
    "printfeatureNames = list(df.columns)\n",
    "print(printfeatureNames)"
   ],
   "outputs": [],
   "metadata": {}
  },
  {
   "cell_type": "markdown",
   "source": [
    "## Load feature importance and balanced accuracy results\n",
    "- Do this generically so that future algorithms can be added here\n",
    "- Identify a feature list for each algorithm (only features with average scores over zero)\n",
    "- Identify union of these feature lists - master feature list to be included in bar chart\n",
    "- Have a max_features to visualize - use ranking to reduce above list as needed to top n features only.\n",
    "- Add ability to load LCS or other external algorithm to these results"
   ],
   "metadata": {}
  },
  {
   "cell_type": "code",
   "execution_count": null,
   "source": [
    "#algorithm feature importance dataframe list (used to generate FI boxplots for each algorithm)\n",
    "fi_df_list = []\n",
    "#algorithm feature importance averages list (used to generate composite FI barplots)\n",
    "fi_ave_list = []\n",
    "#algorithm focus metric averages list (used in weighted FI viz)\n",
    "ave_metric_list = []\n",
    "#list of pre-feature selection features as they appear in FI reports for each algorithm\n",
    "all_feature_list = []"
   ],
   "outputs": [],
   "metadata": {}
  },
  {
   "cell_type": "code",
   "execution_count": null,
   "source": [
    "for each in algorithmsToRun:\n",
    "    #Get relevant feature importance info\n",
    "    temp_df = pd.read_csv(wd_path+output_folder+'/'+each+'_FI_'+data_name+'.csv')\n",
    "    if each == algorithmsToRun[0]: #Should be same for all algorithm files (i.e. all original features in standard CV dataset order)\n",
    "        all_feature_list = temp_df.columns.tolist()\n",
    "    fi_df_list.append(temp_df) \n",
    "    fi_ave_list.append(temp_df.mean().tolist())\n",
    "    \n",
    "    #Get relevant metric info\n",
    "    tmp_df = pd.read_csv(wd_path+output_folder+'/'+each+'_Metrics_'+data_name+'.csv')\n",
    "    ave_metric_list.append(tmp_df[focus_metric].mean())\n",
    "ave_metric_list"
   ],
   "outputs": [],
   "metadata": {}
  },
  {
   "cell_type": "markdown",
   "source": [
    "### Normalize average scores (Range 0-1)"
   ],
   "metadata": {}
  },
  {
   "cell_type": "code",
   "execution_count": null,
   "source": [
    "#Normalize average scores so all values range between 0 and 1 (important for combining FI's)\n",
    "fi_ave_norm_list = []\n",
    "for each in fi_ave_list: #each algorithm   \n",
    "    normList = []\n",
    "    for i in range(len(each)):\n",
    "        if each[i] <= 0:\n",
    "            normList.append(0)\n",
    "        else:\n",
    "            normList.append((each[i])/(max(each)))\n",
    "    fi_ave_norm_list.append(normList)\n"
   ],
   "outputs": [],
   "metadata": {}
  },
  {
   "cell_type": "markdown",
   "source": [
    "### Identify features with non-zero averages"
   ],
   "metadata": {}
  },
  {
   "cell_type": "code",
   "execution_count": null,
   "source": [
    "# For each algorithm identify all non-zero features\n",
    "alg_non_zero_FI_list = []\n",
    "for each in fi_ave_list: #each algorithm\n",
    "    \n",
    "    temp_non_zero_list = []\n",
    "    for i in range(len(each)): #each feature\n",
    "        if each[i] > 0.0:\n",
    "            temp_non_zero_list.append(all_feature_list[i])\n",
    "    \n",
    "    alg_non_zero_FI_list.append(temp_non_zero_list)"
   ],
   "outputs": [],
   "metadata": {}
  },
  {
   "cell_type": "markdown",
   "source": [
    "### Identify union of features with non-zero averages over all algorithms"
   ],
   "metadata": {}
  },
  {
   "cell_type": "code",
   "execution_count": null,
   "source": [
    "#Identify a union list over all algorithms of features with non-zero FI (These are candidates for vizualization)\n",
    "non_zero_union_features = alg_non_zero_FI_list[0] #grab first algorithm's list\n",
    "\n",
    "for j in range(1,len(algorithmsToRun)):\n",
    "    #print(j)\n",
    "    non_zero_union_features = list(set(non_zero_union_features) | set(alg_non_zero_FI_list[j]))\n",
    "\n",
    "#print(non_zero_union_features)\n",
    "\n",
    "non_zero_union_indexes = []\n",
    "for i in non_zero_union_features:\n",
    "    non_zero_union_indexes.append(all_feature_list.index(i))\n",
    "non_zero_union_indexes"
   ],
   "outputs": [],
   "metadata": {}
  },
  {
   "cell_type": "markdown",
   "source": [
    "### Identify list of top features over all algorithms to visualize"
   ],
   "metadata": {}
  },
  {
   "cell_type": "code",
   "execution_count": null,
   "source": [
    "#If remaining non-zero feature list is still larger than we want to visualize, pick only top features for visualization\n",
    "featuresToViz = None\n",
    "if len(non_zero_union_features) > topResults:\n",
    "    #Identify a top set of feature values\n",
    "    scoreSumDict = {}\n",
    "    i = 0\n",
    "    for each in non_zero_union_features: #for each non-zero feature\n",
    "        for j in range(len(algorithmsToRun)): #for each algorithm\n",
    "            #grab target score from each algorithm\n",
    "            score = fi_ave_norm_list[j][non_zero_union_indexes[i]]\n",
    "            #multiply score by algorithm performance weight\n",
    "            score = score*ave_metric_list[j]\n",
    "            if not each in scoreSumDict:\n",
    "                scoreSumDict[each] = score\n",
    "            else:\n",
    "                scoreSumDict[each] += score\n",
    "        i += 1\n",
    "        \n",
    "    for each in scoreSumDict:\n",
    "        scoreSumDict[each] = scoreSumDict[each]/ len(algorithmsToRun)\n",
    "    #print(scoreSumDict)\n",
    "\n",
    "    #Rank and select top features to visualize\n",
    "\n",
    "    #Sort features by decreasing score\n",
    "    scoreSumDict_features = sorted(scoreSumDict, key=lambda x: scoreSumDict[x], reverse=True)\n",
    "    #scoreSumDict_features\n",
    "\n",
    "    featuresToViz = scoreSumDict_features[0:topResults]\n",
    "    #featuresToViz\n",
    "else:\n",
    "    featuresToViz = non_zero_union_features #Ranked feature name order"
   ],
   "outputs": [],
   "metadata": {}
  },
  {
   "cell_type": "markdown",
   "source": [
    "## Generate individual feature importance boxplots for each algorithm"
   ],
   "metadata": {}
  },
  {
   "cell_type": "code",
   "execution_count": null,
   "source": [
    "counter = 0\n",
    "for df in fi_df_list:\n",
    "    fig = plt.figure(figsize=(15,4))\n",
    "    boxplot = df.boxplot(rot=90)\n",
    "    plt.title(algorithmsToRun[counter])\n",
    "    plt.ylabel('Feature Importance Score')\n",
    "    plt.xlabel('Features')\n",
    "    plt.xticks(np.arange(1,len(printfeatureNames)+1), printfeatureNames,rotation='vertical')\n",
    "    plt.savefig((wd_path+output_folder+'/'+algorithmsToRun[counter]+'_boxplot_' + data_name), bbox_inches = \"tight\")\n",
    "    plt.show()\n",
    "\n",
    "    counter += 1"
   ],
   "outputs": [],
   "metadata": {}
  },
  {
   "cell_type": "markdown",
   "source": [
    "### Create Normalized dataframes with feature viz subsets"
   ],
   "metadata": {}
  },
  {
   "cell_type": "code",
   "execution_count": null,
   "source": [
    "featuresToViz\n",
    "\n",
    "feature_indexToViz = []\n",
    "for i in featuresToViz:\n",
    "    feature_indexToViz.append(all_feature_list.index(i))\n",
    "feature_indexToViz\n",
    "\n",
    "#Preserve features in original dataset order for consistency\n",
    "top_fi_ave_norm_list = []\n",
    "for i in range(len(algorithmsToRun)):\n",
    "    tempList = []\n",
    "    for j in range(len(fi_ave_norm_list[i])):\n",
    "        if j in feature_indexToViz:\n",
    "            tempList.append(fi_ave_norm_list[i][j])\n",
    "    top_fi_ave_norm_list.append(tempList)\n",
    "\n",
    "#Create feature name list in propper order\n",
    "all_feature_listToViz = []\n",
    "for j in (all_feature_list):\n",
    "    if j in featuresToViz:\n",
    "        all_feature_listToViz.append(j)\n",
    "all_feature_listToViz"
   ],
   "outputs": [],
   "metadata": {}
  },
  {
   "cell_type": "code",
   "execution_count": null,
   "source": [
    "def compound_FI_plot(fi_list,algorithmsToRun,algColors,all_feature_listToViz,figName):\n",
    "    \n",
    "    # y-axis in bold\n",
    "    rc('font', weight='bold', size=16)\n",
    "    \n",
    "    # The position of the bars on the x-axis\n",
    "    r = all_feature_listToViz\n",
    "    barWidth = 0.75\n",
    "    plt.figure(figsize=(figx,figy))\n",
    "                \n",
    "    print(\"Plotting with \"+str(len(algorithmsToRun))+\" algorithms.\")\n",
    "    p1 = plt.bar(r, fi_list[0], color=algColors[0], edgecolor='white', width=barWidth)\n",
    "    \n",
    "    bottoms = []\n",
    "    for i in range(len(algorithmsToRun)-1):\n",
    "        for j in range(i+1):\n",
    "            if j == 0:\n",
    "                bottom = np.array(fi_list[0])\n",
    "            else:\n",
    "                bottom += np.array(fi_list[j])\n",
    "        bottoms.append(bottom)\n",
    "    \n",
    "    if not isinstance(bottoms,list):\n",
    "        bottoms = bottoms.tolist()\n",
    "    \n",
    "    ps = [p1[0]]\n",
    "    for i in range(len(algorithmsToRun)-1):\n",
    "        p = plt.bar(r, fi_list[i+1], bottom=bottoms[i], color=algColors[i+1], edgecolor='white', width=barWidth)\n",
    "        ps.append(p[0])\n",
    "    \n",
    "    lines = tuple(ps)\n",
    "        \n",
    "    # Custom X axis\n",
    "    plt.xticks(np.arange(len(all_feature_listToViz)), all_feature_listToViz,rotation='vertical')\n",
    "    plt.xlabel(\"Feature\", fontsize=20)\n",
    "    plt.ylabel(\"Normalized Feature Importance\", fontsize=20)\n",
    "    plt.legend(lines, methodsKey, loc=0,fontsize=16)\n",
    "    plt.savefig(wd_path+output_folder+'/Compare_FI_'+figName+'_'+data_name, bbox_inches = 'tight')\n",
    "    # Show graphic\n",
    "    plt.show()"
   ],
   "outputs": [],
   "metadata": {}
  },
  {
   "cell_type": "markdown",
   "source": [
    "## Compound Feature Importance Plot (Normalized only)"
   ],
   "metadata": {}
  },
  {
   "cell_type": "code",
   "execution_count": null,
   "source": [
    "compound_FI_plot(top_fi_ave_norm_list,algorithmsToRun,algColors,all_feature_listToViz,'Norm')"
   ],
   "outputs": [],
   "metadata": {
    "scrolled": true
   }
  },
  {
   "cell_type": "markdown",
   "source": [
    "##  Fraction Adjustment of Normalized Feature importances\n",
    "- Each scores from each algorithm divided by sum of all scores"
   ],
   "metadata": {}
  },
  {
   "cell_type": "code",
   "execution_count": null,
   "source": [
    "fracLists = []\n",
    "\n",
    "for each in top_fi_ave_norm_list:\n",
    "    fracList = []\n",
    "    for i in range(len(each)):\n",
    "        fracList.append((each[i]/(sum(each))))\n",
    "    fracLists.append(fracList)"
   ],
   "outputs": [],
   "metadata": {}
  },
  {
   "cell_type": "markdown",
   "source": [
    "## Compound Feature Importance Plot (Normalized + Fraction Adjustment)"
   ],
   "metadata": {}
  },
  {
   "cell_type": "code",
   "execution_count": null,
   "source": [
    "compound_FI_plot(fracLists,algorithmsToRun,algColors,all_feature_listToViz,'Norm_Frac')"
   ],
   "outputs": [],
   "metadata": {}
  },
  {
   "cell_type": "markdown",
   "source": [
    "##  Performance Weighting of Normalized Feature importances"
   ],
   "metadata": {}
  },
  {
   "cell_type": "code",
   "execution_count": null,
   "source": [
    "#Prepare weights\n",
    "weights = []\n",
    "\n",
    "# replace all balanced accuraces <=.5 with 0\n",
    "for i in range(len(ave_metric_list)):\n",
    "    if ave_metric_list[i] <= .5:\n",
    "        ave_metric_list[i] = 0\n",
    "\n",
    "# normalize balanced accuracies\n",
    "for i in range(len(ave_metric_list)):\n",
    "    if ave_metric_list[i] == 0:\n",
    "        weights.append(0)\n",
    "    else:\n",
    "        weights.append((ave_metric_list[i]-0.5)/0.5)\n",
    "        \n",
    "        \n",
    "# Weight normalized feature importances\n",
    "weightedLists = []\n",
    "\n",
    "for i in range(len(top_fi_ave_norm_list)):\n",
    "    weightList = np.multiply(weights[i],top_fi_ave_norm_list[i]).tolist()\n",
    "    weightedLists.append(weightList)"
   ],
   "outputs": [],
   "metadata": {}
  },
  {
   "cell_type": "markdown",
   "source": [
    "## Compound Feature Importance Plot (Normalized + Perf. Weight Adjustment)"
   ],
   "metadata": {}
  },
  {
   "cell_type": "code",
   "execution_count": null,
   "source": [
    "compound_FI_plot(weightedLists,algorithmsToRun,algColors,all_feature_listToViz,'Norm_Weight')"
   ],
   "outputs": [],
   "metadata": {}
  },
  {
   "cell_type": "markdown",
   "source": [
    "##  Performance Weighting of Fract. Adj. and Normalized Feature importances"
   ],
   "metadata": {}
  },
  {
   "cell_type": "code",
   "execution_count": null,
   "source": [
    "# Weight normalized feature importances\n",
    "weightedFracLists = []\n",
    "\n",
    "for i in range(len(fracLists)):\n",
    "    weightList = np.multiply(weights[i],fracLists[i]).tolist()\n",
    "    weightedFracLists.append(weightList)"
   ],
   "outputs": [],
   "metadata": {}
  },
  {
   "cell_type": "markdown",
   "source": [
    "## Compound Feature Importance Plot (Normalized + Frac. + Perf. Weight Adjustment)"
   ],
   "metadata": {}
  },
  {
   "cell_type": "code",
   "execution_count": null,
   "source": [
    "compound_FI_plot(weightedFracLists,algorithmsToRun,algColors,all_feature_listToViz,'Norm_Frac_Weight')"
   ],
   "outputs": [],
   "metadata": {}
  },
  {
   "cell_type": "markdown",
   "source": [
    "# Runtime Report"
   ],
   "metadata": {}
  },
  {
   "cell_type": "raw",
   "source": [
    "notebook_elapsed_time = time.time() - notebook_start_time\n",
    "print('Pipeline Run Time: '+ str(notebook_elapsed_time))\n",
    "run_time_dict['pipeline'] = notebook_elapsed_time\n",
    "print(run_time_dict)"
   ],
   "metadata": {}
  }
 ],
 "metadata": {
  "kernelspec": {
   "display_name": "Python 3",
   "language": "python",
   "name": "python3"
  },
  "language_info": {
   "codemirror_mode": {
    "name": "ipython",
    "version": 3
   },
   "file_extension": ".py",
   "mimetype": "text/x-python",
   "name": "python",
   "nbconvert_exporter": "python",
   "pygments_lexer": "ipython3",
   "version": "3.8.3"
  }
 },
 "nbformat": 4,
 "nbformat_minor": 2
}